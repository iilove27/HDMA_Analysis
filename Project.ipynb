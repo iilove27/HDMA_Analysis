{
 "cells": [
  {
   "cell_type": "markdown",
   "metadata": {},
   "source": [
    "# Fair or Not: Evidence from HMDA Data"
   ]
  },
  {
   "cell_type": "markdown",
   "metadata": {},
   "source": [
    "# ORIE 4741 Final Project —— Chenghao Li, Yiwei Zhang, Anji Zhao"
   ]
  },
  {
   "cell_type": "markdown",
   "metadata": {},
   "source": [
    "<h1>Table of Contents<span class=\"tocSkip\"></span></h1>\n",
    "<div class=\"toc\">\n",
    "    <ul class=\"toc-item\">\n",
    "        <li><span>\n",
    "            <a href=\"#0.Introduction\" data-toc-modified-id=\"0.Introduction-2\">\n",
    "                <span class=\"toc-item-num\">0&nbsp;&nbsp;</span>Introduction</a>\n",
    "        <li><span>\n",
    "            <a href=\"#1.Data-Preprocessing-——-Part-1\" data-toc-modified-id=\"1.Data-Preprocessing-——-Part-1-1\">\n",
    "                <span class=\"toc-item-num\">1&nbsp;&nbsp;</span>Data Preprocessing——Part 1</a>\n",
    "            </span></li>\n",
    "                <li><span>\n",
    "            <a href=\"#2.-Data-Visualization\" data-toc-modified-id=\"2.-Data-Visualization-1\">\n",
    "                <span class=\"toc-item-num\">2&nbsp;&nbsp;</span>Data Visualization</a>\n",
    "                    <li><span>\n",
    "            <a href=\"#3.-Data-Preprocessing-——-Part-2\" data-toc-modified-id=\"3.-Data-Preprocessing-——-Part-2-1\">\n",
    "                <span class=\"toc-item-num\">3&nbsp;&nbsp;</span>Data Preprocessing——Part 2</a>\n",
    "                        <li><span>\n",
    "            <a href=\"#4.-Model-Implementaion\" data-toc-modified-id=\"4.-Model-Implementaion-1\">\n",
    "                <span class=\"toc-item-num\">4&nbsp;&nbsp;</span>Model Implementaion</a>\n",
    "                            <li><span>\n",
    "            <a href=\"#5.-Evaluate-the-models-and-Future-Improvement\" data-toc-modified-id=\"5.-Evaluate-the-models-and-Future-Improvement-1\">\n",
    "                <span class=\"toc-item-num\">5&nbsp;&nbsp;</span>Evaluate the models and Future Improvement</a>\n",
    "                                <li><span>\n",
    "            <a href=\"#6.-References-of-Source-Code\" data-toc-modified-id=\"6.-References-of-Source-Code\">\n",
    "                <span class=\"toc-item-num\">6&nbsp;&nbsp;</span>References of Source Code</a>\n",
    " \n",
    " \n",
    " \n",
    "   </ul></div>"
   ]
  },
  {
   "cell_type": "markdown",
   "metadata": {},
   "source": [
    "## 0.Introduction"
   ]
  },
  {
   "cell_type": "markdown",
   "metadata": {},
   "source": [
    "In this project, we propose to apply machine learning algorithms we learned from the course ORIE 4741 to explore the Home Mortgage Disclosure Act (HMDA) Data. We try to answer the following question: Which type of the applicants is more likely to get credits and whether our model is unfair to some particular individuals or ethnicity groups? In order to answer this question, we plan to first clean the dataset and do some descriptive statistics to see if there are any patterns. Then we will implement supervised learning algorithms to do predictions for the mortgage applications. Also, we will do Principle Component Analysis to figure out particular features that are important to the predictions. Finally, we will examine the prediction results by different ethnicity groups to see whether our model is fair or not.\n",
    "\n",
    "Housing mortgage loan is one of the most important financial instruments that enable borrowing a property without paying the whole type. During the year of 2007 to 2008, mortgage loan was known as a crucial cause to the global financial crisis. Housing mortgage loan granting procesure theoretically relies on applicants' background information, and it is important for the banks to predict whether an applicant should be approved in order to avoid default risk. However, one model may not fit all people in this country. Different races, ethnicities, genders are supposed to have equal opportunities to get approved, therefore, it is also crucial to ensure the model takes only financial conditions into account.\n",
    "\n",
    "Since we focus on home mortgage opportunities in this project, the data set we plan to use is the Home Mortgage Disclosure Act (HMDA) listed in www.consumerfinance.gov from 2007 to 2012. The data set contains many valuable variables, such as denial reason, loan purpose, loan type, which can extract interesting information through appropriate modeling. Moreover, the HMDA data set contains variables about race, ethnicity and sex, which allows us to explore in depth whether the our fitted model is fair or not. In addition, our data set covers both the subprime mortgage crisis and the post-crisis period, so we can study the impact of the crisis over the housing mortgage system.\n",
    "\n",
    "The innovative part of the project are:"
   ]
  },
  {
   "cell_type": "markdown",
   "metadata": {},
   "source": [
    "## 1.Data Preprocessing —— Part 1"
   ]
  },
  {
   "cell_type": "markdown",
   "metadata": {},
   "source": [
    "### (1) Import the data and explore the data"
   ]
  },
  {
   "cell_type": "markdown",
   "metadata": {},
   "source": [
    "Data is here: https://www.consumerfinance.gov/data-research/hmda/historic-data/?geo=dc&records=all-records&field_descriptions=codes"
   ]
  },
  {
   "cell_type": "code",
   "execution_count": 86,
   "metadata": {},
   "outputs": [],
   "source": [
    "#Import relevant libraries\n",
    "import pandas as pd\n",
    "import numpy as np\n",
    "import matplotlib.pyplot as plt\n",
    "import seaborn as sns\n",
    "import copy\n",
    "%matplotlib inline"
   ]
  },
  {
   "cell_type": "code",
   "execution_count": 87,
   "metadata": {},
   "outputs": [],
   "source": [
    "#Import the data\n",
    "df_07 = pd.read_csv(\"hmda_2007_dc_all-records_codes.csv\")\n",
    "df_08 = pd.read_csv(\"hmda_2008_dc_all-records_codes.csv\")\n",
    "df_09 = pd.read_csv(\"hmda_2009_dc_all-records_codes.csv\")\n",
    "df_10 = pd.read_csv(\"hmda_2010_dc_all-records_codes.csv\")\n",
    "df_11 = pd.read_csv(\"hmda_2011_dc_all-records_codes.csv\")\n",
    "df_12 = pd.read_csv(\"hmda_2012_dc_all-records_codes.csv\")"
   ]
  },
  {
   "cell_type": "code",
   "execution_count": 88,
   "metadata": {},
   "outputs": [
    {
     "data": {
      "text/html": [
       "<div>\n",
       "<style scoped>\n",
       "    .dataframe tbody tr th:only-of-type {\n",
       "        vertical-align: middle;\n",
       "    }\n",
       "\n",
       "    .dataframe tbody tr th {\n",
       "        vertical-align: top;\n",
       "    }\n",
       "\n",
       "    .dataframe thead th {\n",
       "        text-align: right;\n",
       "    }\n",
       "</style>\n",
       "<table border=\"1\" class=\"dataframe\">\n",
       "  <thead>\n",
       "    <tr style=\"text-align: right;\">\n",
       "      <th></th>\n",
       "      <th>as_of_year</th>\n",
       "      <th>respondent_id</th>\n",
       "      <th>agency_code</th>\n",
       "      <th>loan_type</th>\n",
       "      <th>property_type</th>\n",
       "      <th>loan_purpose</th>\n",
       "      <th>owner_occupancy</th>\n",
       "      <th>loan_amount_000s</th>\n",
       "      <th>preapproval</th>\n",
       "      <th>action_taken</th>\n",
       "      <th>...</th>\n",
       "      <th>lien_status</th>\n",
       "      <th>edit_status</th>\n",
       "      <th>sequence_number</th>\n",
       "      <th>population</th>\n",
       "      <th>minority_population</th>\n",
       "      <th>hud_median_family_income</th>\n",
       "      <th>tract_to_msamd_income</th>\n",
       "      <th>number_of_owner_occupied_units</th>\n",
       "      <th>number_of_1_to_4_family_units</th>\n",
       "      <th>application_date_indicator</th>\n",
       "    </tr>\n",
       "  </thead>\n",
       "  <tbody>\n",
       "    <tr>\n",
       "      <th>0</th>\n",
       "      <td>2007</td>\n",
       "      <td>58-0692236</td>\n",
       "      <td>3</td>\n",
       "      <td>1</td>\n",
       "      <td>1</td>\n",
       "      <td>1</td>\n",
       "      <td>1</td>\n",
       "      <td>400</td>\n",
       "      <td>3</td>\n",
       "      <td>1</td>\n",
       "      <td>...</td>\n",
       "      <td>1</td>\n",
       "      <td>NaN</td>\n",
       "      <td>8675</td>\n",
       "      <td>2578.0</td>\n",
       "      <td>87.940002</td>\n",
       "      <td>92600.0</td>\n",
       "      <td>69.790001</td>\n",
       "      <td>807.0</td>\n",
       "      <td>1199.0</td>\n",
       "      <td>0</td>\n",
       "    </tr>\n",
       "    <tr>\n",
       "      <th>1</th>\n",
       "      <td>2007</td>\n",
       "      <td>0003211759</td>\n",
       "      <td>2</td>\n",
       "      <td>1</td>\n",
       "      <td>1</td>\n",
       "      <td>1</td>\n",
       "      <td>1</td>\n",
       "      <td>416</td>\n",
       "      <td>2</td>\n",
       "      <td>1</td>\n",
       "      <td>...</td>\n",
       "      <td>1</td>\n",
       "      <td>6.0</td>\n",
       "      <td>14</td>\n",
       "      <td>NaN</td>\n",
       "      <td>NaN</td>\n",
       "      <td>NaN</td>\n",
       "      <td>NaN</td>\n",
       "      <td>NaN</td>\n",
       "      <td>NaN</td>\n",
       "      <td>0</td>\n",
       "    </tr>\n",
       "    <tr>\n",
       "      <th>2</th>\n",
       "      <td>2007</td>\n",
       "      <td>33-0668958</td>\n",
       "      <td>7</td>\n",
       "      <td>1</td>\n",
       "      <td>1</td>\n",
       "      <td>3</td>\n",
       "      <td>1</td>\n",
       "      <td>340</td>\n",
       "      <td>3</td>\n",
       "      <td>1</td>\n",
       "      <td>...</td>\n",
       "      <td>1</td>\n",
       "      <td>NaN</td>\n",
       "      <td>126</td>\n",
       "      <td>NaN</td>\n",
       "      <td>NaN</td>\n",
       "      <td>NaN</td>\n",
       "      <td>NaN</td>\n",
       "      <td>NaN</td>\n",
       "      <td>NaN</td>\n",
       "      <td>0</td>\n",
       "    </tr>\n",
       "    <tr>\n",
       "      <th>3</th>\n",
       "      <td>2007</td>\n",
       "      <td>0003211759</td>\n",
       "      <td>2</td>\n",
       "      <td>1</td>\n",
       "      <td>1</td>\n",
       "      <td>1</td>\n",
       "      <td>1</td>\n",
       "      <td>200</td>\n",
       "      <td>2</td>\n",
       "      <td>1</td>\n",
       "      <td>...</td>\n",
       "      <td>1</td>\n",
       "      <td>6.0</td>\n",
       "      <td>16</td>\n",
       "      <td>NaN</td>\n",
       "      <td>NaN</td>\n",
       "      <td>NaN</td>\n",
       "      <td>NaN</td>\n",
       "      <td>NaN</td>\n",
       "      <td>NaN</td>\n",
       "      <td>0</td>\n",
       "    </tr>\n",
       "    <tr>\n",
       "      <th>4</th>\n",
       "      <td>2007</td>\n",
       "      <td>0001072246</td>\n",
       "      <td>2</td>\n",
       "      <td>1</td>\n",
       "      <td>1</td>\n",
       "      <td>1</td>\n",
       "      <td>2</td>\n",
       "      <td>71</td>\n",
       "      <td>2</td>\n",
       "      <td>1</td>\n",
       "      <td>...</td>\n",
       "      <td>2</td>\n",
       "      <td>NaN</td>\n",
       "      <td>343428</td>\n",
       "      <td>4696.0</td>\n",
       "      <td>24.809999</td>\n",
       "      <td>92600.0</td>\n",
       "      <td>134.149994</td>\n",
       "      <td>1097.0</td>\n",
       "      <td>581.0</td>\n",
       "      <td>0</td>\n",
       "    </tr>\n",
       "  </tbody>\n",
       "</table>\n",
       "<p>5 rows × 45 columns</p>\n",
       "</div>"
      ],
      "text/plain": [
       "   as_of_year respondent_id  agency_code  loan_type  property_type  \\\n",
       "0        2007    58-0692236            3          1              1   \n",
       "1        2007    0003211759            2          1              1   \n",
       "2        2007    33-0668958            7          1              1   \n",
       "3        2007    0003211759            2          1              1   \n",
       "4        2007    0001072246            2          1              1   \n",
       "\n",
       "   loan_purpose  owner_occupancy  loan_amount_000s  preapproval  action_taken  \\\n",
       "0             1                1               400            3             1   \n",
       "1             1                1               416            2             1   \n",
       "2             3                1               340            3             1   \n",
       "3             1                1               200            2             1   \n",
       "4             1                2                71            2             1   \n",
       "\n",
       "              ...              lien_status  edit_status  sequence_number  \\\n",
       "0             ...                        1          NaN             8675   \n",
       "1             ...                        1          6.0               14   \n",
       "2             ...                        1          NaN              126   \n",
       "3             ...                        1          6.0               16   \n",
       "4             ...                        2          NaN           343428   \n",
       "\n",
       "   population  minority_population  hud_median_family_income  \\\n",
       "0      2578.0            87.940002                   92600.0   \n",
       "1         NaN                  NaN                       NaN   \n",
       "2         NaN                  NaN                       NaN   \n",
       "3         NaN                  NaN                       NaN   \n",
       "4      4696.0            24.809999                   92600.0   \n",
       "\n",
       "   tract_to_msamd_income  number_of_owner_occupied_units  \\\n",
       "0              69.790001                           807.0   \n",
       "1                    NaN                             NaN   \n",
       "2                    NaN                             NaN   \n",
       "3                    NaN                             NaN   \n",
       "4             134.149994                          1097.0   \n",
       "\n",
       "   number_of_1_to_4_family_units  application_date_indicator  \n",
       "0                         1199.0                           0  \n",
       "1                            NaN                           0  \n",
       "2                            NaN                           0  \n",
       "3                            NaN                           0  \n",
       "4                          581.0                           0  \n",
       "\n",
       "[5 rows x 45 columns]"
      ]
     },
     "execution_count": 88,
     "metadata": {},
     "output_type": "execute_result"
    }
   ],
   "source": [
    "df_07.head()"
   ]
  },
  {
   "cell_type": "code",
   "execution_count": 89,
   "metadata": {},
   "outputs": [],
   "source": [
    "df = pd.concat([df_07, df_08, df_09, df_10, df_11, df_12])"
   ]
  },
  {
   "cell_type": "code",
   "execution_count": 90,
   "metadata": {},
   "outputs": [
    {
     "data": {
      "text/plain": [
       "Index(['as_of_year', 'respondent_id', 'agency_code', 'loan_type',\n",
       "       'property_type', 'loan_purpose', 'owner_occupancy', 'loan_amount_000s',\n",
       "       'preapproval', 'action_taken', 'msamd', 'state_code', 'county_code',\n",
       "       'census_tract_number', 'applicant_ethnicity', 'co_applicant_ethnicity',\n",
       "       'applicant_race_1', 'applicant_race_2', 'applicant_race_3',\n",
       "       'applicant_race_4', 'applicant_race_5', 'co_applicant_race_1',\n",
       "       'co_applicant_race_2', 'co_applicant_race_3', 'co_applicant_race_4',\n",
       "       'co_applicant_race_5', 'applicant_sex', 'co_applicant_sex',\n",
       "       'applicant_income_000s', 'purchaser_type', 'denial_reason_1',\n",
       "       'denial_reason_2', 'denial_reason_3', 'rate_spread', 'hoepa_status',\n",
       "       'lien_status', 'edit_status', 'sequence_number', 'population',\n",
       "       'minority_population', 'hud_median_family_income',\n",
       "       'tract_to_msamd_income', 'number_of_owner_occupied_units',\n",
       "       'number_of_1_to_4_family_units', 'application_date_indicator'],\n",
       "      dtype='object')"
      ]
     },
     "execution_count": 90,
     "metadata": {},
     "output_type": "execute_result"
    }
   ],
   "source": [
    "#showing the features\n",
    "df_07.columns"
   ]
  },
  {
   "cell_type": "code",
   "execution_count": 91,
   "metadata": {},
   "outputs": [
    {
     "data": {
      "text/plain": [
       "1    120923\n",
       "6     53720\n",
       "3     38211\n",
       "4     24017\n",
       "2     11469\n",
       "5      6605\n",
       "7        30\n",
       "8         1\n",
       "Name: action_taken, dtype: int64"
      ]
     },
     "execution_count": 91,
     "metadata": {},
     "output_type": "execute_result"
    }
   ],
   "source": [
    "df['action_taken'].value_counts()"
   ]
  },
  {
   "cell_type": "code",
   "execution_count": 92,
   "metadata": {},
   "outputs": [
    {
     "data": {
      "text/plain": [
       "1    89890\n",
       "3    28050\n",
       "6    23496\n",
       "4    16021\n",
       "2     8538\n",
       "5     4257\n",
       "7       22\n",
       "8        1\n",
       "Name: action_taken, dtype: int64"
      ]
     },
     "execution_count": 92,
     "metadata": {},
     "output_type": "execute_result"
    }
   ],
   "source": [
    "df = df.loc[(df['applicant_race_1'] == 3) | (df['applicant_race_1'] == 5), :]\n",
    "df['action_taken'].value_counts()"
   ]
  },
  {
   "cell_type": "code",
   "execution_count": 93,
   "metadata": {},
   "outputs": [
    {
     "data": {
      "text/plain": [
       "1    121925\n",
       "0     32329\n",
       "Name: action_taken, dtype: int64"
      ]
     },
     "execution_count": 93,
     "metadata": {},
     "output_type": "execute_result"
    }
   ],
   "source": [
    "df.loc[df.action_taken == 8, 'action_taken'] = 1\n",
    "df.loc[df.action_taken == 7, 'action_taken'] = 3\n",
    "df.loc[df.action_taken == 5, 'action_taken'] = 3\n",
    "df.loc[df.action_taken == 2, 'action_taken'] = 1\n",
    "df.loc[df.action_taken == 6, 'action_taken'] = 2\n",
    "df.loc[df.action_taken == 2, 'action_taken'] = 1\n",
    "df.loc[df.action_taken == 3, 'action_taken'] = 0\n",
    "df = df[df['action_taken'] != 4 ]\n",
    "df['action_taken'].value_counts()"
   ]
  },
  {
   "cell_type": "code",
   "execution_count": 190,
   "metadata": {},
   "outputs": [
    {
     "data": {
      "text/plain": [
       "5    96885\n",
       "3    56165\n",
       "Name: applicant_race_1, dtype: int64"
      ]
     },
     "execution_count": 190,
     "metadata": {},
     "output_type": "execute_result"
    }
   ],
   "source": [
    "df['applicant_race_1'].value_counts()"
   ]
  },
  {
   "cell_type": "markdown",
   "metadata": {},
   "source": [
    "### (2) Feature selection"
   ]
  },
  {
   "cell_type": "markdown",
   "metadata": {},
   "source": [
    "Drop those features which are (1) can be inferred from other features (colinearlity), (2) useless information (we have done some literature review works and knew some of the features have very little explantory power), (3) have missing value for almost all the observations."
   ]
  },
  {
   "cell_type": "code",
   "execution_count": 94,
   "metadata": {},
   "outputs": [
    {
     "data": {
      "text/html": [
       "<div>\n",
       "<style scoped>\n",
       "    .dataframe tbody tr th:only-of-type {\n",
       "        vertical-align: middle;\n",
       "    }\n",
       "\n",
       "    .dataframe tbody tr th {\n",
       "        vertical-align: top;\n",
       "    }\n",
       "\n",
       "    .dataframe thead th {\n",
       "        text-align: right;\n",
       "    }\n",
       "</style>\n",
       "<table border=\"1\" class=\"dataframe\">\n",
       "  <thead>\n",
       "    <tr style=\"text-align: right;\">\n",
       "      <th></th>\n",
       "      <th>action_taken</th>\n",
       "      <th>as_of_year</th>\n",
       "      <th>agency_code</th>\n",
       "      <th>loan_type</th>\n",
       "      <th>property_type</th>\n",
       "      <th>loan_purpose</th>\n",
       "      <th>owner_occupancy</th>\n",
       "      <th>loan_amount_000s</th>\n",
       "      <th>preapproval</th>\n",
       "      <th>applicant_ethnicity</th>\n",
       "      <th>co_applicant_ethnicity</th>\n",
       "      <th>applicant_race_1</th>\n",
       "      <th>co_applicant_race_1</th>\n",
       "      <th>applicant_sex</th>\n",
       "      <th>co_applicant_sex</th>\n",
       "      <th>applicant_income_000s</th>\n",
       "      <th>purchaser_type</th>\n",
       "    </tr>\n",
       "  </thead>\n",
       "  <tbody>\n",
       "    <tr>\n",
       "      <th>1</th>\n",
       "      <td>1</td>\n",
       "      <td>2007</td>\n",
       "      <td>2</td>\n",
       "      <td>1</td>\n",
       "      <td>1</td>\n",
       "      <td>1</td>\n",
       "      <td>1</td>\n",
       "      <td>416</td>\n",
       "      <td>2</td>\n",
       "      <td>2</td>\n",
       "      <td>5</td>\n",
       "      <td>3</td>\n",
       "      <td>8</td>\n",
       "      <td>2</td>\n",
       "      <td>5</td>\n",
       "      <td>NaN</td>\n",
       "      <td>7</td>\n",
       "    </tr>\n",
       "    <tr>\n",
       "      <th>2</th>\n",
       "      <td>1</td>\n",
       "      <td>2007</td>\n",
       "      <td>7</td>\n",
       "      <td>1</td>\n",
       "      <td>1</td>\n",
       "      <td>3</td>\n",
       "      <td>1</td>\n",
       "      <td>340</td>\n",
       "      <td>3</td>\n",
       "      <td>2</td>\n",
       "      <td>5</td>\n",
       "      <td>5</td>\n",
       "      <td>8</td>\n",
       "      <td>2</td>\n",
       "      <td>5</td>\n",
       "      <td>65.0</td>\n",
       "      <td>8</td>\n",
       "    </tr>\n",
       "    <tr>\n",
       "      <th>3</th>\n",
       "      <td>1</td>\n",
       "      <td>2007</td>\n",
       "      <td>2</td>\n",
       "      <td>1</td>\n",
       "      <td>1</td>\n",
       "      <td>1</td>\n",
       "      <td>1</td>\n",
       "      <td>200</td>\n",
       "      <td>2</td>\n",
       "      <td>2</td>\n",
       "      <td>5</td>\n",
       "      <td>3</td>\n",
       "      <td>8</td>\n",
       "      <td>2</td>\n",
       "      <td>5</td>\n",
       "      <td>NaN</td>\n",
       "      <td>7</td>\n",
       "    </tr>\n",
       "    <tr>\n",
       "      <th>4</th>\n",
       "      <td>1</td>\n",
       "      <td>2007</td>\n",
       "      <td>2</td>\n",
       "      <td>1</td>\n",
       "      <td>1</td>\n",
       "      <td>1</td>\n",
       "      <td>2</td>\n",
       "      <td>71</td>\n",
       "      <td>2</td>\n",
       "      <td>2</td>\n",
       "      <td>3</td>\n",
       "      <td>5</td>\n",
       "      <td>6</td>\n",
       "      <td>1</td>\n",
       "      <td>3</td>\n",
       "      <td>325.0</td>\n",
       "      <td>0</td>\n",
       "    </tr>\n",
       "    <tr>\n",
       "      <th>5</th>\n",
       "      <td>1</td>\n",
       "      <td>2007</td>\n",
       "      <td>2</td>\n",
       "      <td>1</td>\n",
       "      <td>1</td>\n",
       "      <td>1</td>\n",
       "      <td>1</td>\n",
       "      <td>920</td>\n",
       "      <td>2</td>\n",
       "      <td>1</td>\n",
       "      <td>5</td>\n",
       "      <td>5</td>\n",
       "      <td>8</td>\n",
       "      <td>1</td>\n",
       "      <td>5</td>\n",
       "      <td>NaN</td>\n",
       "      <td>7</td>\n",
       "    </tr>\n",
       "    <tr>\n",
       "      <th>6</th>\n",
       "      <td>1</td>\n",
       "      <td>2007</td>\n",
       "      <td>7</td>\n",
       "      <td>1</td>\n",
       "      <td>1</td>\n",
       "      <td>1</td>\n",
       "      <td>1</td>\n",
       "      <td>401</td>\n",
       "      <td>3</td>\n",
       "      <td>2</td>\n",
       "      <td>5</td>\n",
       "      <td>5</td>\n",
       "      <td>8</td>\n",
       "      <td>1</td>\n",
       "      <td>5</td>\n",
       "      <td>70.0</td>\n",
       "      <td>9</td>\n",
       "    </tr>\n",
       "    <tr>\n",
       "      <th>7</th>\n",
       "      <td>1</td>\n",
       "      <td>2007</td>\n",
       "      <td>2</td>\n",
       "      <td>1</td>\n",
       "      <td>1</td>\n",
       "      <td>1</td>\n",
       "      <td>1</td>\n",
       "      <td>95</td>\n",
       "      <td>2</td>\n",
       "      <td>2</td>\n",
       "      <td>5</td>\n",
       "      <td>3</td>\n",
       "      <td>8</td>\n",
       "      <td>1</td>\n",
       "      <td>5</td>\n",
       "      <td>NaN</td>\n",
       "      <td>7</td>\n",
       "    </tr>\n",
       "    <tr>\n",
       "      <th>8</th>\n",
       "      <td>1</td>\n",
       "      <td>2007</td>\n",
       "      <td>7</td>\n",
       "      <td>1</td>\n",
       "      <td>1</td>\n",
       "      <td>1</td>\n",
       "      <td>1</td>\n",
       "      <td>399</td>\n",
       "      <td>2</td>\n",
       "      <td>2</td>\n",
       "      <td>5</td>\n",
       "      <td>3</td>\n",
       "      <td>8</td>\n",
       "      <td>1</td>\n",
       "      <td>5</td>\n",
       "      <td>23.0</td>\n",
       "      <td>0</td>\n",
       "    </tr>\n",
       "    <tr>\n",
       "      <th>9</th>\n",
       "      <td>1</td>\n",
       "      <td>2007</td>\n",
       "      <td>2</td>\n",
       "      <td>1</td>\n",
       "      <td>1</td>\n",
       "      <td>1</td>\n",
       "      <td>1</td>\n",
       "      <td>379</td>\n",
       "      <td>2</td>\n",
       "      <td>2</td>\n",
       "      <td>5</td>\n",
       "      <td>3</td>\n",
       "      <td>8</td>\n",
       "      <td>1</td>\n",
       "      <td>5</td>\n",
       "      <td>NaN</td>\n",
       "      <td>7</td>\n",
       "    </tr>\n",
       "    <tr>\n",
       "      <th>11</th>\n",
       "      <td>1</td>\n",
       "      <td>2007</td>\n",
       "      <td>2</td>\n",
       "      <td>1</td>\n",
       "      <td>1</td>\n",
       "      <td>1</td>\n",
       "      <td>1</td>\n",
       "      <td>127</td>\n",
       "      <td>2</td>\n",
       "      <td>2</td>\n",
       "      <td>5</td>\n",
       "      <td>3</td>\n",
       "      <td>8</td>\n",
       "      <td>2</td>\n",
       "      <td>5</td>\n",
       "      <td>NaN</td>\n",
       "      <td>7</td>\n",
       "    </tr>\n",
       "    <tr>\n",
       "      <th>12</th>\n",
       "      <td>1</td>\n",
       "      <td>2007</td>\n",
       "      <td>1</td>\n",
       "      <td>1</td>\n",
       "      <td>1</td>\n",
       "      <td>3</td>\n",
       "      <td>1</td>\n",
       "      <td>322</td>\n",
       "      <td>3</td>\n",
       "      <td>2</td>\n",
       "      <td>2</td>\n",
       "      <td>5</td>\n",
       "      <td>5</td>\n",
       "      <td>1</td>\n",
       "      <td>2</td>\n",
       "      <td>63.0</td>\n",
       "      <td>1</td>\n",
       "    </tr>\n",
       "    <tr>\n",
       "      <th>13</th>\n",
       "      <td>1</td>\n",
       "      <td>2007</td>\n",
       "      <td>2</td>\n",
       "      <td>1</td>\n",
       "      <td>1</td>\n",
       "      <td>1</td>\n",
       "      <td>1</td>\n",
       "      <td>72</td>\n",
       "      <td>2</td>\n",
       "      <td>1</td>\n",
       "      <td>5</td>\n",
       "      <td>5</td>\n",
       "      <td>8</td>\n",
       "      <td>2</td>\n",
       "      <td>5</td>\n",
       "      <td>NaN</td>\n",
       "      <td>0</td>\n",
       "    </tr>\n",
       "    <tr>\n",
       "      <th>15</th>\n",
       "      <td>1</td>\n",
       "      <td>2007</td>\n",
       "      <td>2</td>\n",
       "      <td>1</td>\n",
       "      <td>1</td>\n",
       "      <td>3</td>\n",
       "      <td>1</td>\n",
       "      <td>480</td>\n",
       "      <td>3</td>\n",
       "      <td>2</td>\n",
       "      <td>5</td>\n",
       "      <td>5</td>\n",
       "      <td>8</td>\n",
       "      <td>2</td>\n",
       "      <td>5</td>\n",
       "      <td>NaN</td>\n",
       "      <td>7</td>\n",
       "    </tr>\n",
       "    <tr>\n",
       "      <th>16</th>\n",
       "      <td>0</td>\n",
       "      <td>2007</td>\n",
       "      <td>1</td>\n",
       "      <td>1</td>\n",
       "      <td>1</td>\n",
       "      <td>2</td>\n",
       "      <td>1</td>\n",
       "      <td>100</td>\n",
       "      <td>3</td>\n",
       "      <td>2</td>\n",
       "      <td>2</td>\n",
       "      <td>5</td>\n",
       "      <td>5</td>\n",
       "      <td>2</td>\n",
       "      <td>1</td>\n",
       "      <td>192.0</td>\n",
       "      <td>0</td>\n",
       "    </tr>\n",
       "    <tr>\n",
       "      <th>17</th>\n",
       "      <td>1</td>\n",
       "      <td>2007</td>\n",
       "      <td>2</td>\n",
       "      <td>1</td>\n",
       "      <td>1</td>\n",
       "      <td>3</td>\n",
       "      <td>1</td>\n",
       "      <td>811</td>\n",
       "      <td>3</td>\n",
       "      <td>2</td>\n",
       "      <td>5</td>\n",
       "      <td>5</td>\n",
       "      <td>8</td>\n",
       "      <td>1</td>\n",
       "      <td>5</td>\n",
       "      <td>NaN</td>\n",
       "      <td>7</td>\n",
       "    </tr>\n",
       "    <tr>\n",
       "      <th>18</th>\n",
       "      <td>1</td>\n",
       "      <td>2007</td>\n",
       "      <td>2</td>\n",
       "      <td>1</td>\n",
       "      <td>1</td>\n",
       "      <td>1</td>\n",
       "      <td>1</td>\n",
       "      <td>112</td>\n",
       "      <td>2</td>\n",
       "      <td>2</td>\n",
       "      <td>5</td>\n",
       "      <td>3</td>\n",
       "      <td>8</td>\n",
       "      <td>1</td>\n",
       "      <td>5</td>\n",
       "      <td>28.0</td>\n",
       "      <td>9</td>\n",
       "    </tr>\n",
       "    <tr>\n",
       "      <th>19</th>\n",
       "      <td>1</td>\n",
       "      <td>2007</td>\n",
       "      <td>2</td>\n",
       "      <td>1</td>\n",
       "      <td>1</td>\n",
       "      <td>3</td>\n",
       "      <td>2</td>\n",
       "      <td>350</td>\n",
       "      <td>3</td>\n",
       "      <td>2</td>\n",
       "      <td>5</td>\n",
       "      <td>3</td>\n",
       "      <td>8</td>\n",
       "      <td>1</td>\n",
       "      <td>5</td>\n",
       "      <td>NaN</td>\n",
       "      <td>7</td>\n",
       "    </tr>\n",
       "    <tr>\n",
       "      <th>20</th>\n",
       "      <td>1</td>\n",
       "      <td>2007</td>\n",
       "      <td>7</td>\n",
       "      <td>1</td>\n",
       "      <td>1</td>\n",
       "      <td>1</td>\n",
       "      <td>1</td>\n",
       "      <td>252</td>\n",
       "      <td>2</td>\n",
       "      <td>2</td>\n",
       "      <td>5</td>\n",
       "      <td>5</td>\n",
       "      <td>8</td>\n",
       "      <td>1</td>\n",
       "      <td>5</td>\n",
       "      <td>74.0</td>\n",
       "      <td>0</td>\n",
       "    </tr>\n",
       "    <tr>\n",
       "      <th>22</th>\n",
       "      <td>0</td>\n",
       "      <td>2007</td>\n",
       "      <td>4</td>\n",
       "      <td>1</td>\n",
       "      <td>1</td>\n",
       "      <td>3</td>\n",
       "      <td>2</td>\n",
       "      <td>873</td>\n",
       "      <td>3</td>\n",
       "      <td>2</td>\n",
       "      <td>5</td>\n",
       "      <td>3</td>\n",
       "      <td>8</td>\n",
       "      <td>3</td>\n",
       "      <td>5</td>\n",
       "      <td>305.0</td>\n",
       "      <td>0</td>\n",
       "    </tr>\n",
       "    <tr>\n",
       "      <th>23</th>\n",
       "      <td>1</td>\n",
       "      <td>2007</td>\n",
       "      <td>7</td>\n",
       "      <td>1</td>\n",
       "      <td>1</td>\n",
       "      <td>3</td>\n",
       "      <td>1</td>\n",
       "      <td>133</td>\n",
       "      <td>3</td>\n",
       "      <td>2</td>\n",
       "      <td>5</td>\n",
       "      <td>3</td>\n",
       "      <td>8</td>\n",
       "      <td>2</td>\n",
       "      <td>5</td>\n",
       "      <td>62.0</td>\n",
       "      <td>6</td>\n",
       "    </tr>\n",
       "    <tr>\n",
       "      <th>24</th>\n",
       "      <td>1</td>\n",
       "      <td>2007</td>\n",
       "      <td>4</td>\n",
       "      <td>1</td>\n",
       "      <td>1</td>\n",
       "      <td>3</td>\n",
       "      <td>1</td>\n",
       "      <td>600</td>\n",
       "      <td>3</td>\n",
       "      <td>2</td>\n",
       "      <td>2</td>\n",
       "      <td>5</td>\n",
       "      <td>5</td>\n",
       "      <td>1</td>\n",
       "      <td>1</td>\n",
       "      <td>188.0</td>\n",
       "      <td>8</td>\n",
       "    </tr>\n",
       "    <tr>\n",
       "      <th>25</th>\n",
       "      <td>1</td>\n",
       "      <td>2007</td>\n",
       "      <td>7</td>\n",
       "      <td>1</td>\n",
       "      <td>1</td>\n",
       "      <td>1</td>\n",
       "      <td>1</td>\n",
       "      <td>48</td>\n",
       "      <td>2</td>\n",
       "      <td>2</td>\n",
       "      <td>5</td>\n",
       "      <td>5</td>\n",
       "      <td>8</td>\n",
       "      <td>1</td>\n",
       "      <td>5</td>\n",
       "      <td>78.0</td>\n",
       "      <td>1</td>\n",
       "    </tr>\n",
       "    <tr>\n",
       "      <th>27</th>\n",
       "      <td>1</td>\n",
       "      <td>2007</td>\n",
       "      <td>7</td>\n",
       "      <td>1</td>\n",
       "      <td>1</td>\n",
       "      <td>1</td>\n",
       "      <td>1</td>\n",
       "      <td>696</td>\n",
       "      <td>2</td>\n",
       "      <td>2</td>\n",
       "      <td>2</td>\n",
       "      <td>5</td>\n",
       "      <td>5</td>\n",
       "      <td>1</td>\n",
       "      <td>2</td>\n",
       "      <td>235.0</td>\n",
       "      <td>1</td>\n",
       "    </tr>\n",
       "    <tr>\n",
       "      <th>30</th>\n",
       "      <td>1</td>\n",
       "      <td>2007</td>\n",
       "      <td>1</td>\n",
       "      <td>1</td>\n",
       "      <td>1</td>\n",
       "      <td>1</td>\n",
       "      <td>1</td>\n",
       "      <td>399</td>\n",
       "      <td>2</td>\n",
       "      <td>2</td>\n",
       "      <td>5</td>\n",
       "      <td>5</td>\n",
       "      <td>8</td>\n",
       "      <td>1</td>\n",
       "      <td>5</td>\n",
       "      <td>70.0</td>\n",
       "      <td>1</td>\n",
       "    </tr>\n",
       "    <tr>\n",
       "      <th>31</th>\n",
       "      <td>1</td>\n",
       "      <td>2007</td>\n",
       "      <td>7</td>\n",
       "      <td>1</td>\n",
       "      <td>1</td>\n",
       "      <td>1</td>\n",
       "      <td>1</td>\n",
       "      <td>360</td>\n",
       "      <td>2</td>\n",
       "      <td>2</td>\n",
       "      <td>2</td>\n",
       "      <td>5</td>\n",
       "      <td>5</td>\n",
       "      <td>1</td>\n",
       "      <td>2</td>\n",
       "      <td>185.0</td>\n",
       "      <td>1</td>\n",
       "    </tr>\n",
       "    <tr>\n",
       "      <th>32</th>\n",
       "      <td>1</td>\n",
       "      <td>2007</td>\n",
       "      <td>1</td>\n",
       "      <td>1</td>\n",
       "      <td>1</td>\n",
       "      <td>3</td>\n",
       "      <td>1</td>\n",
       "      <td>252</td>\n",
       "      <td>3</td>\n",
       "      <td>2</td>\n",
       "      <td>2</td>\n",
       "      <td>5</td>\n",
       "      <td>5</td>\n",
       "      <td>1</td>\n",
       "      <td>2</td>\n",
       "      <td>135.0</td>\n",
       "      <td>0</td>\n",
       "    </tr>\n",
       "    <tr>\n",
       "      <th>33</th>\n",
       "      <td>1</td>\n",
       "      <td>2007</td>\n",
       "      <td>7</td>\n",
       "      <td>1</td>\n",
       "      <td>1</td>\n",
       "      <td>1</td>\n",
       "      <td>1</td>\n",
       "      <td>261</td>\n",
       "      <td>2</td>\n",
       "      <td>1</td>\n",
       "      <td>5</td>\n",
       "      <td>5</td>\n",
       "      <td>8</td>\n",
       "      <td>1</td>\n",
       "      <td>5</td>\n",
       "      <td>72.0</td>\n",
       "      <td>1</td>\n",
       "    </tr>\n",
       "    <tr>\n",
       "      <th>34</th>\n",
       "      <td>0</td>\n",
       "      <td>2007</td>\n",
       "      <td>1</td>\n",
       "      <td>1</td>\n",
       "      <td>1</td>\n",
       "      <td>3</td>\n",
       "      <td>1</td>\n",
       "      <td>240</td>\n",
       "      <td>3</td>\n",
       "      <td>2</td>\n",
       "      <td>5</td>\n",
       "      <td>3</td>\n",
       "      <td>8</td>\n",
       "      <td>2</td>\n",
       "      <td>5</td>\n",
       "      <td>54.0</td>\n",
       "      <td>0</td>\n",
       "    </tr>\n",
       "    <tr>\n",
       "      <th>36</th>\n",
       "      <td>1</td>\n",
       "      <td>2007</td>\n",
       "      <td>4</td>\n",
       "      <td>1</td>\n",
       "      <td>1</td>\n",
       "      <td>3</td>\n",
       "      <td>1</td>\n",
       "      <td>417</td>\n",
       "      <td>3</td>\n",
       "      <td>2</td>\n",
       "      <td>2</td>\n",
       "      <td>5</td>\n",
       "      <td>5</td>\n",
       "      <td>1</td>\n",
       "      <td>2</td>\n",
       "      <td>141.0</td>\n",
       "      <td>7</td>\n",
       "    </tr>\n",
       "    <tr>\n",
       "      <th>39</th>\n",
       "      <td>1</td>\n",
       "      <td>2007</td>\n",
       "      <td>7</td>\n",
       "      <td>1</td>\n",
       "      <td>1</td>\n",
       "      <td>1</td>\n",
       "      <td>1</td>\n",
       "      <td>72</td>\n",
       "      <td>2</td>\n",
       "      <td>1</td>\n",
       "      <td>5</td>\n",
       "      <td>5</td>\n",
       "      <td>8</td>\n",
       "      <td>2</td>\n",
       "      <td>5</td>\n",
       "      <td>72.0</td>\n",
       "      <td>1</td>\n",
       "    </tr>\n",
       "    <tr>\n",
       "      <th>...</th>\n",
       "      <td>...</td>\n",
       "      <td>...</td>\n",
       "      <td>...</td>\n",
       "      <td>...</td>\n",
       "      <td>...</td>\n",
       "      <td>...</td>\n",
       "      <td>...</td>\n",
       "      <td>...</td>\n",
       "      <td>...</td>\n",
       "      <td>...</td>\n",
       "      <td>...</td>\n",
       "      <td>...</td>\n",
       "      <td>...</td>\n",
       "      <td>...</td>\n",
       "      <td>...</td>\n",
       "      <td>...</td>\n",
       "      <td>...</td>\n",
       "    </tr>\n",
       "    <tr>\n",
       "      <th>48495</th>\n",
       "      <td>1</td>\n",
       "      <td>2012</td>\n",
       "      <td>9</td>\n",
       "      <td>1</td>\n",
       "      <td>1</td>\n",
       "      <td>3</td>\n",
       "      <td>1</td>\n",
       "      <td>340</td>\n",
       "      <td>3</td>\n",
       "      <td>2</td>\n",
       "      <td>2</td>\n",
       "      <td>5</td>\n",
       "      <td>5</td>\n",
       "      <td>1</td>\n",
       "      <td>2</td>\n",
       "      <td>100.0</td>\n",
       "      <td>1</td>\n",
       "    </tr>\n",
       "    <tr>\n",
       "      <th>48501</th>\n",
       "      <td>1</td>\n",
       "      <td>2012</td>\n",
       "      <td>9</td>\n",
       "      <td>3</td>\n",
       "      <td>1</td>\n",
       "      <td>1</td>\n",
       "      <td>1</td>\n",
       "      <td>153</td>\n",
       "      <td>3</td>\n",
       "      <td>2</td>\n",
       "      <td>5</td>\n",
       "      <td>3</td>\n",
       "      <td>8</td>\n",
       "      <td>1</td>\n",
       "      <td>5</td>\n",
       "      <td>39.0</td>\n",
       "      <td>2</td>\n",
       "    </tr>\n",
       "    <tr>\n",
       "      <th>48503</th>\n",
       "      <td>1</td>\n",
       "      <td>2012</td>\n",
       "      <td>9</td>\n",
       "      <td>1</td>\n",
       "      <td>1</td>\n",
       "      <td>3</td>\n",
       "      <td>2</td>\n",
       "      <td>414</td>\n",
       "      <td>3</td>\n",
       "      <td>2</td>\n",
       "      <td>3</td>\n",
       "      <td>5</td>\n",
       "      <td>5</td>\n",
       "      <td>2</td>\n",
       "      <td>1</td>\n",
       "      <td>179.0</td>\n",
       "      <td>1</td>\n",
       "    </tr>\n",
       "    <tr>\n",
       "      <th>48505</th>\n",
       "      <td>1</td>\n",
       "      <td>2012</td>\n",
       "      <td>9</td>\n",
       "      <td>1</td>\n",
       "      <td>1</td>\n",
       "      <td>1</td>\n",
       "      <td>1</td>\n",
       "      <td>341</td>\n",
       "      <td>3</td>\n",
       "      <td>2</td>\n",
       "      <td>5</td>\n",
       "      <td>5</td>\n",
       "      <td>8</td>\n",
       "      <td>2</td>\n",
       "      <td>5</td>\n",
       "      <td>85.0</td>\n",
       "      <td>0</td>\n",
       "    </tr>\n",
       "    <tr>\n",
       "      <th>48521</th>\n",
       "      <td>1</td>\n",
       "      <td>2012</td>\n",
       "      <td>9</td>\n",
       "      <td>1</td>\n",
       "      <td>1</td>\n",
       "      <td>3</td>\n",
       "      <td>1</td>\n",
       "      <td>243</td>\n",
       "      <td>3</td>\n",
       "      <td>2</td>\n",
       "      <td>5</td>\n",
       "      <td>5</td>\n",
       "      <td>8</td>\n",
       "      <td>1</td>\n",
       "      <td>5</td>\n",
       "      <td>64.0</td>\n",
       "      <td>1</td>\n",
       "    </tr>\n",
       "    <tr>\n",
       "      <th>48527</th>\n",
       "      <td>1</td>\n",
       "      <td>2012</td>\n",
       "      <td>9</td>\n",
       "      <td>2</td>\n",
       "      <td>1</td>\n",
       "      <td>3</td>\n",
       "      <td>1</td>\n",
       "      <td>243</td>\n",
       "      <td>3</td>\n",
       "      <td>2</td>\n",
       "      <td>5</td>\n",
       "      <td>3</td>\n",
       "      <td>8</td>\n",
       "      <td>1</td>\n",
       "      <td>5</td>\n",
       "      <td>89.0</td>\n",
       "      <td>2</td>\n",
       "    </tr>\n",
       "    <tr>\n",
       "      <th>48543</th>\n",
       "      <td>1</td>\n",
       "      <td>2012</td>\n",
       "      <td>9</td>\n",
       "      <td>2</td>\n",
       "      <td>1</td>\n",
       "      <td>1</td>\n",
       "      <td>1</td>\n",
       "      <td>111</td>\n",
       "      <td>3</td>\n",
       "      <td>2</td>\n",
       "      <td>5</td>\n",
       "      <td>3</td>\n",
       "      <td>8</td>\n",
       "      <td>2</td>\n",
       "      <td>5</td>\n",
       "      <td>38.0</td>\n",
       "      <td>2</td>\n",
       "    </tr>\n",
       "    <tr>\n",
       "      <th>48545</th>\n",
       "      <td>1</td>\n",
       "      <td>2012</td>\n",
       "      <td>9</td>\n",
       "      <td>1</td>\n",
       "      <td>1</td>\n",
       "      <td>3</td>\n",
       "      <td>1</td>\n",
       "      <td>598</td>\n",
       "      <td>3</td>\n",
       "      <td>3</td>\n",
       "      <td>3</td>\n",
       "      <td>5</td>\n",
       "      <td>5</td>\n",
       "      <td>1</td>\n",
       "      <td>2</td>\n",
       "      <td>251.0</td>\n",
       "      <td>1</td>\n",
       "    </tr>\n",
       "    <tr>\n",
       "      <th>48553</th>\n",
       "      <td>1</td>\n",
       "      <td>2012</td>\n",
       "      <td>9</td>\n",
       "      <td>1</td>\n",
       "      <td>1</td>\n",
       "      <td>3</td>\n",
       "      <td>1</td>\n",
       "      <td>167</td>\n",
       "      <td>3</td>\n",
       "      <td>2</td>\n",
       "      <td>5</td>\n",
       "      <td>5</td>\n",
       "      <td>8</td>\n",
       "      <td>2</td>\n",
       "      <td>5</td>\n",
       "      <td>180.0</td>\n",
       "      <td>1</td>\n",
       "    </tr>\n",
       "    <tr>\n",
       "      <th>48555</th>\n",
       "      <td>1</td>\n",
       "      <td>2012</td>\n",
       "      <td>9</td>\n",
       "      <td>1</td>\n",
       "      <td>1</td>\n",
       "      <td>3</td>\n",
       "      <td>1</td>\n",
       "      <td>605</td>\n",
       "      <td>3</td>\n",
       "      <td>2</td>\n",
       "      <td>2</td>\n",
       "      <td>5</td>\n",
       "      <td>5</td>\n",
       "      <td>1</td>\n",
       "      <td>2</td>\n",
       "      <td>222.0</td>\n",
       "      <td>1</td>\n",
       "    </tr>\n",
       "    <tr>\n",
       "      <th>48561</th>\n",
       "      <td>1</td>\n",
       "      <td>2012</td>\n",
       "      <td>9</td>\n",
       "      <td>1</td>\n",
       "      <td>1</td>\n",
       "      <td>3</td>\n",
       "      <td>1</td>\n",
       "      <td>205</td>\n",
       "      <td>3</td>\n",
       "      <td>2</td>\n",
       "      <td>2</td>\n",
       "      <td>5</td>\n",
       "      <td>5</td>\n",
       "      <td>2</td>\n",
       "      <td>1</td>\n",
       "      <td>247.0</td>\n",
       "      <td>3</td>\n",
       "    </tr>\n",
       "    <tr>\n",
       "      <th>48563</th>\n",
       "      <td>1</td>\n",
       "      <td>2012</td>\n",
       "      <td>9</td>\n",
       "      <td>1</td>\n",
       "      <td>1</td>\n",
       "      <td>1</td>\n",
       "      <td>1</td>\n",
       "      <td>190</td>\n",
       "      <td>3</td>\n",
       "      <td>2</td>\n",
       "      <td>5</td>\n",
       "      <td>5</td>\n",
       "      <td>8</td>\n",
       "      <td>3</td>\n",
       "      <td>5</td>\n",
       "      <td>92.0</td>\n",
       "      <td>1</td>\n",
       "    </tr>\n",
       "    <tr>\n",
       "      <th>48565</th>\n",
       "      <td>1</td>\n",
       "      <td>2012</td>\n",
       "      <td>9</td>\n",
       "      <td>1</td>\n",
       "      <td>1</td>\n",
       "      <td>3</td>\n",
       "      <td>1</td>\n",
       "      <td>626</td>\n",
       "      <td>3</td>\n",
       "      <td>2</td>\n",
       "      <td>2</td>\n",
       "      <td>5</td>\n",
       "      <td>5</td>\n",
       "      <td>1</td>\n",
       "      <td>2</td>\n",
       "      <td>440.0</td>\n",
       "      <td>1</td>\n",
       "    </tr>\n",
       "    <tr>\n",
       "      <th>48566</th>\n",
       "      <td>0</td>\n",
       "      <td>2012</td>\n",
       "      <td>9</td>\n",
       "      <td>1</td>\n",
       "      <td>2</td>\n",
       "      <td>2</td>\n",
       "      <td>1</td>\n",
       "      <td>25</td>\n",
       "      <td>3</td>\n",
       "      <td>2</td>\n",
       "      <td>5</td>\n",
       "      <td>3</td>\n",
       "      <td>8</td>\n",
       "      <td>1</td>\n",
       "      <td>5</td>\n",
       "      <td>38.0</td>\n",
       "      <td>0</td>\n",
       "    </tr>\n",
       "    <tr>\n",
       "      <th>48568</th>\n",
       "      <td>0</td>\n",
       "      <td>2012</td>\n",
       "      <td>9</td>\n",
       "      <td>1</td>\n",
       "      <td>2</td>\n",
       "      <td>2</td>\n",
       "      <td>1</td>\n",
       "      <td>10</td>\n",
       "      <td>3</td>\n",
       "      <td>2</td>\n",
       "      <td>5</td>\n",
       "      <td>3</td>\n",
       "      <td>8</td>\n",
       "      <td>2</td>\n",
       "      <td>5</td>\n",
       "      <td>28.0</td>\n",
       "      <td>0</td>\n",
       "    </tr>\n",
       "    <tr>\n",
       "      <th>48570</th>\n",
       "      <td>0</td>\n",
       "      <td>2012</td>\n",
       "      <td>9</td>\n",
       "      <td>1</td>\n",
       "      <td>2</td>\n",
       "      <td>2</td>\n",
       "      <td>1</td>\n",
       "      <td>7</td>\n",
       "      <td>3</td>\n",
       "      <td>2</td>\n",
       "      <td>2</td>\n",
       "      <td>3</td>\n",
       "      <td>3</td>\n",
       "      <td>2</td>\n",
       "      <td>2</td>\n",
       "      <td>337.0</td>\n",
       "      <td>0</td>\n",
       "    </tr>\n",
       "    <tr>\n",
       "      <th>48571</th>\n",
       "      <td>1</td>\n",
       "      <td>2012</td>\n",
       "      <td>9</td>\n",
       "      <td>1</td>\n",
       "      <td>1</td>\n",
       "      <td>3</td>\n",
       "      <td>1</td>\n",
       "      <td>202</td>\n",
       "      <td>3</td>\n",
       "      <td>2</td>\n",
       "      <td>2</td>\n",
       "      <td>3</td>\n",
       "      <td>3</td>\n",
       "      <td>1</td>\n",
       "      <td>2</td>\n",
       "      <td>81.0</td>\n",
       "      <td>3</td>\n",
       "    </tr>\n",
       "    <tr>\n",
       "      <th>48572</th>\n",
       "      <td>0</td>\n",
       "      <td>2012</td>\n",
       "      <td>9</td>\n",
       "      <td>1</td>\n",
       "      <td>2</td>\n",
       "      <td>2</td>\n",
       "      <td>1</td>\n",
       "      <td>25</td>\n",
       "      <td>3</td>\n",
       "      <td>2</td>\n",
       "      <td>5</td>\n",
       "      <td>5</td>\n",
       "      <td>8</td>\n",
       "      <td>2</td>\n",
       "      <td>5</td>\n",
       "      <td>48.0</td>\n",
       "      <td>0</td>\n",
       "    </tr>\n",
       "    <tr>\n",
       "      <th>48574</th>\n",
       "      <td>0</td>\n",
       "      <td>2012</td>\n",
       "      <td>9</td>\n",
       "      <td>1</td>\n",
       "      <td>2</td>\n",
       "      <td>2</td>\n",
       "      <td>1</td>\n",
       "      <td>5</td>\n",
       "      <td>3</td>\n",
       "      <td>2</td>\n",
       "      <td>5</td>\n",
       "      <td>3</td>\n",
       "      <td>8</td>\n",
       "      <td>2</td>\n",
       "      <td>5</td>\n",
       "      <td>16.0</td>\n",
       "      <td>0</td>\n",
       "    </tr>\n",
       "    <tr>\n",
       "      <th>48575</th>\n",
       "      <td>1</td>\n",
       "      <td>2012</td>\n",
       "      <td>9</td>\n",
       "      <td>1</td>\n",
       "      <td>1</td>\n",
       "      <td>1</td>\n",
       "      <td>2</td>\n",
       "      <td>167</td>\n",
       "      <td>3</td>\n",
       "      <td>2</td>\n",
       "      <td>5</td>\n",
       "      <td>5</td>\n",
       "      <td>8</td>\n",
       "      <td>1</td>\n",
       "      <td>5</td>\n",
       "      <td>119.0</td>\n",
       "      <td>0</td>\n",
       "    </tr>\n",
       "    <tr>\n",
       "      <th>48576</th>\n",
       "      <td>0</td>\n",
       "      <td>2012</td>\n",
       "      <td>9</td>\n",
       "      <td>1</td>\n",
       "      <td>2</td>\n",
       "      <td>2</td>\n",
       "      <td>1</td>\n",
       "      <td>3</td>\n",
       "      <td>3</td>\n",
       "      <td>2</td>\n",
       "      <td>5</td>\n",
       "      <td>3</td>\n",
       "      <td>8</td>\n",
       "      <td>1</td>\n",
       "      <td>5</td>\n",
       "      <td>46.0</td>\n",
       "      <td>0</td>\n",
       "    </tr>\n",
       "    <tr>\n",
       "      <th>48577</th>\n",
       "      <td>1</td>\n",
       "      <td>2012</td>\n",
       "      <td>7</td>\n",
       "      <td>2</td>\n",
       "      <td>1</td>\n",
       "      <td>1</td>\n",
       "      <td>1</td>\n",
       "      <td>393</td>\n",
       "      <td>3</td>\n",
       "      <td>2</td>\n",
       "      <td>5</td>\n",
       "      <td>3</td>\n",
       "      <td>8</td>\n",
       "      <td>2</td>\n",
       "      <td>5</td>\n",
       "      <td>120.0</td>\n",
       "      <td>2</td>\n",
       "    </tr>\n",
       "    <tr>\n",
       "      <th>48578</th>\n",
       "      <td>1</td>\n",
       "      <td>2012</td>\n",
       "      <td>5</td>\n",
       "      <td>1</td>\n",
       "      <td>3</td>\n",
       "      <td>1</td>\n",
       "      <td>1</td>\n",
       "      <td>100</td>\n",
       "      <td>1</td>\n",
       "      <td>2</td>\n",
       "      <td>5</td>\n",
       "      <td>5</td>\n",
       "      <td>8</td>\n",
       "      <td>1</td>\n",
       "      <td>5</td>\n",
       "      <td>NaN</td>\n",
       "      <td>7</td>\n",
       "    </tr>\n",
       "    <tr>\n",
       "      <th>48580</th>\n",
       "      <td>1</td>\n",
       "      <td>2012</td>\n",
       "      <td>7</td>\n",
       "      <td>2</td>\n",
       "      <td>3</td>\n",
       "      <td>3</td>\n",
       "      <td>1</td>\n",
       "      <td>205</td>\n",
       "      <td>3</td>\n",
       "      <td>2</td>\n",
       "      <td>2</td>\n",
       "      <td>3</td>\n",
       "      <td>3</td>\n",
       "      <td>2</td>\n",
       "      <td>1</td>\n",
       "      <td>NaN</td>\n",
       "      <td>2</td>\n",
       "    </tr>\n",
       "    <tr>\n",
       "      <th>48585</th>\n",
       "      <td>1</td>\n",
       "      <td>2012</td>\n",
       "      <td>9</td>\n",
       "      <td>1</td>\n",
       "      <td>1</td>\n",
       "      <td>1</td>\n",
       "      <td>2</td>\n",
       "      <td>111</td>\n",
       "      <td>3</td>\n",
       "      <td>2</td>\n",
       "      <td>5</td>\n",
       "      <td>3</td>\n",
       "      <td>8</td>\n",
       "      <td>1</td>\n",
       "      <td>5</td>\n",
       "      <td>53.0</td>\n",
       "      <td>1</td>\n",
       "    </tr>\n",
       "    <tr>\n",
       "      <th>48587</th>\n",
       "      <td>1</td>\n",
       "      <td>2012</td>\n",
       "      <td>9</td>\n",
       "      <td>1</td>\n",
       "      <td>1</td>\n",
       "      <td>3</td>\n",
       "      <td>2</td>\n",
       "      <td>532</td>\n",
       "      <td>3</td>\n",
       "      <td>2</td>\n",
       "      <td>2</td>\n",
       "      <td>5</td>\n",
       "      <td>5</td>\n",
       "      <td>1</td>\n",
       "      <td>2</td>\n",
       "      <td>300.0</td>\n",
       "      <td>1</td>\n",
       "    </tr>\n",
       "    <tr>\n",
       "      <th>48589</th>\n",
       "      <td>1</td>\n",
       "      <td>2012</td>\n",
       "      <td>9</td>\n",
       "      <td>1</td>\n",
       "      <td>1</td>\n",
       "      <td>1</td>\n",
       "      <td>2</td>\n",
       "      <td>559</td>\n",
       "      <td>3</td>\n",
       "      <td>2</td>\n",
       "      <td>2</td>\n",
       "      <td>5</td>\n",
       "      <td>5</td>\n",
       "      <td>1</td>\n",
       "      <td>2</td>\n",
       "      <td>260.0</td>\n",
       "      <td>3</td>\n",
       "    </tr>\n",
       "    <tr>\n",
       "      <th>48591</th>\n",
       "      <td>1</td>\n",
       "      <td>2012</td>\n",
       "      <td>9</td>\n",
       "      <td>1</td>\n",
       "      <td>1</td>\n",
       "      <td>3</td>\n",
       "      <td>1</td>\n",
       "      <td>286</td>\n",
       "      <td>3</td>\n",
       "      <td>2</td>\n",
       "      <td>5</td>\n",
       "      <td>5</td>\n",
       "      <td>8</td>\n",
       "      <td>1</td>\n",
       "      <td>5</td>\n",
       "      <td>95.0</td>\n",
       "      <td>0</td>\n",
       "    </tr>\n",
       "    <tr>\n",
       "      <th>48595</th>\n",
       "      <td>1</td>\n",
       "      <td>2012</td>\n",
       "      <td>3</td>\n",
       "      <td>1</td>\n",
       "      <td>1</td>\n",
       "      <td>1</td>\n",
       "      <td>1</td>\n",
       "      <td>95</td>\n",
       "      <td>3</td>\n",
       "      <td>2</td>\n",
       "      <td>5</td>\n",
       "      <td>5</td>\n",
       "      <td>8</td>\n",
       "      <td>1</td>\n",
       "      <td>5</td>\n",
       "      <td>138.0</td>\n",
       "      <td>0</td>\n",
       "    </tr>\n",
       "    <tr>\n",
       "      <th>48614</th>\n",
       "      <td>0</td>\n",
       "      <td>2012</td>\n",
       "      <td>9</td>\n",
       "      <td>1</td>\n",
       "      <td>3</td>\n",
       "      <td>3</td>\n",
       "      <td>3</td>\n",
       "      <td>260</td>\n",
       "      <td>3</td>\n",
       "      <td>2</td>\n",
       "      <td>5</td>\n",
       "      <td>3</td>\n",
       "      <td>8</td>\n",
       "      <td>1</td>\n",
       "      <td>5</td>\n",
       "      <td>NaN</td>\n",
       "      <td>0</td>\n",
       "    </tr>\n",
       "  </tbody>\n",
       "</table>\n",
       "<p>154254 rows × 17 columns</p>\n",
       "</div>"
      ],
      "text/plain": [
       "       action_taken  as_of_year  agency_code  loan_type  property_type  \\\n",
       "1                 1        2007            2          1              1   \n",
       "2                 1        2007            7          1              1   \n",
       "3                 1        2007            2          1              1   \n",
       "4                 1        2007            2          1              1   \n",
       "5                 1        2007            2          1              1   \n",
       "6                 1        2007            7          1              1   \n",
       "7                 1        2007            2          1              1   \n",
       "8                 1        2007            7          1              1   \n",
       "9                 1        2007            2          1              1   \n",
       "11                1        2007            2          1              1   \n",
       "12                1        2007            1          1              1   \n",
       "13                1        2007            2          1              1   \n",
       "15                1        2007            2          1              1   \n",
       "16                0        2007            1          1              1   \n",
       "17                1        2007            2          1              1   \n",
       "18                1        2007            2          1              1   \n",
       "19                1        2007            2          1              1   \n",
       "20                1        2007            7          1              1   \n",
       "22                0        2007            4          1              1   \n",
       "23                1        2007            7          1              1   \n",
       "24                1        2007            4          1              1   \n",
       "25                1        2007            7          1              1   \n",
       "27                1        2007            7          1              1   \n",
       "30                1        2007            1          1              1   \n",
       "31                1        2007            7          1              1   \n",
       "32                1        2007            1          1              1   \n",
       "33                1        2007            7          1              1   \n",
       "34                0        2007            1          1              1   \n",
       "36                1        2007            4          1              1   \n",
       "39                1        2007            7          1              1   \n",
       "...             ...         ...          ...        ...            ...   \n",
       "48495             1        2012            9          1              1   \n",
       "48501             1        2012            9          3              1   \n",
       "48503             1        2012            9          1              1   \n",
       "48505             1        2012            9          1              1   \n",
       "48521             1        2012            9          1              1   \n",
       "48527             1        2012            9          2              1   \n",
       "48543             1        2012            9          2              1   \n",
       "48545             1        2012            9          1              1   \n",
       "48553             1        2012            9          1              1   \n",
       "48555             1        2012            9          1              1   \n",
       "48561             1        2012            9          1              1   \n",
       "48563             1        2012            9          1              1   \n",
       "48565             1        2012            9          1              1   \n",
       "48566             0        2012            9          1              2   \n",
       "48568             0        2012            9          1              2   \n",
       "48570             0        2012            9          1              2   \n",
       "48571             1        2012            9          1              1   \n",
       "48572             0        2012            9          1              2   \n",
       "48574             0        2012            9          1              2   \n",
       "48575             1        2012            9          1              1   \n",
       "48576             0        2012            9          1              2   \n",
       "48577             1        2012            7          2              1   \n",
       "48578             1        2012            5          1              3   \n",
       "48580             1        2012            7          2              3   \n",
       "48585             1        2012            9          1              1   \n",
       "48587             1        2012            9          1              1   \n",
       "48589             1        2012            9          1              1   \n",
       "48591             1        2012            9          1              1   \n",
       "48595             1        2012            3          1              1   \n",
       "48614             0        2012            9          1              3   \n",
       "\n",
       "       loan_purpose  owner_occupancy  loan_amount_000s  preapproval  \\\n",
       "1                 1                1               416            2   \n",
       "2                 3                1               340            3   \n",
       "3                 1                1               200            2   \n",
       "4                 1                2                71            2   \n",
       "5                 1                1               920            2   \n",
       "6                 1                1               401            3   \n",
       "7                 1                1                95            2   \n",
       "8                 1                1               399            2   \n",
       "9                 1                1               379            2   \n",
       "11                1                1               127            2   \n",
       "12                3                1               322            3   \n",
       "13                1                1                72            2   \n",
       "15                3                1               480            3   \n",
       "16                2                1               100            3   \n",
       "17                3                1               811            3   \n",
       "18                1                1               112            2   \n",
       "19                3                2               350            3   \n",
       "20                1                1               252            2   \n",
       "22                3                2               873            3   \n",
       "23                3                1               133            3   \n",
       "24                3                1               600            3   \n",
       "25                1                1                48            2   \n",
       "27                1                1               696            2   \n",
       "30                1                1               399            2   \n",
       "31                1                1               360            2   \n",
       "32                3                1               252            3   \n",
       "33                1                1               261            2   \n",
       "34                3                1               240            3   \n",
       "36                3                1               417            3   \n",
       "39                1                1                72            2   \n",
       "...             ...              ...               ...          ...   \n",
       "48495             3                1               340            3   \n",
       "48501             1                1               153            3   \n",
       "48503             3                2               414            3   \n",
       "48505             1                1               341            3   \n",
       "48521             3                1               243            3   \n",
       "48527             3                1               243            3   \n",
       "48543             1                1               111            3   \n",
       "48545             3                1               598            3   \n",
       "48553             3                1               167            3   \n",
       "48555             3                1               605            3   \n",
       "48561             3                1               205            3   \n",
       "48563             1                1               190            3   \n",
       "48565             3                1               626            3   \n",
       "48566             2                1                25            3   \n",
       "48568             2                1                10            3   \n",
       "48570             2                1                 7            3   \n",
       "48571             3                1               202            3   \n",
       "48572             2                1                25            3   \n",
       "48574             2                1                 5            3   \n",
       "48575             1                2               167            3   \n",
       "48576             2                1                 3            3   \n",
       "48577             1                1               393            3   \n",
       "48578             1                1               100            1   \n",
       "48580             3                1               205            3   \n",
       "48585             1                2               111            3   \n",
       "48587             3                2               532            3   \n",
       "48589             1                2               559            3   \n",
       "48591             3                1               286            3   \n",
       "48595             1                1                95            3   \n",
       "48614             3                3               260            3   \n",
       "\n",
       "       applicant_ethnicity  co_applicant_ethnicity  applicant_race_1  \\\n",
       "1                        2                       5                 3   \n",
       "2                        2                       5                 5   \n",
       "3                        2                       5                 3   \n",
       "4                        2                       3                 5   \n",
       "5                        1                       5                 5   \n",
       "6                        2                       5                 5   \n",
       "7                        2                       5                 3   \n",
       "8                        2                       5                 3   \n",
       "9                        2                       5                 3   \n",
       "11                       2                       5                 3   \n",
       "12                       2                       2                 5   \n",
       "13                       1                       5                 5   \n",
       "15                       2                       5                 5   \n",
       "16                       2                       2                 5   \n",
       "17                       2                       5                 5   \n",
       "18                       2                       5                 3   \n",
       "19                       2                       5                 3   \n",
       "20                       2                       5                 5   \n",
       "22                       2                       5                 3   \n",
       "23                       2                       5                 3   \n",
       "24                       2                       2                 5   \n",
       "25                       2                       5                 5   \n",
       "27                       2                       2                 5   \n",
       "30                       2                       5                 5   \n",
       "31                       2                       2                 5   \n",
       "32                       2                       2                 5   \n",
       "33                       1                       5                 5   \n",
       "34                       2                       5                 3   \n",
       "36                       2                       2                 5   \n",
       "39                       1                       5                 5   \n",
       "...                    ...                     ...               ...   \n",
       "48495                    2                       2                 5   \n",
       "48501                    2                       5                 3   \n",
       "48503                    2                       3                 5   \n",
       "48505                    2                       5                 5   \n",
       "48521                    2                       5                 5   \n",
       "48527                    2                       5                 3   \n",
       "48543                    2                       5                 3   \n",
       "48545                    3                       3                 5   \n",
       "48553                    2                       5                 5   \n",
       "48555                    2                       2                 5   \n",
       "48561                    2                       2                 5   \n",
       "48563                    2                       5                 5   \n",
       "48565                    2                       2                 5   \n",
       "48566                    2                       5                 3   \n",
       "48568                    2                       5                 3   \n",
       "48570                    2                       2                 3   \n",
       "48571                    2                       2                 3   \n",
       "48572                    2                       5                 5   \n",
       "48574                    2                       5                 3   \n",
       "48575                    2                       5                 5   \n",
       "48576                    2                       5                 3   \n",
       "48577                    2                       5                 3   \n",
       "48578                    2                       5                 5   \n",
       "48580                    2                       2                 3   \n",
       "48585                    2                       5                 3   \n",
       "48587                    2                       2                 5   \n",
       "48589                    2                       2                 5   \n",
       "48591                    2                       5                 5   \n",
       "48595                    2                       5                 5   \n",
       "48614                    2                       5                 3   \n",
       "\n",
       "       co_applicant_race_1  applicant_sex  co_applicant_sex  \\\n",
       "1                        8              2                 5   \n",
       "2                        8              2                 5   \n",
       "3                        8              2                 5   \n",
       "4                        6              1                 3   \n",
       "5                        8              1                 5   \n",
       "6                        8              1                 5   \n",
       "7                        8              1                 5   \n",
       "8                        8              1                 5   \n",
       "9                        8              1                 5   \n",
       "11                       8              2                 5   \n",
       "12                       5              1                 2   \n",
       "13                       8              2                 5   \n",
       "15                       8              2                 5   \n",
       "16                       5              2                 1   \n",
       "17                       8              1                 5   \n",
       "18                       8              1                 5   \n",
       "19                       8              1                 5   \n",
       "20                       8              1                 5   \n",
       "22                       8              3                 5   \n",
       "23                       8              2                 5   \n",
       "24                       5              1                 1   \n",
       "25                       8              1                 5   \n",
       "27                       5              1                 2   \n",
       "30                       8              1                 5   \n",
       "31                       5              1                 2   \n",
       "32                       5              1                 2   \n",
       "33                       8              1                 5   \n",
       "34                       8              2                 5   \n",
       "36                       5              1                 2   \n",
       "39                       8              2                 5   \n",
       "...                    ...            ...               ...   \n",
       "48495                    5              1                 2   \n",
       "48501                    8              1                 5   \n",
       "48503                    5              2                 1   \n",
       "48505                    8              2                 5   \n",
       "48521                    8              1                 5   \n",
       "48527                    8              1                 5   \n",
       "48543                    8              2                 5   \n",
       "48545                    5              1                 2   \n",
       "48553                    8              2                 5   \n",
       "48555                    5              1                 2   \n",
       "48561                    5              2                 1   \n",
       "48563                    8              3                 5   \n",
       "48565                    5              1                 2   \n",
       "48566                    8              1                 5   \n",
       "48568                    8              2                 5   \n",
       "48570                    3              2                 2   \n",
       "48571                    3              1                 2   \n",
       "48572                    8              2                 5   \n",
       "48574                    8              2                 5   \n",
       "48575                    8              1                 5   \n",
       "48576                    8              1                 5   \n",
       "48577                    8              2                 5   \n",
       "48578                    8              1                 5   \n",
       "48580                    3              2                 1   \n",
       "48585                    8              1                 5   \n",
       "48587                    5              1                 2   \n",
       "48589                    5              1                 2   \n",
       "48591                    8              1                 5   \n",
       "48595                    8              1                 5   \n",
       "48614                    8              1                 5   \n",
       "\n",
       "       applicant_income_000s  purchaser_type  \n",
       "1                        NaN               7  \n",
       "2                       65.0               8  \n",
       "3                        NaN               7  \n",
       "4                      325.0               0  \n",
       "5                        NaN               7  \n",
       "6                       70.0               9  \n",
       "7                        NaN               7  \n",
       "8                       23.0               0  \n",
       "9                        NaN               7  \n",
       "11                       NaN               7  \n",
       "12                      63.0               1  \n",
       "13                       NaN               0  \n",
       "15                       NaN               7  \n",
       "16                     192.0               0  \n",
       "17                       NaN               7  \n",
       "18                      28.0               9  \n",
       "19                       NaN               7  \n",
       "20                      74.0               0  \n",
       "22                     305.0               0  \n",
       "23                      62.0               6  \n",
       "24                     188.0               8  \n",
       "25                      78.0               1  \n",
       "27                     235.0               1  \n",
       "30                      70.0               1  \n",
       "31                     185.0               1  \n",
       "32                     135.0               0  \n",
       "33                      72.0               1  \n",
       "34                      54.0               0  \n",
       "36                     141.0               7  \n",
       "39                      72.0               1  \n",
       "...                      ...             ...  \n",
       "48495                  100.0               1  \n",
       "48501                   39.0               2  \n",
       "48503                  179.0               1  \n",
       "48505                   85.0               0  \n",
       "48521                   64.0               1  \n",
       "48527                   89.0               2  \n",
       "48543                   38.0               2  \n",
       "48545                  251.0               1  \n",
       "48553                  180.0               1  \n",
       "48555                  222.0               1  \n",
       "48561                  247.0               3  \n",
       "48563                   92.0               1  \n",
       "48565                  440.0               1  \n",
       "48566                   38.0               0  \n",
       "48568                   28.0               0  \n",
       "48570                  337.0               0  \n",
       "48571                   81.0               3  \n",
       "48572                   48.0               0  \n",
       "48574                   16.0               0  \n",
       "48575                  119.0               0  \n",
       "48576                   46.0               0  \n",
       "48577                  120.0               2  \n",
       "48578                    NaN               7  \n",
       "48580                    NaN               2  \n",
       "48585                   53.0               1  \n",
       "48587                  300.0               1  \n",
       "48589                  260.0               3  \n",
       "48591                   95.0               0  \n",
       "48595                  138.0               0  \n",
       "48614                    NaN               0  \n",
       "\n",
       "[154254 rows x 17 columns]"
      ]
     },
     "execution_count": 94,
     "metadata": {},
     "output_type": "execute_result"
    }
   ],
   "source": [
    "df = df[['action_taken', 'as_of_year', 'agency_code', 'loan_type', 'property_type', 'loan_purpose', 'owner_occupancy', 'loan_amount_000s', 'preapproval', 'applicant_ethnicity', 'co_applicant_ethnicity', 'applicant_race_1', 'co_applicant_race_1', 'applicant_sex', 'co_applicant_sex','applicant_income_000s', 'purchaser_type']]\n",
    "df"
   ]
  },
  {
   "cell_type": "code",
   "execution_count": 95,
   "metadata": {},
   "outputs": [
    {
     "name": "stdout",
     "output_type": "stream",
     "text": [
      "Index(['action_taken', 'as_of_year', 'agency_code', 'loan_type',\n",
      "       'property_type', 'loan_purpose', 'owner_occupancy', 'loan_amount_000s',\n",
      "       'preapproval', 'applicant_ethnicity', 'co_applicant_ethnicity',\n",
      "       'applicant_race_1', 'co_applicant_race_1', 'applicant_sex',\n",
      "       'co_applicant_sex', 'applicant_income_000s', 'purchaser_type'],\n",
      "      dtype='object')\n"
     ]
    }
   ],
   "source": [
    "#list the features\n",
    "print(df.columns)"
   ]
  },
  {
   "cell_type": "code",
   "execution_count": 96,
   "metadata": {},
   "outputs": [
    {
     "data": {
      "text/plain": [
       "action_taken                int64\n",
       "as_of_year                  int64\n",
       "agency_code                 int64\n",
       "loan_type                   int64\n",
       "property_type               int64\n",
       "loan_purpose                int64\n",
       "owner_occupancy             int64\n",
       "loan_amount_000s            int64\n",
       "preapproval                 int64\n",
       "applicant_ethnicity         int64\n",
       "co_applicant_ethnicity      int64\n",
       "applicant_race_1            int64\n",
       "co_applicant_race_1         int64\n",
       "applicant_sex               int64\n",
       "co_applicant_sex            int64\n",
       "applicant_income_000s     float64\n",
       "purchaser_type              int64\n",
       "dtype: object"
      ]
     },
     "execution_count": 96,
     "metadata": {},
     "output_type": "execute_result"
    }
   ],
   "source": [
    "#list the data types\n",
    "df.dtypes"
   ]
  },
  {
   "cell_type": "code",
   "execution_count": 97,
   "metadata": {},
   "outputs": [],
   "source": [
    "df.to_csv(\"new_data_featured.csv\") #keep a csv copy of the adjusted data."
   ]
  },
  {
   "cell_type": "markdown",
   "metadata": {},
   "source": [
    "## 2. Data Visualization"
   ]
  },
  {
   "cell_type": "markdown",
   "metadata": {},
   "source": [
    "In this part, in order to do more data preprocessing work, we need to visualize the data and check if there are any noticeable patterns. Note that we do have a short explanation below each graph we plotted."
   ]
  },
  {
   "cell_type": "markdown",
   "metadata": {},
   "source": [
    "### (1) Distribution of Numeric Features"
   ]
  },
  {
   "cell_type": "code",
   "execution_count": 181,
   "metadata": {},
   "outputs": [
    {
     "data": {
      "text/plain": [
       "<matplotlib.axes._subplots.AxesSubplot at 0x297062ed240>"
      ]
     },
     "execution_count": 181,
     "metadata": {},
     "output_type": "execute_result"
    },
    {
     "data": {
      "image/png": "[encoded data removed]",
      "text/plain": [
       "<Figure size 432x288 with 1 Axes>"
      ]
     },
     "metadata": {},
     "output_type": "display_data"
    },
    {
     "data": {
      "image/png": "[encoded data removed]",
      "text/plain": [
       "<Figure size 432x288 with 1 Axes>"
      ]
     },
     "metadata": {},
     "output_type": "display_data"
    }
   ],
   "source": [
    "df[[\"loan_amount_000s\",]].plot.hist(bins = 50, alpha = 0.5)\n",
    "df[[\"loan_amount_000s\",]].plot.kde()"
   ]
  },
  {
   "cell_type": "markdown",
   "metadata": {},
   "source": [
    "Implication: Outliers exist, need to handle them."
   ]
  },
  {
   "cell_type": "code",
   "execution_count": 182,
   "metadata": {},
   "outputs": [
    {
     "data": {
      "text/plain": [
       "<matplotlib.axes._subplots.AxesSubplot at 0x2971026bd68>"
      ]
     },
     "execution_count": 182,
     "metadata": {},
     "output_type": "execute_result"
    },
    {
     "data": {
      "image/png": "[encoded data removed]",
      "text/plain": [
       "<Figure size 432x288 with 1 Axes>"
      ]
     },
     "metadata": {},
     "output_type": "display_data"
    },
    {
     "data": {
      "image/png": "[encoded data removed]",
      "text/plain": [
       "<Figure size 432x288 with 1 Axes>"
      ]
     },
     "metadata": {},
     "output_type": "display_data"
    }
   ],
   "source": [
    "df[[\"applicant_income_000s\",]].plot.hist(bins = 50, alpha = 0.5)\n",
    "df[[\"applicant_income_000s\",]].plot.kde()"
   ]
  },
  {
   "cell_type": "markdown",
   "metadata": {},
   "source": [
    "**Implication**: We can see from the annual income distribution above that most borrowers have an annual income below 2000 thousands, which is reasonable.\n",
    "But we have someone who **claimed** to have an annual income of 15000 thousands , which is very likely to be a fake information. \n",
    "**Need to clean this data and remove outliers.**"
   ]
  },
  {
   "cell_type": "code",
   "execution_count": 183,
   "metadata": {},
   "outputs": [
    {
     "data": {
      "text/plain": [
       "array([ 65., 325.,  70., ..., 260.,  95., 138.])"
      ]
     },
     "execution_count": 183,
     "metadata": {},
     "output_type": "execute_result"
    }
   ],
   "source": [
    "income = df['applicant_income_000s']\n",
    "income = income.dropna()\n",
    "income = np.array(income)\n",
    "income"
   ]
  },
  {
   "cell_type": "code",
   "execution_count": 184,
   "metadata": {},
   "outputs": [
    {
     "data": {
      "text/plain": [
       "{'whiskers': [<matplotlib.lines.Line2D at 0x297219b1e48>,\n",
       "  <matplotlib.lines.Line2D at 0x297219bc320>],\n",
       " 'caps': [<matplotlib.lines.Line2D at 0x297219bc748>,\n",
       "  <matplotlib.lines.Line2D at 0x297219bcb70>],\n",
       " 'boxes': [<matplotlib.lines.Line2D at 0x297219b1cf8>],\n",
       " 'medians': [<matplotlib.lines.Line2D at 0x297219bcf98>],\n",
       " 'fliers': [<matplotlib.lines.Line2D at 0x297220d4400>],\n",
       " 'means': []}"
      ]
     },
     "execution_count": 184,
     "metadata": {},
     "output_type": "execute_result"
    },
    {
     "data": {
      "image/png": "[encoded data removed]",
      "text/plain": [
       "<Figure size 432x288 with 1 Axes>"
      ]
     },
     "metadata": {},
     "output_type": "display_data"
    }
   ],
   "source": [
    "plt.boxplot(income)"
   ]
  },
  {
   "cell_type": "code",
   "execution_count": 185,
   "metadata": {},
   "outputs": [
    {
     "data": {
      "text/plain": [
       "{'whiskers': [<matplotlib.lines.Line2D at 0x29722ebb400>,\n",
       "  <matplotlib.lines.Line2D at 0x29722ebb898>],\n",
       " 'caps': [<matplotlib.lines.Line2D at 0x29722ebbcc0>,\n",
       "  <matplotlib.lines.Line2D at 0x29722ec4128>],\n",
       " 'boxes': [<matplotlib.lines.Line2D at 0x29722ebb2b0>],\n",
       " 'medians': [<matplotlib.lines.Line2D at 0x29722ec4550>],\n",
       " 'fliers': [],\n",
       " 'means': []}"
      ]
     },
     "execution_count": 185,
     "metadata": {},
     "output_type": "execute_result"
    },
    {
     "data": {
      "image/png": "[encoded data removed]",
      "text/plain": [
       "<Figure size 432x288 with 1 Axes>"
      ]
     },
     "metadata": {},
     "output_type": "display_data"
    }
   ],
   "source": [
    "plt.boxplot(income, showfliers=False)"
   ]
  },
  {
   "cell_type": "markdown",
   "metadata": {},
   "source": [
    "### (2) Categorical Features' Frequency"
   ]
  },
  {
   "cell_type": "code",
   "execution_count": 186,
   "metadata": {},
   "outputs": [
    {
     "data": {
      "text/plain": [
       "([<matplotlib.axis.XTick at 0x297246f6390>,\n",
       "  <matplotlib.axis.XTick at 0x297246f1c88>,\n",
       "  <matplotlib.axis.XTick at 0x297247130b8>,\n",
       "  <matplotlib.axis.XTick at 0x29724713400>,\n",
       "  <matplotlib.axis.XTick at 0x2972471c278>,\n",
       "  <matplotlib.axis.XTick at 0x2972471c780>,\n",
       "  <matplotlib.axis.XTick at 0x2972471cc88>,\n",
       "  <matplotlib.axis.XTick at 0x297247251d0>],\n",
       " <a list of 8 Text xticklabel objects>)"
      ]
     },
     "execution_count": 186,
     "metadata": {},
     "output_type": "execute_result"
    },
    {
     "data": {
      "image/png": "[encoded data removed]",
      "text/plain": [
       "<Figure size 432x288 with 1 Axes>"
      ]
     },
     "metadata": {},
     "output_type": "display_data"
    }
   ],
   "source": [
    "plt.rcParams['font.size'] = 10.0\n",
    "df[\"action_taken\"].value_counts().plot(kind = 'bar')\n",
    "plt.xticks(np.arange(8), [\"Loan originated\", \"Loan purchased by the institution\",\"Application denied by financial institution\", \"Application withdrawn by applicant\", \"Application approved but not accepted\", \"File closed for incompleteness\",\"Preapproval request denied by financial institution\",'Preapproval request approved but not accepted (optional reporting)'],rotation=\"vertical\")"
   ]
  },
  {
   "cell_type": "code",
   "execution_count": 187,
   "metadata": {},
   "outputs": [
    {
     "data": {
      "text/plain": [
       "Text(0,0.5,'Number of applicants')"
      ]
     },
     "execution_count": 187,
     "metadata": {},
     "output_type": "execute_result"
    },
    {
     "data": {
      "image/png": "[encoded data removed]",
      "text/plain": [
       "<Figure size 432x288 with 1 Axes>"
      ]
     },
     "metadata": {},
     "output_type": "display_data"
    }
   ],
   "source": [
    "df[\"action_taken\"].value_counts().plot(kind = 'bar')\n",
    "plt.xticks(np.arange(8), [\"Loan originated\", \"Loan purchased by the institution\",\"Application denied by financial institution\", \"Application withdrawn by applicant\", \"Application approved but not accepted\", \"File closed for incompleteness\",\"Preapproval request denied by financial institution\",'Preapproval request approved but not accepted (optional reporting)'],rotation=\"vertical\")\n",
    "plt.xlabel(\"Actions Taken\")\n",
    "plt.ylabel(\"Number of applicants\")"
   ]
  },
  {
   "cell_type": "code",
   "execution_count": 188,
   "metadata": {},
   "outputs": [
    {
     "data": {
      "text/plain": [
       "Text(0,0.5,'Number of applicants')"
      ]
     },
     "execution_count": 188,
     "metadata": {},
     "output_type": "execute_result"
    },
    {
     "data": {
      "image/png": "[encoded data removed]",
      "text/plain": [
       "<Figure size 432x288 with 1 Axes>"
      ]
     },
     "metadata": {},
     "output_type": "display_data"
    }
   ],
   "source": [
    "df[\"agency_code\"].value_counts().plot(kind = 'bar')\n",
    "plt.xticks(np.arange(7), [\"OCC\", \"CFPB\", \"HUD\", \"Unknown\", \"FRS\",\"FDIC\",\"NCUA\"])\n",
    "plt.xlabel(\"Agency Names\")\n",
    "plt.ylabel(\"Number of applicants\")"
   ]
  },
  {
   "cell_type": "code",
   "execution_count": 189,
   "metadata": {},
   "outputs": [
    {
     "data": {
      "text/plain": [
       "Text(0,0.5,'Number of applicants')"
      ]
     },
     "execution_count": 189,
     "metadata": {},
     "output_type": "execute_result"
    },
    {
     "data": {
      "image/png": "[encoded data removed]",
      "text/plain": [
       "<Figure size 432x288 with 1 Axes>"
      ]
     },
     "metadata": {},
     "output_type": "display_data"
    }
   ],
   "source": [
    "df['loan_type'].value_counts().plot(kind = 'bar')\n",
    "plt.xticks(np.arange(4), [\"Conventional\", \"FHA-insured\", \"VA-guaranteed\", \"FSA/RHS\"])\n",
    "plt.xlabel(\"Loan Types\")\n",
    "plt.ylabel(\"Number of applicants\")"
   ]
  },
  {
   "cell_type": "code",
   "execution_count": 190,
   "metadata": {},
   "outputs": [
    {
     "data": {
      "text/plain": [
       "Text(0,0.5,'Number of applicants')"
      ]
     },
     "execution_count": 190,
     "metadata": {},
     "output_type": "execute_result"
    },
    {
     "data": {
      "image/png": "[encoded data removed]",
      "text/plain": [
       "<Figure size 432x288 with 1 Axes>"
      ]
     },
     "metadata": {},
     "output_type": "display_data"
    }
   ],
   "source": [
    "df[\"property_type\"].value_counts().plot(kind = 'bar')\n",
    "plt.xticks(np.arange(3), [\"One-to-four family\", \"Multifamily\", \"Manufactured housing\"])\n",
    "plt.xlabel(\"Property Types\")\n",
    "plt.ylabel(\"Number of applicants\")"
   ]
  },
  {
   "cell_type": "code",
   "execution_count": 191,
   "metadata": {},
   "outputs": [
    {
     "data": {
      "text/plain": [
       "Text(0,0.5,'Number of applicants')"
      ]
     },
     "execution_count": 191,
     "metadata": {},
     "output_type": "execute_result"
    },
    {
     "data": {
      "image/png": "[encoded data removed]",
      "text/plain": [
       "<Figure size 432x288 with 1 Axes>"
      ]
     },
     "metadata": {},
     "output_type": "display_data"
    }
   ],
   "source": [
    "df[\"loan_purpose\"].value_counts().plot(kind = 'bar')\n",
    "plt.xticks(np.arange(3), [\"Refinancing\", \"Home Purchase\", \"Home Improvement\"])\n",
    "plt.xlabel(\"Loan Purposes\")\n",
    "plt.ylabel(\"Number of applicants\")"
   ]
  },
  {
   "cell_type": "code",
   "execution_count": 192,
   "metadata": {},
   "outputs": [
    {
     "data": {
      "text/plain": [
       "Text(0,0.5,'Number of applicants')"
      ]
     },
     "execution_count": 192,
     "metadata": {},
     "output_type": "execute_result"
    },
    {
     "data": {
      "image/png": "[encoded data removed]",
      "text/plain": [
       "<Figure size 432x288 with 1 Axes>"
      ]
     },
     "metadata": {},
     "output_type": "display_data"
    }
   ],
   "source": [
    "df[\"owner_occupancy\"].value_counts().plot(kind = 'bar')\n",
    "plt.xticks(np.arange(3), [\"Owner-occupied as a principal dwelling\", \"Not owner-occupied\", \"Not applicable\"],rotation=\"vertical\")\n",
    "plt.xlabel(\"Owner Occupancy\")\n",
    "plt.ylabel(\"Number of applicants\")"
   ]
  },
  {
   "cell_type": "code",
   "execution_count": 193,
   "metadata": {},
   "outputs": [
    {
     "data": {
      "text/plain": [
       "Text(0,0.5,'Number of applicants')"
      ]
     },
     "execution_count": 193,
     "metadata": {},
     "output_type": "execute_result"
    },
    {
     "data": {
      "image/png": "[encoded data removed]",
      "text/plain": [
       "<Figure size 432x288 with 1 Axes>"
      ]
     },
     "metadata": {},
     "output_type": "display_data"
    }
   ],
   "source": [
    "df[\"preapproval\"].value_counts().plot(kind = 'bar')\n",
    "plt.xticks(np.arange(3), [\"Not applicable\", \"Preapproval was not requested\", \"Preapproval was requested\"],rotation=\"vertical\")\n",
    "plt.xlabel(\"Preapproval\")\n",
    "plt.ylabel(\"Number of applicants\")"
   ]
  },
  {
   "cell_type": "code",
   "execution_count": 194,
   "metadata": {},
   "outputs": [
    {
     "data": {
      "text/plain": [
       "Text(0,0.5,'Number of applicants')"
      ]
     },
     "execution_count": 194,
     "metadata": {},
     "output_type": "execute_result"
    },
    {
     "data": {
      "image/png": "[encoded data removed]",
      "text/plain": [
       "<Figure size 432x288 with 1 Axes>"
      ]
     },
     "metadata": {},
     "output_type": "display_data"
    }
   ],
   "source": [
    "df[\"applicant_ethnicity\"].value_counts().plot(kind = 'bar')\n",
    "plt.xticks(np.arange(4), [\"Not Hispanic/Latino\", \"No information\", \"Not applicable\", \"Hispanic/Latino\"],rotation=\"vertical\")\n",
    "plt.xlabel(\"Applicant Ethnicity\")\n",
    "plt.ylabel(\"Number of applicants\")"
   ]
  },
  {
   "cell_type": "code",
   "execution_count": 195,
   "metadata": {},
   "outputs": [
    {
     "data": {
      "text/plain": [
       "Text(0,0.5,'Number of applicants')"
      ]
     },
     "execution_count": 195,
     "metadata": {},
     "output_type": "execute_result"
    },
    {
     "data": {
      "image/png": "[encoded data removed]",
      "text/plain": [
       "<Figure size 432x288 with 1 Axes>"
      ]
     },
     "metadata": {},
     "output_type": "display_data"
    }
   ],
   "source": [
    "df[\"co_applicant_ethnicity\"].value_counts().plot(kind = 'bar')\n",
    "plt.xticks(np.arange(5), [\"No co-applicant\", \"Not Hispanic/Latino\", \"Not applicable\", \"No information\", \"Hispanic/Latino\"],rotation=\"vertical\")\n",
    "plt.xlabel(\"Co-applicant Ethnicity\")\n",
    "plt.ylabel(\"Number of applicants\")"
   ]
  },
  {
   "cell_type": "code",
   "execution_count": 196,
   "metadata": {},
   "outputs": [
    {
     "data": {
      "text/plain": [
       "Text(0,0.5,'Number of applicants')"
      ]
     },
     "execution_count": 196,
     "metadata": {},
     "output_type": "execute_result"
    },
    {
     "data": {
      "image/png": "[encoded data removed]",
      "text/plain": [
       "<Figure size 432x288 with 1 Axes>"
      ]
     },
     "metadata": {},
     "output_type": "display_data"
    }
   ],
   "source": [
    "df[\"applicant_race_1\"].value_counts().plot(kind = 'bar')\n",
    "plt.xticks(np.arange(7), [\"White\", \"Black/African American\", \"No information\", \"Not applicable\", \"Asian\", \"Native American\", \"Native Hawaiian\"],rotation=\"vertical\")\n",
    "plt.xlabel(\"Applicant race\")\n",
    "plt.ylabel(\"Number of applicants\")"
   ]
  },
  {
   "cell_type": "code",
   "execution_count": 197,
   "metadata": {},
   "outputs": [
    {
     "data": {
      "text/plain": [
       "Text(0,0.5,'Number of applicants')"
      ]
     },
     "execution_count": 197,
     "metadata": {},
     "output_type": "execute_result"
    },
    {
     "data": {
      "image/png": "[encoded data removed]",
      "text/plain": [
       "<Figure size 432x288 with 1 Axes>"
      ]
     },
     "metadata": {},
     "output_type": "display_data"
    }
   ],
   "source": [
    "df[\"co_applicant_race_1\"].value_counts().plot(kind = 'bar')\n",
    "plt.xticks(np.arange(8), [\"No co-applicant\", \"White\",  \"Not applicable\", \"No information\",\"Black/African American\",  \"Asian\", \"Native American\", \"Native Hawaiian\"],rotation=\"vertical\")\n",
    "plt.xlabel(\"Co-applicant race\")\n",
    "plt.ylabel(\"Number of applicants\")"
   ]
  },
  {
   "cell_type": "code",
   "execution_count": 198,
   "metadata": {},
   "outputs": [
    {
     "data": {
      "text/plain": [
       "Text(0,0.5,'Number of applicants')"
      ]
     },
     "execution_count": 198,
     "metadata": {},
     "output_type": "execute_result"
    },
    {
     "data": {
      "image/png": "[encoded data removed]",
      "text/plain": [
       "<Figure size 432x288 with 1 Axes>"
      ]
     },
     "metadata": {},
     "output_type": "display_data"
    }
   ],
   "source": [
    "df[\"applicant_sex\"].value_counts().plot(kind = 'bar')\n",
    "plt.xticks(np.arange(4), [\"Male\", \"Female\", \"No information\", \"Not applicable\"])\n",
    "plt.xlabel(\"Applicant sex\")\n",
    "plt.ylabel(\"Number of applicants\")"
   ]
  },
  {
   "cell_type": "code",
   "execution_count": 199,
   "metadata": {},
   "outputs": [
    {
     "data": {
      "text/plain": [
       "Text(0,0.5,'Number of applicants')"
      ]
     },
     "execution_count": 199,
     "metadata": {},
     "output_type": "execute_result"
    },
    {
     "data": {
      "image/png": "[encoded data removed]",
      "text/plain": [
       "<Figure size 432x288 with 1 Axes>"
      ]
     },
     "metadata": {},
     "output_type": "display_data"
    }
   ],
   "source": [
    "df[\"co_applicant_sex\"].value_counts().plot(kind = 'bar')\n",
    "plt.xticks(np.arange(5), [\"No co-applicant\", \"Female\", \"Not applicable\", \"Male\", \"No information\"])\n",
    "plt.xlabel(\"Co-applicant sex\")\n",
    "plt.ylabel(\"Number of applicants\")"
   ]
  },
  {
   "cell_type": "code",
   "execution_count": 200,
   "metadata": {},
   "outputs": [
    {
     "data": {
      "text/plain": [
       "Text(0,0.5,'Number of applicants')"
      ]
     },
     "execution_count": 200,
     "metadata": {},
     "output_type": "execute_result"
    },
    {
     "data": {
      "image/png": "[encoded data removed]",
      "text/plain": [
       "<Figure size 432x288 with 1 Axes>"
      ]
     },
     "metadata": {},
     "output_type": "display_data"
    }
   ],
   "source": [
    "df[\"purchaser_type\"].value_counts().plot(kind = 'bar')\n",
    "plt.xticks(np.arange(10), [\"Not originated\", \"FNMA\", \"FHLMC\", \"Affiliate Institution\",\n",
    "                          \"Commercial bank, savings bank or savings association\",\n",
    "                          \"GNMA\", \"Other\", \"- Life insurance company, credit union, mortgage bank, or finance company\",\n",
    "                          \"Private securitization\", \"FAMC\"], rotation=\"vertical\")\n",
    "plt.xlabel(\"Purchaser type\")\n",
    "plt.ylabel(\"Number of applicants\")"
   ]
  },
  {
   "cell_type": "markdown",
   "metadata": {},
   "source": [
    "**Implication**: From the above graphs, we see that most categorical features have very distinct distributions."
   ]
  },
  {
   "cell_type": "markdown",
   "metadata": {},
   "source": [
    "## 3. Data Preprocessing —— Part 2"
   ]
  },
  {
   "cell_type": "markdown",
   "metadata": {},
   "source": [
    "### (1) Results got from data visualization"
   ]
  },
  {
   "cell_type": "markdown",
   "metadata": {},
   "source": [
    "Before doing all the data cleaning work, we want to make a copy of the dataframe."
   ]
  },
  {
   "cell_type": "code",
   "execution_count": 98,
   "metadata": {},
   "outputs": [
    {
     "name": "stdout",
     "output_type": "stream",
     "text": [
      "Index(['action_taken', 'as_of_year', 'agency_code', 'loan_type',\n",
      "       'property_type', 'loan_purpose', 'owner_occupancy', 'loan_amount_000s',\n",
      "       'preapproval', 'applicant_ethnicity', 'co_applicant_ethnicity',\n",
      "       'applicant_race_1', 'co_applicant_race_1', 'applicant_sex',\n",
      "       'co_applicant_sex', 'applicant_income_000s', 'purchaser_type'],\n",
      "      dtype='object')\n"
     ]
    }
   ],
   "source": [
    "df_copy = df\n",
    "print(df_copy.columns)"
   ]
  },
  {
   "cell_type": "code",
   "execution_count": 99,
   "metadata": {},
   "outputs": [],
   "source": [
    "df = df_copy"
   ]
  },
  {
   "cell_type": "markdown",
   "metadata": {},
   "source": [
    "### (2) Handling missing value"
   ]
  },
  {
   "cell_type": "code",
   "execution_count": 100,
   "metadata": {},
   "outputs": [
    {
     "data": {
      "text/plain": [
       "action_taken                 0\n",
       "as_of_year                   0\n",
       "agency_code                  0\n",
       "loan_type                    0\n",
       "property_type                0\n",
       "loan_purpose                 0\n",
       "owner_occupancy              0\n",
       "loan_amount_000s             0\n",
       "preapproval                  0\n",
       "applicant_ethnicity          0\n",
       "co_applicant_ethnicity       0\n",
       "applicant_race_1             0\n",
       "co_applicant_race_1          0\n",
       "applicant_sex                0\n",
       "co_applicant_sex             0\n",
       "applicant_income_000s     7517\n",
       "purchaser_type               0\n",
       "dtype: int64"
      ]
     },
     "execution_count": 100,
     "metadata": {},
     "output_type": "execute_result"
    }
   ],
   "source": [
    "#count the missing values\n",
    "df.isnull().sum()"
   ]
  },
  {
   "cell_type": "markdown",
   "metadata": {},
   "source": [
    "We have 1 features which contain missing values, which is the applicant income number. We fill it in with the median income in the data set."
   ]
  },
  {
   "cell_type": "code",
   "execution_count": 101,
   "metadata": {},
   "outputs": [
    {
     "data": {
      "text/plain": [
       "111.0"
      ]
     },
     "execution_count": 101,
     "metadata": {},
     "output_type": "execute_result"
    }
   ],
   "source": [
    "df.loc[:,\"applicant_income_000s\"].median()"
   ]
  },
  {
   "cell_type": "code",
   "execution_count": 102,
   "metadata": {},
   "outputs": [
    {
     "data": {
      "text/plain": [
       "action_taken              0\n",
       "as_of_year                0\n",
       "agency_code               0\n",
       "loan_type                 0\n",
       "property_type             0\n",
       "loan_purpose              0\n",
       "owner_occupancy           0\n",
       "loan_amount_000s          0\n",
       "preapproval               0\n",
       "applicant_ethnicity       0\n",
       "co_applicant_ethnicity    0\n",
       "applicant_race_1          0\n",
       "co_applicant_race_1       0\n",
       "applicant_sex             0\n",
       "co_applicant_sex          0\n",
       "applicant_income_000s     0\n",
       "purchaser_type            0\n",
       "dtype: int64"
      ]
     },
     "execution_count": 102,
     "metadata": {},
     "output_type": "execute_result"
    }
   ],
   "source": [
    "values = {'applicant_income_000s': 112}\n",
    "df = df.fillna(value=values)\n",
    "df.isnull().sum()"
   ]
  },
  {
   "cell_type": "markdown",
   "metadata": {},
   "source": [
    "### (3) Creating dummies"
   ]
  },
  {
   "cell_type": "code",
   "execution_count": 103,
   "metadata": {},
   "outputs": [
    {
     "data": {
      "text/plain": [
       "Index(['action_taken', 'as_of_year', 'agency_code', 'loan_type',\n",
       "       'property_type', 'loan_purpose', 'owner_occupancy', 'loan_amount_000s',\n",
       "       'preapproval', 'applicant_ethnicity', 'co_applicant_ethnicity',\n",
       "       'applicant_race_1', 'co_applicant_race_1', 'applicant_sex',\n",
       "       'co_applicant_sex', 'applicant_income_000s', 'purchaser_type'],\n",
       "      dtype='object')"
      ]
     },
     "execution_count": 103,
     "metadata": {},
     "output_type": "execute_result"
    }
   ],
   "source": [
    "df.columns"
   ]
  },
  {
   "cell_type": "code",
   "execution_count": 104,
   "metadata": {},
   "outputs": [
    {
     "data": {
      "text/html": [
       "<div>\n",
       "<style scoped>\n",
       "    .dataframe tbody tr th:only-of-type {\n",
       "        vertical-align: middle;\n",
       "    }\n",
       "\n",
       "    .dataframe tbody tr th {\n",
       "        vertical-align: top;\n",
       "    }\n",
       "\n",
       "    .dataframe thead th {\n",
       "        text-align: right;\n",
       "    }\n",
       "</style>\n",
       "<table border=\"1\" class=\"dataframe\">\n",
       "  <thead>\n",
       "    <tr style=\"text-align: right;\">\n",
       "      <th></th>\n",
       "      <th>action_taken</th>\n",
       "      <th>as_of_year</th>\n",
       "      <th>agency_code</th>\n",
       "      <th>loan_type</th>\n",
       "      <th>property_type</th>\n",
       "      <th>loan_purpose</th>\n",
       "      <th>owner_occupancy</th>\n",
       "      <th>loan_amount_000s</th>\n",
       "      <th>preapproval</th>\n",
       "      <th>applicant_ethnicity</th>\n",
       "      <th>...</th>\n",
       "      <th>co_sex_5</th>\n",
       "      <th>purchaser_1</th>\n",
       "      <th>purchaser_2</th>\n",
       "      <th>purchaser_3</th>\n",
       "      <th>purchaser_4</th>\n",
       "      <th>purchaser_5</th>\n",
       "      <th>purchaser_6</th>\n",
       "      <th>purchaser_7</th>\n",
       "      <th>purchaser_8</th>\n",
       "      <th>purchaser_9</th>\n",
       "    </tr>\n",
       "  </thead>\n",
       "  <tbody>\n",
       "    <tr>\n",
       "      <th>1</th>\n",
       "      <td>1</td>\n",
       "      <td>2007</td>\n",
       "      <td>2</td>\n",
       "      <td>1</td>\n",
       "      <td>1</td>\n",
       "      <td>1</td>\n",
       "      <td>1</td>\n",
       "      <td>416</td>\n",
       "      <td>2</td>\n",
       "      <td>2</td>\n",
       "      <td>...</td>\n",
       "      <td>1</td>\n",
       "      <td>0</td>\n",
       "      <td>0</td>\n",
       "      <td>0</td>\n",
       "      <td>0</td>\n",
       "      <td>0</td>\n",
       "      <td>0</td>\n",
       "      <td>1</td>\n",
       "      <td>0</td>\n",
       "      <td>0</td>\n",
       "    </tr>\n",
       "    <tr>\n",
       "      <th>2</th>\n",
       "      <td>1</td>\n",
       "      <td>2007</td>\n",
       "      <td>7</td>\n",
       "      <td>1</td>\n",
       "      <td>1</td>\n",
       "      <td>3</td>\n",
       "      <td>1</td>\n",
       "      <td>340</td>\n",
       "      <td>3</td>\n",
       "      <td>2</td>\n",
       "      <td>...</td>\n",
       "      <td>1</td>\n",
       "      <td>0</td>\n",
       "      <td>0</td>\n",
       "      <td>0</td>\n",
       "      <td>0</td>\n",
       "      <td>0</td>\n",
       "      <td>0</td>\n",
       "      <td>0</td>\n",
       "      <td>1</td>\n",
       "      <td>0</td>\n",
       "    </tr>\n",
       "    <tr>\n",
       "      <th>3</th>\n",
       "      <td>1</td>\n",
       "      <td>2007</td>\n",
       "      <td>2</td>\n",
       "      <td>1</td>\n",
       "      <td>1</td>\n",
       "      <td>1</td>\n",
       "      <td>1</td>\n",
       "      <td>200</td>\n",
       "      <td>2</td>\n",
       "      <td>2</td>\n",
       "      <td>...</td>\n",
       "      <td>1</td>\n",
       "      <td>0</td>\n",
       "      <td>0</td>\n",
       "      <td>0</td>\n",
       "      <td>0</td>\n",
       "      <td>0</td>\n",
       "      <td>0</td>\n",
       "      <td>1</td>\n",
       "      <td>0</td>\n",
       "      <td>0</td>\n",
       "    </tr>\n",
       "    <tr>\n",
       "      <th>4</th>\n",
       "      <td>1</td>\n",
       "      <td>2007</td>\n",
       "      <td>2</td>\n",
       "      <td>1</td>\n",
       "      <td>1</td>\n",
       "      <td>1</td>\n",
       "      <td>2</td>\n",
       "      <td>71</td>\n",
       "      <td>2</td>\n",
       "      <td>2</td>\n",
       "      <td>...</td>\n",
       "      <td>0</td>\n",
       "      <td>0</td>\n",
       "      <td>0</td>\n",
       "      <td>0</td>\n",
       "      <td>0</td>\n",
       "      <td>0</td>\n",
       "      <td>0</td>\n",
       "      <td>0</td>\n",
       "      <td>0</td>\n",
       "      <td>0</td>\n",
       "    </tr>\n",
       "    <tr>\n",
       "      <th>5</th>\n",
       "      <td>1</td>\n",
       "      <td>2007</td>\n",
       "      <td>2</td>\n",
       "      <td>1</td>\n",
       "      <td>1</td>\n",
       "      <td>1</td>\n",
       "      <td>1</td>\n",
       "      <td>920</td>\n",
       "      <td>2</td>\n",
       "      <td>1</td>\n",
       "      <td>...</td>\n",
       "      <td>1</td>\n",
       "      <td>0</td>\n",
       "      <td>0</td>\n",
       "      <td>0</td>\n",
       "      <td>0</td>\n",
       "      <td>0</td>\n",
       "      <td>0</td>\n",
       "      <td>1</td>\n",
       "      <td>0</td>\n",
       "      <td>0</td>\n",
       "    </tr>\n",
       "  </tbody>\n",
       "</table>\n",
       "<p>5 rows × 70 columns</p>\n",
       "</div>"
      ],
      "text/plain": [
       "   action_taken  as_of_year  agency_code  loan_type  property_type  \\\n",
       "1             1        2007            2          1              1   \n",
       "2             1        2007            7          1              1   \n",
       "3             1        2007            2          1              1   \n",
       "4             1        2007            2          1              1   \n",
       "5             1        2007            2          1              1   \n",
       "\n",
       "   loan_purpose  owner_occupancy  loan_amount_000s  preapproval  \\\n",
       "1             1                1               416            2   \n",
       "2             3                1               340            3   \n",
       "3             1                1               200            2   \n",
       "4             1                2                71            2   \n",
       "5             1                1               920            2   \n",
       "\n",
       "   applicant_ethnicity     ...       co_sex_5  purchaser_1  purchaser_2  \\\n",
       "1                    2     ...              1            0            0   \n",
       "2                    2     ...              1            0            0   \n",
       "3                    2     ...              1            0            0   \n",
       "4                    2     ...              0            0            0   \n",
       "5                    1     ...              1            0            0   \n",
       "\n",
       "   purchaser_3  purchaser_4  purchaser_5  purchaser_6  purchaser_7  \\\n",
       "1            0            0            0            0            1   \n",
       "2            0            0            0            0            0   \n",
       "3            0            0            0            0            1   \n",
       "4            0            0            0            0            0   \n",
       "5            0            0            0            0            1   \n",
       "\n",
       "   purchaser_8  purchaser_9  \n",
       "1            0            0  \n",
       "2            1            0  \n",
       "3            0            0  \n",
       "4            0            0  \n",
       "5            0            0  \n",
       "\n",
       "[5 rows x 70 columns]"
      ]
     },
     "execution_count": 104,
     "metadata": {},
     "output_type": "execute_result"
    }
   ],
   "source": [
    "df = pd.concat([df, pd.get_dummies(df['agency_code'], prefix = 'agent',drop_first=True)], axis=1); df\n",
    "df = pd.concat([df, pd.get_dummies(df['as_of_year'],drop_first=True)], axis=1); df\n",
    "df = pd.concat([df, pd.get_dummies(df['loan_type'],prefix = 'loan_type',drop_first=True)], axis=1); df\n",
    "df = pd.concat([df, pd.get_dummies(df['property_type'],prefix = 'pro_type',drop_first=True)], axis=1); df\n",
    "df = pd.concat([df, pd.get_dummies(df['loan_purpose'],prefix = 'loan_pur',drop_first=True)], axis=1); df\n",
    "df = pd.concat([df, pd.get_dummies(df['owner_occupancy'],prefix = 'owner',drop_first=True)], axis=1); df\n",
    "df = pd.concat([df, pd.get_dummies(df['preapproval'],prefix = 'pre',drop_first=True)], axis=1); df\n",
    "df = pd.concat([df, pd.get_dummies(df['applicant_ethnicity'],prefix = 'ethnicity',drop_first=True)], axis=1); df\n",
    "df = pd.concat([df, pd.get_dummies(df['co_applicant_ethnicity'],prefix = 'co_ethnicity',drop_first=True)], axis=1); df\n",
    "df = pd.concat([df, pd.get_dummies(df['applicant_race_1'],prefix = 'race',drop_first=True)], axis=1); df\n",
    "df = pd.concat([df, pd.get_dummies(df['co_applicant_race_1'],prefix = 'co_race',drop_first=True)], axis=1); df\n",
    "df = pd.concat([df, pd.get_dummies(df['applicant_sex'],prefix = 'sex',drop_first=True)], axis=1); df\n",
    "df = pd.concat([df, pd.get_dummies(df['co_applicant_sex'],prefix = 'co_sex',drop_first=True)], axis=1); df\n",
    "df = pd.concat([df, pd.get_dummies(df['purchaser_type'],prefix = 'purchaser',drop_first=True)], axis=1); df\n",
    "df.head()"
   ]
  },
  {
   "cell_type": "code",
   "execution_count": 105,
   "metadata": {},
   "outputs": [
    {
     "data": {
      "text/plain": [
       "Index([          'action_taken',             'as_of_year',\n",
       "                  'agency_code',              'loan_type',\n",
       "                'property_type',           'loan_purpose',\n",
       "              'owner_occupancy',       'loan_amount_000s',\n",
       "                  'preapproval',    'applicant_ethnicity',\n",
       "       'co_applicant_ethnicity',       'applicant_race_1',\n",
       "          'co_applicant_race_1',          'applicant_sex',\n",
       "             'co_applicant_sex',  'applicant_income_000s',\n",
       "               'purchaser_type',                'agent_2',\n",
       "                      'agent_3',                'agent_4',\n",
       "                      'agent_5',                'agent_7',\n",
       "                      'agent_9',                     2008,\n",
       "                           2009,                     2010,\n",
       "                           2011,                     2012,\n",
       "                  'loan_type_2',            'loan_type_3',\n",
       "                  'loan_type_4',             'pro_type_2',\n",
       "                   'pro_type_3',             'loan_pur_2',\n",
       "                   'loan_pur_3',                'owner_2',\n",
       "                      'owner_3',                  'pre_2',\n",
       "                        'pre_3',            'ethnicity_2',\n",
       "                  'ethnicity_3',            'ethnicity_4',\n",
       "               'co_ethnicity_2',         'co_ethnicity_3',\n",
       "               'co_ethnicity_4',         'co_ethnicity_5',\n",
       "                       'race_5',              'co_race_2',\n",
       "                    'co_race_3',              'co_race_4',\n",
       "                    'co_race_5',              'co_race_6',\n",
       "                    'co_race_7',              'co_race_8',\n",
       "                        'sex_2',                  'sex_3',\n",
       "                        'sex_4',               'co_sex_2',\n",
       "                     'co_sex_3',               'co_sex_4',\n",
       "                     'co_sex_5',            'purchaser_1',\n",
       "                  'purchaser_2',            'purchaser_3',\n",
       "                  'purchaser_4',            'purchaser_5',\n",
       "                  'purchaser_6',            'purchaser_7',\n",
       "                  'purchaser_8',            'purchaser_9'],\n",
       "      dtype='object')"
      ]
     },
     "execution_count": 105,
     "metadata": {},
     "output_type": "execute_result"
    }
   ],
   "source": [
    "df.columns"
   ]
  },
  {
   "cell_type": "markdown",
   "metadata": {},
   "source": [
    "### (4) Handling outliers"
   ]
  },
  {
   "cell_type": "markdown",
   "metadata": {},
   "source": [
    "We now drop some of the outliers which have been identified from the data visualization part. We will drop those observations which are 3 standard deviations above the mean. Mean and SD haven been calculated in csv beforehand. **Note that dropping too many outliers could reduce the predictive power of our model.**"
   ]
  },
  {
   "cell_type": "code",
   "execution_count": 106,
   "metadata": {},
   "outputs": [],
   "source": [
    "#Make a copy of the original dataset\n",
    "df2 = copy.deepcopy(df)"
   ]
  },
  {
   "cell_type": "code",
   "execution_count": 107,
   "metadata": {},
   "outputs": [],
   "source": [
    "#Convert df to the original version\n",
    "df =df2"
   ]
  },
  {
   "cell_type": "code",
   "execution_count": 108,
   "metadata": {},
   "outputs": [
    {
     "name": "stdout",
     "output_type": "stream",
     "text": [
      "Shape before:  (154254, 70)\n",
      "Shape after:  (153222, 70)\n"
     ]
    }
   ],
   "source": [
    "print(\"Shape before: \", df.shape)\n",
    "df = df[df['applicant_income_000s'] < 1000]\n",
    "# Check shape again to confirm\n",
    "print(\"Shape after: \", df.shape)"
   ]
  },
  {
   "cell_type": "code",
   "execution_count": 109,
   "metadata": {},
   "outputs": [
    {
     "name": "stdout",
     "output_type": "stream",
     "text": [
      "Shape before:  (153222, 70)\n",
      "Shape after:  (153050, 70)\n"
     ]
    }
   ],
   "source": [
    "print(\"Shape before: \", df.shape)\n",
    "df = df[df['loan_amount_000s'] < 2000]\n",
    "# Check shape again to confirm\n",
    "print(\"Shape after: \", df.shape)"
   ]
  },
  {
   "cell_type": "code",
   "execution_count": 213,
   "metadata": {},
   "outputs": [
    {
     "data": {
      "text/plain": [
       "<matplotlib.axes._subplots.AxesSubplot at 0x29707b5b588>"
      ]
     },
     "execution_count": 213,
     "metadata": {},
     "output_type": "execute_result"
    },
    {
     "data": {
      "image/png": "[encoded data removed]",
      "text/plain": [
       "<Figure size 432x288 with 1 Axes>"
      ]
     },
     "metadata": {},
     "output_type": "display_data"
    },
    {
     "data": {
      "image/png": "[encoded data removed]",
      "text/plain": [
       "<Figure size 432x288 with 1 Axes>"
      ]
     },
     "metadata": {},
     "output_type": "display_data"
    }
   ],
   "source": [
    "df[[\"loan_amount_000s\",]].plot.hist(bins = 50, alpha = 0.5)\n",
    "df[[\"loan_amount_000s\",]].plot.kde()"
   ]
  },
  {
   "cell_type": "code",
   "execution_count": 214,
   "metadata": {},
   "outputs": [
    {
     "data": {
      "text/plain": [
       "<matplotlib.axes._subplots.AxesSubplot at 0x29707b186d8>"
      ]
     },
     "execution_count": 214,
     "metadata": {},
     "output_type": "execute_result"
    },
    {
     "data": {
      "image/png": "[encoded data removed]",
      "text/plain": [
       "<Figure size 432x288 with 1 Axes>"
      ]
     },
     "metadata": {},
     "output_type": "display_data"
    },
    {
     "data": {
      "image/png": "[encoded data removed]",
      "text/plain": [
       "<Figure size 432x288 with 1 Axes>"
      ]
     },
     "metadata": {},
     "output_type": "display_data"
    }
   ],
   "source": [
    "df[[\"applicant_income_000s\",]].plot.hist(bins = 50, alpha = 0.5)\n",
    "df[[\"applicant_income_000s\",]].plot.kde()"
   ]
  },
  {
   "cell_type": "markdown",
   "metadata": {},
   "source": [
    "### (5) Merge classes"
   ]
  },
  {
   "cell_type": "code",
   "execution_count": 110,
   "metadata": {},
   "outputs": [
    {
     "data": {
      "text/plain": [
       "1    120919\n",
       "0     32131\n",
       "Name: action_taken, dtype: int64"
      ]
     },
     "execution_count": 110,
     "metadata": {},
     "output_type": "execute_result"
    }
   ],
   "source": [
    "df['action_taken'].value_counts()"
   ]
  },
  {
   "cell_type": "code",
   "execution_count": 111,
   "metadata": {},
   "outputs": [],
   "source": [
    "#df['action_taken'] = df['action_taken'].astype('category')\n",
    "#df.columns"
   ]
  },
  {
   "cell_type": "code",
   "execution_count": 112,
   "metadata": {},
   "outputs": [
    {
     "data": {
      "text/plain": [
       "(153050, 55)"
      ]
     },
     "execution_count": 112,
     "metadata": {},
     "output_type": "execute_result"
    }
   ],
   "source": [
    "Y = df['action_taken']\n",
    "X = df.drop(columns = ['as_of_year','action_taken','agency_code','loan_type','property_type','loan_purpose','owner_occupancy','preapproval','applicant_ethnicity','co_applicant_ethnicity','applicant_sex','co_applicant_sex','applicant_race_1','co_applicant_race_1','purchaser_type'])\n",
    "X.shape"
   ]
  },
  {
   "cell_type": "code",
   "execution_count": 113,
   "metadata": {},
   "outputs": [
    {
     "data": {
      "text/plain": [
       "1        1\n",
       "2        1\n",
       "3        1\n",
       "4        1\n",
       "5        1\n",
       "6        1\n",
       "7        1\n",
       "8        1\n",
       "9        1\n",
       "11       1\n",
       "12       1\n",
       "13       1\n",
       "15       1\n",
       "16       0\n",
       "17       1\n",
       "18       1\n",
       "19       1\n",
       "20       1\n",
       "22       0\n",
       "23       1\n",
       "24       1\n",
       "25       1\n",
       "27       1\n",
       "30       1\n",
       "31       1\n",
       "32       1\n",
       "33       1\n",
       "34       0\n",
       "36       1\n",
       "39       1\n",
       "        ..\n",
       "48495    1\n",
       "48501    1\n",
       "48503    1\n",
       "48505    1\n",
       "48521    1\n",
       "48527    1\n",
       "48543    1\n",
       "48545    1\n",
       "48553    1\n",
       "48555    1\n",
       "48561    1\n",
       "48563    1\n",
       "48565    1\n",
       "48566    0\n",
       "48568    0\n",
       "48570    0\n",
       "48571    1\n",
       "48572    0\n",
       "48574    0\n",
       "48575    1\n",
       "48576    0\n",
       "48577    1\n",
       "48578    1\n",
       "48580    1\n",
       "48585    1\n",
       "48587    1\n",
       "48589    1\n",
       "48591    1\n",
       "48595    1\n",
       "48614    0\n",
       "Name: action_taken, Length: 153050, dtype: int64"
      ]
     },
     "execution_count": 113,
     "metadata": {},
     "output_type": "execute_result"
    }
   ],
   "source": [
    "Y"
   ]
  },
  {
   "cell_type": "code",
   "execution_count": 114,
   "metadata": {
    "scrolled": false
   },
   "outputs": [
    {
     "data": {
      "text/html": [
       "<div>\n",
       "<style scoped>\n",
       "    .dataframe tbody tr th:only-of-type {\n",
       "        vertical-align: middle;\n",
       "    }\n",
       "\n",
       "    .dataframe tbody tr th {\n",
       "        vertical-align: top;\n",
       "    }\n",
       "\n",
       "    .dataframe thead th {\n",
       "        text-align: right;\n",
       "    }\n",
       "</style>\n",
       "<table border=\"1\" class=\"dataframe\">\n",
       "  <thead>\n",
       "    <tr style=\"text-align: right;\">\n",
       "      <th></th>\n",
       "      <th>loan_amount_000s</th>\n",
       "      <th>applicant_income_000s</th>\n",
       "      <th>agent_2</th>\n",
       "      <th>agent_3</th>\n",
       "      <th>agent_4</th>\n",
       "      <th>agent_5</th>\n",
       "      <th>agent_7</th>\n",
       "      <th>agent_9</th>\n",
       "      <th>2008</th>\n",
       "      <th>2009</th>\n",
       "      <th>...</th>\n",
       "      <th>co_sex_5</th>\n",
       "      <th>purchaser_1</th>\n",
       "      <th>purchaser_2</th>\n",
       "      <th>purchaser_3</th>\n",
       "      <th>purchaser_4</th>\n",
       "      <th>purchaser_5</th>\n",
       "      <th>purchaser_6</th>\n",
       "      <th>purchaser_7</th>\n",
       "      <th>purchaser_8</th>\n",
       "      <th>purchaser_9</th>\n",
       "    </tr>\n",
       "  </thead>\n",
       "  <tbody>\n",
       "    <tr>\n",
       "      <th>1</th>\n",
       "      <td>416</td>\n",
       "      <td>112.0</td>\n",
       "      <td>1</td>\n",
       "      <td>0</td>\n",
       "      <td>0</td>\n",
       "      <td>0</td>\n",
       "      <td>0</td>\n",
       "      <td>0</td>\n",
       "      <td>0</td>\n",
       "      <td>0</td>\n",
       "      <td>...</td>\n",
       "      <td>1</td>\n",
       "      <td>0</td>\n",
       "      <td>0</td>\n",
       "      <td>0</td>\n",
       "      <td>0</td>\n",
       "      <td>0</td>\n",
       "      <td>0</td>\n",
       "      <td>1</td>\n",
       "      <td>0</td>\n",
       "      <td>0</td>\n",
       "    </tr>\n",
       "    <tr>\n",
       "      <th>2</th>\n",
       "      <td>340</td>\n",
       "      <td>65.0</td>\n",
       "      <td>0</td>\n",
       "      <td>0</td>\n",
       "      <td>0</td>\n",
       "      <td>0</td>\n",
       "      <td>1</td>\n",
       "      <td>0</td>\n",
       "      <td>0</td>\n",
       "      <td>0</td>\n",
       "      <td>...</td>\n",
       "      <td>1</td>\n",
       "      <td>0</td>\n",
       "      <td>0</td>\n",
       "      <td>0</td>\n",
       "      <td>0</td>\n",
       "      <td>0</td>\n",
       "      <td>0</td>\n",
       "      <td>0</td>\n",
       "      <td>1</td>\n",
       "      <td>0</td>\n",
       "    </tr>\n",
       "    <tr>\n",
       "      <th>3</th>\n",
       "      <td>200</td>\n",
       "      <td>112.0</td>\n",
       "      <td>1</td>\n",
       "      <td>0</td>\n",
       "      <td>0</td>\n",
       "      <td>0</td>\n",
       "      <td>0</td>\n",
       "      <td>0</td>\n",
       "      <td>0</td>\n",
       "      <td>0</td>\n",
       "      <td>...</td>\n",
       "      <td>1</td>\n",
       "      <td>0</td>\n",
       "      <td>0</td>\n",
       "      <td>0</td>\n",
       "      <td>0</td>\n",
       "      <td>0</td>\n",
       "      <td>0</td>\n",
       "      <td>1</td>\n",
       "      <td>0</td>\n",
       "      <td>0</td>\n",
       "    </tr>\n",
       "    <tr>\n",
       "      <th>4</th>\n",
       "      <td>71</td>\n",
       "      <td>325.0</td>\n",
       "      <td>1</td>\n",
       "      <td>0</td>\n",
       "      <td>0</td>\n",
       "      <td>0</td>\n",
       "      <td>0</td>\n",
       "      <td>0</td>\n",
       "      <td>0</td>\n",
       "      <td>0</td>\n",
       "      <td>...</td>\n",
       "      <td>0</td>\n",
       "      <td>0</td>\n",
       "      <td>0</td>\n",
       "      <td>0</td>\n",
       "      <td>0</td>\n",
       "      <td>0</td>\n",
       "      <td>0</td>\n",
       "      <td>0</td>\n",
       "      <td>0</td>\n",
       "      <td>0</td>\n",
       "    </tr>\n",
       "    <tr>\n",
       "      <th>5</th>\n",
       "      <td>920</td>\n",
       "      <td>112.0</td>\n",
       "      <td>1</td>\n",
       "      <td>0</td>\n",
       "      <td>0</td>\n",
       "      <td>0</td>\n",
       "      <td>0</td>\n",
       "      <td>0</td>\n",
       "      <td>0</td>\n",
       "      <td>0</td>\n",
       "      <td>...</td>\n",
       "      <td>1</td>\n",
       "      <td>0</td>\n",
       "      <td>0</td>\n",
       "      <td>0</td>\n",
       "      <td>0</td>\n",
       "      <td>0</td>\n",
       "      <td>0</td>\n",
       "      <td>1</td>\n",
       "      <td>0</td>\n",
       "      <td>0</td>\n",
       "    </tr>\n",
       "    <tr>\n",
       "      <th>6</th>\n",
       "      <td>401</td>\n",
       "      <td>70.0</td>\n",
       "      <td>0</td>\n",
       "      <td>0</td>\n",
       "      <td>0</td>\n",
       "      <td>0</td>\n",
       "      <td>1</td>\n",
       "      <td>0</td>\n",
       "      <td>0</td>\n",
       "      <td>0</td>\n",
       "      <td>...</td>\n",
       "      <td>1</td>\n",
       "      <td>0</td>\n",
       "      <td>0</td>\n",
       "      <td>0</td>\n",
       "      <td>0</td>\n",
       "      <td>0</td>\n",
       "      <td>0</td>\n",
       "      <td>0</td>\n",
       "      <td>0</td>\n",
       "      <td>1</td>\n",
       "    </tr>\n",
       "    <tr>\n",
       "      <th>7</th>\n",
       "      <td>95</td>\n",
       "      <td>112.0</td>\n",
       "      <td>1</td>\n",
       "      <td>0</td>\n",
       "      <td>0</td>\n",
       "      <td>0</td>\n",
       "      <td>0</td>\n",
       "      <td>0</td>\n",
       "      <td>0</td>\n",
       "      <td>0</td>\n",
       "      <td>...</td>\n",
       "      <td>1</td>\n",
       "      <td>0</td>\n",
       "      <td>0</td>\n",
       "      <td>0</td>\n",
       "      <td>0</td>\n",
       "      <td>0</td>\n",
       "      <td>0</td>\n",
       "      <td>1</td>\n",
       "      <td>0</td>\n",
       "      <td>0</td>\n",
       "    </tr>\n",
       "    <tr>\n",
       "      <th>8</th>\n",
       "      <td>399</td>\n",
       "      <td>23.0</td>\n",
       "      <td>0</td>\n",
       "      <td>0</td>\n",
       "      <td>0</td>\n",
       "      <td>0</td>\n",
       "      <td>1</td>\n",
       "      <td>0</td>\n",
       "      <td>0</td>\n",
       "      <td>0</td>\n",
       "      <td>...</td>\n",
       "      <td>1</td>\n",
       "      <td>0</td>\n",
       "      <td>0</td>\n",
       "      <td>0</td>\n",
       "      <td>0</td>\n",
       "      <td>0</td>\n",
       "      <td>0</td>\n",
       "      <td>0</td>\n",
       "      <td>0</td>\n",
       "      <td>0</td>\n",
       "    </tr>\n",
       "    <tr>\n",
       "      <th>9</th>\n",
       "      <td>379</td>\n",
       "      <td>112.0</td>\n",
       "      <td>1</td>\n",
       "      <td>0</td>\n",
       "      <td>0</td>\n",
       "      <td>0</td>\n",
       "      <td>0</td>\n",
       "      <td>0</td>\n",
       "      <td>0</td>\n",
       "      <td>0</td>\n",
       "      <td>...</td>\n",
       "      <td>1</td>\n",
       "      <td>0</td>\n",
       "      <td>0</td>\n",
       "      <td>0</td>\n",
       "      <td>0</td>\n",
       "      <td>0</td>\n",
       "      <td>0</td>\n",
       "      <td>1</td>\n",
       "      <td>0</td>\n",
       "      <td>0</td>\n",
       "    </tr>\n",
       "    <tr>\n",
       "      <th>11</th>\n",
       "      <td>127</td>\n",
       "      <td>112.0</td>\n",
       "      <td>1</td>\n",
       "      <td>0</td>\n",
       "      <td>0</td>\n",
       "      <td>0</td>\n",
       "      <td>0</td>\n",
       "      <td>0</td>\n",
       "      <td>0</td>\n",
       "      <td>0</td>\n",
       "      <td>...</td>\n",
       "      <td>1</td>\n",
       "      <td>0</td>\n",
       "      <td>0</td>\n",
       "      <td>0</td>\n",
       "      <td>0</td>\n",
       "      <td>0</td>\n",
       "      <td>0</td>\n",
       "      <td>1</td>\n",
       "      <td>0</td>\n",
       "      <td>0</td>\n",
       "    </tr>\n",
       "    <tr>\n",
       "      <th>12</th>\n",
       "      <td>322</td>\n",
       "      <td>63.0</td>\n",
       "      <td>0</td>\n",
       "      <td>0</td>\n",
       "      <td>0</td>\n",
       "      <td>0</td>\n",
       "      <td>0</td>\n",
       "      <td>0</td>\n",
       "      <td>0</td>\n",
       "      <td>0</td>\n",
       "      <td>...</td>\n",
       "      <td>0</td>\n",
       "      <td>1</td>\n",
       "      <td>0</td>\n",
       "      <td>0</td>\n",
       "      <td>0</td>\n",
       "      <td>0</td>\n",
       "      <td>0</td>\n",
       "      <td>0</td>\n",
       "      <td>0</td>\n",
       "      <td>0</td>\n",
       "    </tr>\n",
       "    <tr>\n",
       "      <th>13</th>\n",
       "      <td>72</td>\n",
       "      <td>112.0</td>\n",
       "      <td>1</td>\n",
       "      <td>0</td>\n",
       "      <td>0</td>\n",
       "      <td>0</td>\n",
       "      <td>0</td>\n",
       "      <td>0</td>\n",
       "      <td>0</td>\n",
       "      <td>0</td>\n",
       "      <td>...</td>\n",
       "      <td>1</td>\n",
       "      <td>0</td>\n",
       "      <td>0</td>\n",
       "      <td>0</td>\n",
       "      <td>0</td>\n",
       "      <td>0</td>\n",
       "      <td>0</td>\n",
       "      <td>0</td>\n",
       "      <td>0</td>\n",
       "      <td>0</td>\n",
       "    </tr>\n",
       "    <tr>\n",
       "      <th>15</th>\n",
       "      <td>480</td>\n",
       "      <td>112.0</td>\n",
       "      <td>1</td>\n",
       "      <td>0</td>\n",
       "      <td>0</td>\n",
       "      <td>0</td>\n",
       "      <td>0</td>\n",
       "      <td>0</td>\n",
       "      <td>0</td>\n",
       "      <td>0</td>\n",
       "      <td>...</td>\n",
       "      <td>1</td>\n",
       "      <td>0</td>\n",
       "      <td>0</td>\n",
       "      <td>0</td>\n",
       "      <td>0</td>\n",
       "      <td>0</td>\n",
       "      <td>0</td>\n",
       "      <td>1</td>\n",
       "      <td>0</td>\n",
       "      <td>0</td>\n",
       "    </tr>\n",
       "    <tr>\n",
       "      <th>16</th>\n",
       "      <td>100</td>\n",
       "      <td>192.0</td>\n",
       "      <td>0</td>\n",
       "      <td>0</td>\n",
       "      <td>0</td>\n",
       "      <td>0</td>\n",
       "      <td>0</td>\n",
       "      <td>0</td>\n",
       "      <td>0</td>\n",
       "      <td>0</td>\n",
       "      <td>...</td>\n",
       "      <td>0</td>\n",
       "      <td>0</td>\n",
       "      <td>0</td>\n",
       "      <td>0</td>\n",
       "      <td>0</td>\n",
       "      <td>0</td>\n",
       "      <td>0</td>\n",
       "      <td>0</td>\n",
       "      <td>0</td>\n",
       "      <td>0</td>\n",
       "    </tr>\n",
       "    <tr>\n",
       "      <th>17</th>\n",
       "      <td>811</td>\n",
       "      <td>112.0</td>\n",
       "      <td>1</td>\n",
       "      <td>0</td>\n",
       "      <td>0</td>\n",
       "      <td>0</td>\n",
       "      <td>0</td>\n",
       "      <td>0</td>\n",
       "      <td>0</td>\n",
       "      <td>0</td>\n",
       "      <td>...</td>\n",
       "      <td>1</td>\n",
       "      <td>0</td>\n",
       "      <td>0</td>\n",
       "      <td>0</td>\n",
       "      <td>0</td>\n",
       "      <td>0</td>\n",
       "      <td>0</td>\n",
       "      <td>1</td>\n",
       "      <td>0</td>\n",
       "      <td>0</td>\n",
       "    </tr>\n",
       "    <tr>\n",
       "      <th>18</th>\n",
       "      <td>112</td>\n",
       "      <td>28.0</td>\n",
       "      <td>1</td>\n",
       "      <td>0</td>\n",
       "      <td>0</td>\n",
       "      <td>0</td>\n",
       "      <td>0</td>\n",
       "      <td>0</td>\n",
       "      <td>0</td>\n",
       "      <td>0</td>\n",
       "      <td>...</td>\n",
       "      <td>1</td>\n",
       "      <td>0</td>\n",
       "      <td>0</td>\n",
       "      <td>0</td>\n",
       "      <td>0</td>\n",
       "      <td>0</td>\n",
       "      <td>0</td>\n",
       "      <td>0</td>\n",
       "      <td>0</td>\n",
       "      <td>1</td>\n",
       "    </tr>\n",
       "    <tr>\n",
       "      <th>19</th>\n",
       "      <td>350</td>\n",
       "      <td>112.0</td>\n",
       "      <td>1</td>\n",
       "      <td>0</td>\n",
       "      <td>0</td>\n",
       "      <td>0</td>\n",
       "      <td>0</td>\n",
       "      <td>0</td>\n",
       "      <td>0</td>\n",
       "      <td>0</td>\n",
       "      <td>...</td>\n",
       "      <td>1</td>\n",
       "      <td>0</td>\n",
       "      <td>0</td>\n",
       "      <td>0</td>\n",
       "      <td>0</td>\n",
       "      <td>0</td>\n",
       "      <td>0</td>\n",
       "      <td>1</td>\n",
       "      <td>0</td>\n",
       "      <td>0</td>\n",
       "    </tr>\n",
       "    <tr>\n",
       "      <th>20</th>\n",
       "      <td>252</td>\n",
       "      <td>74.0</td>\n",
       "      <td>0</td>\n",
       "      <td>0</td>\n",
       "      <td>0</td>\n",
       "      <td>0</td>\n",
       "      <td>1</td>\n",
       "      <td>0</td>\n",
       "      <td>0</td>\n",
       "      <td>0</td>\n",
       "      <td>...</td>\n",
       "      <td>1</td>\n",
       "      <td>0</td>\n",
       "      <td>0</td>\n",
       "      <td>0</td>\n",
       "      <td>0</td>\n",
       "      <td>0</td>\n",
       "      <td>0</td>\n",
       "      <td>0</td>\n",
       "      <td>0</td>\n",
       "      <td>0</td>\n",
       "    </tr>\n",
       "    <tr>\n",
       "      <th>22</th>\n",
       "      <td>873</td>\n",
       "      <td>305.0</td>\n",
       "      <td>0</td>\n",
       "      <td>0</td>\n",
       "      <td>1</td>\n",
       "      <td>0</td>\n",
       "      <td>0</td>\n",
       "      <td>0</td>\n",
       "      <td>0</td>\n",
       "      <td>0</td>\n",
       "      <td>...</td>\n",
       "      <td>1</td>\n",
       "      <td>0</td>\n",
       "      <td>0</td>\n",
       "      <td>0</td>\n",
       "      <td>0</td>\n",
       "      <td>0</td>\n",
       "      <td>0</td>\n",
       "      <td>0</td>\n",
       "      <td>0</td>\n",
       "      <td>0</td>\n",
       "    </tr>\n",
       "    <tr>\n",
       "      <th>23</th>\n",
       "      <td>133</td>\n",
       "      <td>62.0</td>\n",
       "      <td>0</td>\n",
       "      <td>0</td>\n",
       "      <td>0</td>\n",
       "      <td>0</td>\n",
       "      <td>1</td>\n",
       "      <td>0</td>\n",
       "      <td>0</td>\n",
       "      <td>0</td>\n",
       "      <td>...</td>\n",
       "      <td>1</td>\n",
       "      <td>0</td>\n",
       "      <td>0</td>\n",
       "      <td>0</td>\n",
       "      <td>0</td>\n",
       "      <td>0</td>\n",
       "      <td>1</td>\n",
       "      <td>0</td>\n",
       "      <td>0</td>\n",
       "      <td>0</td>\n",
       "    </tr>\n",
       "    <tr>\n",
       "      <th>24</th>\n",
       "      <td>600</td>\n",
       "      <td>188.0</td>\n",
       "      <td>0</td>\n",
       "      <td>0</td>\n",
       "      <td>1</td>\n",
       "      <td>0</td>\n",
       "      <td>0</td>\n",
       "      <td>0</td>\n",
       "      <td>0</td>\n",
       "      <td>0</td>\n",
       "      <td>...</td>\n",
       "      <td>0</td>\n",
       "      <td>0</td>\n",
       "      <td>0</td>\n",
       "      <td>0</td>\n",
       "      <td>0</td>\n",
       "      <td>0</td>\n",
       "      <td>0</td>\n",
       "      <td>0</td>\n",
       "      <td>1</td>\n",
       "      <td>0</td>\n",
       "    </tr>\n",
       "    <tr>\n",
       "      <th>25</th>\n",
       "      <td>48</td>\n",
       "      <td>78.0</td>\n",
       "      <td>0</td>\n",
       "      <td>0</td>\n",
       "      <td>0</td>\n",
       "      <td>0</td>\n",
       "      <td>1</td>\n",
       "      <td>0</td>\n",
       "      <td>0</td>\n",
       "      <td>0</td>\n",
       "      <td>...</td>\n",
       "      <td>1</td>\n",
       "      <td>1</td>\n",
       "      <td>0</td>\n",
       "      <td>0</td>\n",
       "      <td>0</td>\n",
       "      <td>0</td>\n",
       "      <td>0</td>\n",
       "      <td>0</td>\n",
       "      <td>0</td>\n",
       "      <td>0</td>\n",
       "    </tr>\n",
       "    <tr>\n",
       "      <th>27</th>\n",
       "      <td>696</td>\n",
       "      <td>235.0</td>\n",
       "      <td>0</td>\n",
       "      <td>0</td>\n",
       "      <td>0</td>\n",
       "      <td>0</td>\n",
       "      <td>1</td>\n",
       "      <td>0</td>\n",
       "      <td>0</td>\n",
       "      <td>0</td>\n",
       "      <td>...</td>\n",
       "      <td>0</td>\n",
       "      <td>1</td>\n",
       "      <td>0</td>\n",
       "      <td>0</td>\n",
       "      <td>0</td>\n",
       "      <td>0</td>\n",
       "      <td>0</td>\n",
       "      <td>0</td>\n",
       "      <td>0</td>\n",
       "      <td>0</td>\n",
       "    </tr>\n",
       "    <tr>\n",
       "      <th>30</th>\n",
       "      <td>399</td>\n",
       "      <td>70.0</td>\n",
       "      <td>0</td>\n",
       "      <td>0</td>\n",
       "      <td>0</td>\n",
       "      <td>0</td>\n",
       "      <td>0</td>\n",
       "      <td>0</td>\n",
       "      <td>0</td>\n",
       "      <td>0</td>\n",
       "      <td>...</td>\n",
       "      <td>1</td>\n",
       "      <td>1</td>\n",
       "      <td>0</td>\n",
       "      <td>0</td>\n",
       "      <td>0</td>\n",
       "      <td>0</td>\n",
       "      <td>0</td>\n",
       "      <td>0</td>\n",
       "      <td>0</td>\n",
       "      <td>0</td>\n",
       "    </tr>\n",
       "    <tr>\n",
       "      <th>31</th>\n",
       "      <td>360</td>\n",
       "      <td>185.0</td>\n",
       "      <td>0</td>\n",
       "      <td>0</td>\n",
       "      <td>0</td>\n",
       "      <td>0</td>\n",
       "      <td>1</td>\n",
       "      <td>0</td>\n",
       "      <td>0</td>\n",
       "      <td>0</td>\n",
       "      <td>...</td>\n",
       "      <td>0</td>\n",
       "      <td>1</td>\n",
       "      <td>0</td>\n",
       "      <td>0</td>\n",
       "      <td>0</td>\n",
       "      <td>0</td>\n",
       "      <td>0</td>\n",
       "      <td>0</td>\n",
       "      <td>0</td>\n",
       "      <td>0</td>\n",
       "    </tr>\n",
       "    <tr>\n",
       "      <th>32</th>\n",
       "      <td>252</td>\n",
       "      <td>135.0</td>\n",
       "      <td>0</td>\n",
       "      <td>0</td>\n",
       "      <td>0</td>\n",
       "      <td>0</td>\n",
       "      <td>0</td>\n",
       "      <td>0</td>\n",
       "      <td>0</td>\n",
       "      <td>0</td>\n",
       "      <td>...</td>\n",
       "      <td>0</td>\n",
       "      <td>0</td>\n",
       "      <td>0</td>\n",
       "      <td>0</td>\n",
       "      <td>0</td>\n",
       "      <td>0</td>\n",
       "      <td>0</td>\n",
       "      <td>0</td>\n",
       "      <td>0</td>\n",
       "      <td>0</td>\n",
       "    </tr>\n",
       "    <tr>\n",
       "      <th>33</th>\n",
       "      <td>261</td>\n",
       "      <td>72.0</td>\n",
       "      <td>0</td>\n",
       "      <td>0</td>\n",
       "      <td>0</td>\n",
       "      <td>0</td>\n",
       "      <td>1</td>\n",
       "      <td>0</td>\n",
       "      <td>0</td>\n",
       "      <td>0</td>\n",
       "      <td>...</td>\n",
       "      <td>1</td>\n",
       "      <td>1</td>\n",
       "      <td>0</td>\n",
       "      <td>0</td>\n",
       "      <td>0</td>\n",
       "      <td>0</td>\n",
       "      <td>0</td>\n",
       "      <td>0</td>\n",
       "      <td>0</td>\n",
       "      <td>0</td>\n",
       "    </tr>\n",
       "    <tr>\n",
       "      <th>34</th>\n",
       "      <td>240</td>\n",
       "      <td>54.0</td>\n",
       "      <td>0</td>\n",
       "      <td>0</td>\n",
       "      <td>0</td>\n",
       "      <td>0</td>\n",
       "      <td>0</td>\n",
       "      <td>0</td>\n",
       "      <td>0</td>\n",
       "      <td>0</td>\n",
       "      <td>...</td>\n",
       "      <td>1</td>\n",
       "      <td>0</td>\n",
       "      <td>0</td>\n",
       "      <td>0</td>\n",
       "      <td>0</td>\n",
       "      <td>0</td>\n",
       "      <td>0</td>\n",
       "      <td>0</td>\n",
       "      <td>0</td>\n",
       "      <td>0</td>\n",
       "    </tr>\n",
       "    <tr>\n",
       "      <th>36</th>\n",
       "      <td>417</td>\n",
       "      <td>141.0</td>\n",
       "      <td>0</td>\n",
       "      <td>0</td>\n",
       "      <td>1</td>\n",
       "      <td>0</td>\n",
       "      <td>0</td>\n",
       "      <td>0</td>\n",
       "      <td>0</td>\n",
       "      <td>0</td>\n",
       "      <td>...</td>\n",
       "      <td>0</td>\n",
       "      <td>0</td>\n",
       "      <td>0</td>\n",
       "      <td>0</td>\n",
       "      <td>0</td>\n",
       "      <td>0</td>\n",
       "      <td>0</td>\n",
       "      <td>1</td>\n",
       "      <td>0</td>\n",
       "      <td>0</td>\n",
       "    </tr>\n",
       "    <tr>\n",
       "      <th>39</th>\n",
       "      <td>72</td>\n",
       "      <td>72.0</td>\n",
       "      <td>0</td>\n",
       "      <td>0</td>\n",
       "      <td>0</td>\n",
       "      <td>0</td>\n",
       "      <td>1</td>\n",
       "      <td>0</td>\n",
       "      <td>0</td>\n",
       "      <td>0</td>\n",
       "      <td>...</td>\n",
       "      <td>1</td>\n",
       "      <td>1</td>\n",
       "      <td>0</td>\n",
       "      <td>0</td>\n",
       "      <td>0</td>\n",
       "      <td>0</td>\n",
       "      <td>0</td>\n",
       "      <td>0</td>\n",
       "      <td>0</td>\n",
       "      <td>0</td>\n",
       "    </tr>\n",
       "    <tr>\n",
       "      <th>...</th>\n",
       "      <td>...</td>\n",
       "      <td>...</td>\n",
       "      <td>...</td>\n",
       "      <td>...</td>\n",
       "      <td>...</td>\n",
       "      <td>...</td>\n",
       "      <td>...</td>\n",
       "      <td>...</td>\n",
       "      <td>...</td>\n",
       "      <td>...</td>\n",
       "      <td>...</td>\n",
       "      <td>...</td>\n",
       "      <td>...</td>\n",
       "      <td>...</td>\n",
       "      <td>...</td>\n",
       "      <td>...</td>\n",
       "      <td>...</td>\n",
       "      <td>...</td>\n",
       "      <td>...</td>\n",
       "      <td>...</td>\n",
       "      <td>...</td>\n",
       "    </tr>\n",
       "    <tr>\n",
       "      <th>48495</th>\n",
       "      <td>340</td>\n",
       "      <td>100.0</td>\n",
       "      <td>0</td>\n",
       "      <td>0</td>\n",
       "      <td>0</td>\n",
       "      <td>0</td>\n",
       "      <td>0</td>\n",
       "      <td>1</td>\n",
       "      <td>0</td>\n",
       "      <td>0</td>\n",
       "      <td>...</td>\n",
       "      <td>0</td>\n",
       "      <td>1</td>\n",
       "      <td>0</td>\n",
       "      <td>0</td>\n",
       "      <td>0</td>\n",
       "      <td>0</td>\n",
       "      <td>0</td>\n",
       "      <td>0</td>\n",
       "      <td>0</td>\n",
       "      <td>0</td>\n",
       "    </tr>\n",
       "    <tr>\n",
       "      <th>48501</th>\n",
       "      <td>153</td>\n",
       "      <td>39.0</td>\n",
       "      <td>0</td>\n",
       "      <td>0</td>\n",
       "      <td>0</td>\n",
       "      <td>0</td>\n",
       "      <td>0</td>\n",
       "      <td>1</td>\n",
       "      <td>0</td>\n",
       "      <td>0</td>\n",
       "      <td>...</td>\n",
       "      <td>1</td>\n",
       "      <td>0</td>\n",
       "      <td>1</td>\n",
       "      <td>0</td>\n",
       "      <td>0</td>\n",
       "      <td>0</td>\n",
       "      <td>0</td>\n",
       "      <td>0</td>\n",
       "      <td>0</td>\n",
       "      <td>0</td>\n",
       "    </tr>\n",
       "    <tr>\n",
       "      <th>48503</th>\n",
       "      <td>414</td>\n",
       "      <td>179.0</td>\n",
       "      <td>0</td>\n",
       "      <td>0</td>\n",
       "      <td>0</td>\n",
       "      <td>0</td>\n",
       "      <td>0</td>\n",
       "      <td>1</td>\n",
       "      <td>0</td>\n",
       "      <td>0</td>\n",
       "      <td>...</td>\n",
       "      <td>0</td>\n",
       "      <td>1</td>\n",
       "      <td>0</td>\n",
       "      <td>0</td>\n",
       "      <td>0</td>\n",
       "      <td>0</td>\n",
       "      <td>0</td>\n",
       "      <td>0</td>\n",
       "      <td>0</td>\n",
       "      <td>0</td>\n",
       "    </tr>\n",
       "    <tr>\n",
       "      <th>48505</th>\n",
       "      <td>341</td>\n",
       "      <td>85.0</td>\n",
       "      <td>0</td>\n",
       "      <td>0</td>\n",
       "      <td>0</td>\n",
       "      <td>0</td>\n",
       "      <td>0</td>\n",
       "      <td>1</td>\n",
       "      <td>0</td>\n",
       "      <td>0</td>\n",
       "      <td>...</td>\n",
       "      <td>1</td>\n",
       "      <td>0</td>\n",
       "      <td>0</td>\n",
       "      <td>0</td>\n",
       "      <td>0</td>\n",
       "      <td>0</td>\n",
       "      <td>0</td>\n",
       "      <td>0</td>\n",
       "      <td>0</td>\n",
       "      <td>0</td>\n",
       "    </tr>\n",
       "    <tr>\n",
       "      <th>48521</th>\n",
       "      <td>243</td>\n",
       "      <td>64.0</td>\n",
       "      <td>0</td>\n",
       "      <td>0</td>\n",
       "      <td>0</td>\n",
       "      <td>0</td>\n",
       "      <td>0</td>\n",
       "      <td>1</td>\n",
       "      <td>0</td>\n",
       "      <td>0</td>\n",
       "      <td>...</td>\n",
       "      <td>1</td>\n",
       "      <td>1</td>\n",
       "      <td>0</td>\n",
       "      <td>0</td>\n",
       "      <td>0</td>\n",
       "      <td>0</td>\n",
       "      <td>0</td>\n",
       "      <td>0</td>\n",
       "      <td>0</td>\n",
       "      <td>0</td>\n",
       "    </tr>\n",
       "    <tr>\n",
       "      <th>48527</th>\n",
       "      <td>243</td>\n",
       "      <td>89.0</td>\n",
       "      <td>0</td>\n",
       "      <td>0</td>\n",
       "      <td>0</td>\n",
       "      <td>0</td>\n",
       "      <td>0</td>\n",
       "      <td>1</td>\n",
       "      <td>0</td>\n",
       "      <td>0</td>\n",
       "      <td>...</td>\n",
       "      <td>1</td>\n",
       "      <td>0</td>\n",
       "      <td>1</td>\n",
       "      <td>0</td>\n",
       "      <td>0</td>\n",
       "      <td>0</td>\n",
       "      <td>0</td>\n",
       "      <td>0</td>\n",
       "      <td>0</td>\n",
       "      <td>0</td>\n",
       "    </tr>\n",
       "    <tr>\n",
       "      <th>48543</th>\n",
       "      <td>111</td>\n",
       "      <td>38.0</td>\n",
       "      <td>0</td>\n",
       "      <td>0</td>\n",
       "      <td>0</td>\n",
       "      <td>0</td>\n",
       "      <td>0</td>\n",
       "      <td>1</td>\n",
       "      <td>0</td>\n",
       "      <td>0</td>\n",
       "      <td>...</td>\n",
       "      <td>1</td>\n",
       "      <td>0</td>\n",
       "      <td>1</td>\n",
       "      <td>0</td>\n",
       "      <td>0</td>\n",
       "      <td>0</td>\n",
       "      <td>0</td>\n",
       "      <td>0</td>\n",
       "      <td>0</td>\n",
       "      <td>0</td>\n",
       "    </tr>\n",
       "    <tr>\n",
       "      <th>48545</th>\n",
       "      <td>598</td>\n",
       "      <td>251.0</td>\n",
       "      <td>0</td>\n",
       "      <td>0</td>\n",
       "      <td>0</td>\n",
       "      <td>0</td>\n",
       "      <td>0</td>\n",
       "      <td>1</td>\n",
       "      <td>0</td>\n",
       "      <td>0</td>\n",
       "      <td>...</td>\n",
       "      <td>0</td>\n",
       "      <td>1</td>\n",
       "      <td>0</td>\n",
       "      <td>0</td>\n",
       "      <td>0</td>\n",
       "      <td>0</td>\n",
       "      <td>0</td>\n",
       "      <td>0</td>\n",
       "      <td>0</td>\n",
       "      <td>0</td>\n",
       "    </tr>\n",
       "    <tr>\n",
       "      <th>48553</th>\n",
       "      <td>167</td>\n",
       "      <td>180.0</td>\n",
       "      <td>0</td>\n",
       "      <td>0</td>\n",
       "      <td>0</td>\n",
       "      <td>0</td>\n",
       "      <td>0</td>\n",
       "      <td>1</td>\n",
       "      <td>0</td>\n",
       "      <td>0</td>\n",
       "      <td>...</td>\n",
       "      <td>1</td>\n",
       "      <td>1</td>\n",
       "      <td>0</td>\n",
       "      <td>0</td>\n",
       "      <td>0</td>\n",
       "      <td>0</td>\n",
       "      <td>0</td>\n",
       "      <td>0</td>\n",
       "      <td>0</td>\n",
       "      <td>0</td>\n",
       "    </tr>\n",
       "    <tr>\n",
       "      <th>48555</th>\n",
       "      <td>605</td>\n",
       "      <td>222.0</td>\n",
       "      <td>0</td>\n",
       "      <td>0</td>\n",
       "      <td>0</td>\n",
       "      <td>0</td>\n",
       "      <td>0</td>\n",
       "      <td>1</td>\n",
       "      <td>0</td>\n",
       "      <td>0</td>\n",
       "      <td>...</td>\n",
       "      <td>0</td>\n",
       "      <td>1</td>\n",
       "      <td>0</td>\n",
       "      <td>0</td>\n",
       "      <td>0</td>\n",
       "      <td>0</td>\n",
       "      <td>0</td>\n",
       "      <td>0</td>\n",
       "      <td>0</td>\n",
       "      <td>0</td>\n",
       "    </tr>\n",
       "    <tr>\n",
       "      <th>48561</th>\n",
       "      <td>205</td>\n",
       "      <td>247.0</td>\n",
       "      <td>0</td>\n",
       "      <td>0</td>\n",
       "      <td>0</td>\n",
       "      <td>0</td>\n",
       "      <td>0</td>\n",
       "      <td>1</td>\n",
       "      <td>0</td>\n",
       "      <td>0</td>\n",
       "      <td>...</td>\n",
       "      <td>0</td>\n",
       "      <td>0</td>\n",
       "      <td>0</td>\n",
       "      <td>1</td>\n",
       "      <td>0</td>\n",
       "      <td>0</td>\n",
       "      <td>0</td>\n",
       "      <td>0</td>\n",
       "      <td>0</td>\n",
       "      <td>0</td>\n",
       "    </tr>\n",
       "    <tr>\n",
       "      <th>48563</th>\n",
       "      <td>190</td>\n",
       "      <td>92.0</td>\n",
       "      <td>0</td>\n",
       "      <td>0</td>\n",
       "      <td>0</td>\n",
       "      <td>0</td>\n",
       "      <td>0</td>\n",
       "      <td>1</td>\n",
       "      <td>0</td>\n",
       "      <td>0</td>\n",
       "      <td>...</td>\n",
       "      <td>1</td>\n",
       "      <td>1</td>\n",
       "      <td>0</td>\n",
       "      <td>0</td>\n",
       "      <td>0</td>\n",
       "      <td>0</td>\n",
       "      <td>0</td>\n",
       "      <td>0</td>\n",
       "      <td>0</td>\n",
       "      <td>0</td>\n",
       "    </tr>\n",
       "    <tr>\n",
       "      <th>48565</th>\n",
       "      <td>626</td>\n",
       "      <td>440.0</td>\n",
       "      <td>0</td>\n",
       "      <td>0</td>\n",
       "      <td>0</td>\n",
       "      <td>0</td>\n",
       "      <td>0</td>\n",
       "      <td>1</td>\n",
       "      <td>0</td>\n",
       "      <td>0</td>\n",
       "      <td>...</td>\n",
       "      <td>0</td>\n",
       "      <td>1</td>\n",
       "      <td>0</td>\n",
       "      <td>0</td>\n",
       "      <td>0</td>\n",
       "      <td>0</td>\n",
       "      <td>0</td>\n",
       "      <td>0</td>\n",
       "      <td>0</td>\n",
       "      <td>0</td>\n",
       "    </tr>\n",
       "    <tr>\n",
       "      <th>48566</th>\n",
       "      <td>25</td>\n",
       "      <td>38.0</td>\n",
       "      <td>0</td>\n",
       "      <td>0</td>\n",
       "      <td>0</td>\n",
       "      <td>0</td>\n",
       "      <td>0</td>\n",
       "      <td>1</td>\n",
       "      <td>0</td>\n",
       "      <td>0</td>\n",
       "      <td>...</td>\n",
       "      <td>1</td>\n",
       "      <td>0</td>\n",
       "      <td>0</td>\n",
       "      <td>0</td>\n",
       "      <td>0</td>\n",
       "      <td>0</td>\n",
       "      <td>0</td>\n",
       "      <td>0</td>\n",
       "      <td>0</td>\n",
       "      <td>0</td>\n",
       "    </tr>\n",
       "    <tr>\n",
       "      <th>48568</th>\n",
       "      <td>10</td>\n",
       "      <td>28.0</td>\n",
       "      <td>0</td>\n",
       "      <td>0</td>\n",
       "      <td>0</td>\n",
       "      <td>0</td>\n",
       "      <td>0</td>\n",
       "      <td>1</td>\n",
       "      <td>0</td>\n",
       "      <td>0</td>\n",
       "      <td>...</td>\n",
       "      <td>1</td>\n",
       "      <td>0</td>\n",
       "      <td>0</td>\n",
       "      <td>0</td>\n",
       "      <td>0</td>\n",
       "      <td>0</td>\n",
       "      <td>0</td>\n",
       "      <td>0</td>\n",
       "      <td>0</td>\n",
       "      <td>0</td>\n",
       "    </tr>\n",
       "    <tr>\n",
       "      <th>48570</th>\n",
       "      <td>7</td>\n",
       "      <td>337.0</td>\n",
       "      <td>0</td>\n",
       "      <td>0</td>\n",
       "      <td>0</td>\n",
       "      <td>0</td>\n",
       "      <td>0</td>\n",
       "      <td>1</td>\n",
       "      <td>0</td>\n",
       "      <td>0</td>\n",
       "      <td>...</td>\n",
       "      <td>0</td>\n",
       "      <td>0</td>\n",
       "      <td>0</td>\n",
       "      <td>0</td>\n",
       "      <td>0</td>\n",
       "      <td>0</td>\n",
       "      <td>0</td>\n",
       "      <td>0</td>\n",
       "      <td>0</td>\n",
       "      <td>0</td>\n",
       "    </tr>\n",
       "    <tr>\n",
       "      <th>48571</th>\n",
       "      <td>202</td>\n",
       "      <td>81.0</td>\n",
       "      <td>0</td>\n",
       "      <td>0</td>\n",
       "      <td>0</td>\n",
       "      <td>0</td>\n",
       "      <td>0</td>\n",
       "      <td>1</td>\n",
       "      <td>0</td>\n",
       "      <td>0</td>\n",
       "      <td>...</td>\n",
       "      <td>0</td>\n",
       "      <td>0</td>\n",
       "      <td>0</td>\n",
       "      <td>1</td>\n",
       "      <td>0</td>\n",
       "      <td>0</td>\n",
       "      <td>0</td>\n",
       "      <td>0</td>\n",
       "      <td>0</td>\n",
       "      <td>0</td>\n",
       "    </tr>\n",
       "    <tr>\n",
       "      <th>48572</th>\n",
       "      <td>25</td>\n",
       "      <td>48.0</td>\n",
       "      <td>0</td>\n",
       "      <td>0</td>\n",
       "      <td>0</td>\n",
       "      <td>0</td>\n",
       "      <td>0</td>\n",
       "      <td>1</td>\n",
       "      <td>0</td>\n",
       "      <td>0</td>\n",
       "      <td>...</td>\n",
       "      <td>1</td>\n",
       "      <td>0</td>\n",
       "      <td>0</td>\n",
       "      <td>0</td>\n",
       "      <td>0</td>\n",
       "      <td>0</td>\n",
       "      <td>0</td>\n",
       "      <td>0</td>\n",
       "      <td>0</td>\n",
       "      <td>0</td>\n",
       "    </tr>\n",
       "    <tr>\n",
       "      <th>48574</th>\n",
       "      <td>5</td>\n",
       "      <td>16.0</td>\n",
       "      <td>0</td>\n",
       "      <td>0</td>\n",
       "      <td>0</td>\n",
       "      <td>0</td>\n",
       "      <td>0</td>\n",
       "      <td>1</td>\n",
       "      <td>0</td>\n",
       "      <td>0</td>\n",
       "      <td>...</td>\n",
       "      <td>1</td>\n",
       "      <td>0</td>\n",
       "      <td>0</td>\n",
       "      <td>0</td>\n",
       "      <td>0</td>\n",
       "      <td>0</td>\n",
       "      <td>0</td>\n",
       "      <td>0</td>\n",
       "      <td>0</td>\n",
       "      <td>0</td>\n",
       "    </tr>\n",
       "    <tr>\n",
       "      <th>48575</th>\n",
       "      <td>167</td>\n",
       "      <td>119.0</td>\n",
       "      <td>0</td>\n",
       "      <td>0</td>\n",
       "      <td>0</td>\n",
       "      <td>0</td>\n",
       "      <td>0</td>\n",
       "      <td>1</td>\n",
       "      <td>0</td>\n",
       "      <td>0</td>\n",
       "      <td>...</td>\n",
       "      <td>1</td>\n",
       "      <td>0</td>\n",
       "      <td>0</td>\n",
       "      <td>0</td>\n",
       "      <td>0</td>\n",
       "      <td>0</td>\n",
       "      <td>0</td>\n",
       "      <td>0</td>\n",
       "      <td>0</td>\n",
       "      <td>0</td>\n",
       "    </tr>\n",
       "    <tr>\n",
       "      <th>48576</th>\n",
       "      <td>3</td>\n",
       "      <td>46.0</td>\n",
       "      <td>0</td>\n",
       "      <td>0</td>\n",
       "      <td>0</td>\n",
       "      <td>0</td>\n",
       "      <td>0</td>\n",
       "      <td>1</td>\n",
       "      <td>0</td>\n",
       "      <td>0</td>\n",
       "      <td>...</td>\n",
       "      <td>1</td>\n",
       "      <td>0</td>\n",
       "      <td>0</td>\n",
       "      <td>0</td>\n",
       "      <td>0</td>\n",
       "      <td>0</td>\n",
       "      <td>0</td>\n",
       "      <td>0</td>\n",
       "      <td>0</td>\n",
       "      <td>0</td>\n",
       "    </tr>\n",
       "    <tr>\n",
       "      <th>48577</th>\n",
       "      <td>393</td>\n",
       "      <td>120.0</td>\n",
       "      <td>0</td>\n",
       "      <td>0</td>\n",
       "      <td>0</td>\n",
       "      <td>0</td>\n",
       "      <td>1</td>\n",
       "      <td>0</td>\n",
       "      <td>0</td>\n",
       "      <td>0</td>\n",
       "      <td>...</td>\n",
       "      <td>1</td>\n",
       "      <td>0</td>\n",
       "      <td>1</td>\n",
       "      <td>0</td>\n",
       "      <td>0</td>\n",
       "      <td>0</td>\n",
       "      <td>0</td>\n",
       "      <td>0</td>\n",
       "      <td>0</td>\n",
       "      <td>0</td>\n",
       "    </tr>\n",
       "    <tr>\n",
       "      <th>48578</th>\n",
       "      <td>100</td>\n",
       "      <td>112.0</td>\n",
       "      <td>0</td>\n",
       "      <td>0</td>\n",
       "      <td>0</td>\n",
       "      <td>1</td>\n",
       "      <td>0</td>\n",
       "      <td>0</td>\n",
       "      <td>0</td>\n",
       "      <td>0</td>\n",
       "      <td>...</td>\n",
       "      <td>1</td>\n",
       "      <td>0</td>\n",
       "      <td>0</td>\n",
       "      <td>0</td>\n",
       "      <td>0</td>\n",
       "      <td>0</td>\n",
       "      <td>0</td>\n",
       "      <td>1</td>\n",
       "      <td>0</td>\n",
       "      <td>0</td>\n",
       "    </tr>\n",
       "    <tr>\n",
       "      <th>48580</th>\n",
       "      <td>205</td>\n",
       "      <td>112.0</td>\n",
       "      <td>0</td>\n",
       "      <td>0</td>\n",
       "      <td>0</td>\n",
       "      <td>0</td>\n",
       "      <td>1</td>\n",
       "      <td>0</td>\n",
       "      <td>0</td>\n",
       "      <td>0</td>\n",
       "      <td>...</td>\n",
       "      <td>0</td>\n",
       "      <td>0</td>\n",
       "      <td>1</td>\n",
       "      <td>0</td>\n",
       "      <td>0</td>\n",
       "      <td>0</td>\n",
       "      <td>0</td>\n",
       "      <td>0</td>\n",
       "      <td>0</td>\n",
       "      <td>0</td>\n",
       "    </tr>\n",
       "    <tr>\n",
       "      <th>48585</th>\n",
       "      <td>111</td>\n",
       "      <td>53.0</td>\n",
       "      <td>0</td>\n",
       "      <td>0</td>\n",
       "      <td>0</td>\n",
       "      <td>0</td>\n",
       "      <td>0</td>\n",
       "      <td>1</td>\n",
       "      <td>0</td>\n",
       "      <td>0</td>\n",
       "      <td>...</td>\n",
       "      <td>1</td>\n",
       "      <td>1</td>\n",
       "      <td>0</td>\n",
       "      <td>0</td>\n",
       "      <td>0</td>\n",
       "      <td>0</td>\n",
       "      <td>0</td>\n",
       "      <td>0</td>\n",
       "      <td>0</td>\n",
       "      <td>0</td>\n",
       "    </tr>\n",
       "    <tr>\n",
       "      <th>48587</th>\n",
       "      <td>532</td>\n",
       "      <td>300.0</td>\n",
       "      <td>0</td>\n",
       "      <td>0</td>\n",
       "      <td>0</td>\n",
       "      <td>0</td>\n",
       "      <td>0</td>\n",
       "      <td>1</td>\n",
       "      <td>0</td>\n",
       "      <td>0</td>\n",
       "      <td>...</td>\n",
       "      <td>0</td>\n",
       "      <td>1</td>\n",
       "      <td>0</td>\n",
       "      <td>0</td>\n",
       "      <td>0</td>\n",
       "      <td>0</td>\n",
       "      <td>0</td>\n",
       "      <td>0</td>\n",
       "      <td>0</td>\n",
       "      <td>0</td>\n",
       "    </tr>\n",
       "    <tr>\n",
       "      <th>48589</th>\n",
       "      <td>559</td>\n",
       "      <td>260.0</td>\n",
       "      <td>0</td>\n",
       "      <td>0</td>\n",
       "      <td>0</td>\n",
       "      <td>0</td>\n",
       "      <td>0</td>\n",
       "      <td>1</td>\n",
       "      <td>0</td>\n",
       "      <td>0</td>\n",
       "      <td>...</td>\n",
       "      <td>0</td>\n",
       "      <td>0</td>\n",
       "      <td>0</td>\n",
       "      <td>1</td>\n",
       "      <td>0</td>\n",
       "      <td>0</td>\n",
       "      <td>0</td>\n",
       "      <td>0</td>\n",
       "      <td>0</td>\n",
       "      <td>0</td>\n",
       "    </tr>\n",
       "    <tr>\n",
       "      <th>48591</th>\n",
       "      <td>286</td>\n",
       "      <td>95.0</td>\n",
       "      <td>0</td>\n",
       "      <td>0</td>\n",
       "      <td>0</td>\n",
       "      <td>0</td>\n",
       "      <td>0</td>\n",
       "      <td>1</td>\n",
       "      <td>0</td>\n",
       "      <td>0</td>\n",
       "      <td>...</td>\n",
       "      <td>1</td>\n",
       "      <td>0</td>\n",
       "      <td>0</td>\n",
       "      <td>0</td>\n",
       "      <td>0</td>\n",
       "      <td>0</td>\n",
       "      <td>0</td>\n",
       "      <td>0</td>\n",
       "      <td>0</td>\n",
       "      <td>0</td>\n",
       "    </tr>\n",
       "    <tr>\n",
       "      <th>48595</th>\n",
       "      <td>95</td>\n",
       "      <td>138.0</td>\n",
       "      <td>0</td>\n",
       "      <td>1</td>\n",
       "      <td>0</td>\n",
       "      <td>0</td>\n",
       "      <td>0</td>\n",
       "      <td>0</td>\n",
       "      <td>0</td>\n",
       "      <td>0</td>\n",
       "      <td>...</td>\n",
       "      <td>1</td>\n",
       "      <td>0</td>\n",
       "      <td>0</td>\n",
       "      <td>0</td>\n",
       "      <td>0</td>\n",
       "      <td>0</td>\n",
       "      <td>0</td>\n",
       "      <td>0</td>\n",
       "      <td>0</td>\n",
       "      <td>0</td>\n",
       "    </tr>\n",
       "    <tr>\n",
       "      <th>48614</th>\n",
       "      <td>260</td>\n",
       "      <td>112.0</td>\n",
       "      <td>0</td>\n",
       "      <td>0</td>\n",
       "      <td>0</td>\n",
       "      <td>0</td>\n",
       "      <td>0</td>\n",
       "      <td>1</td>\n",
       "      <td>0</td>\n",
       "      <td>0</td>\n",
       "      <td>...</td>\n",
       "      <td>1</td>\n",
       "      <td>0</td>\n",
       "      <td>0</td>\n",
       "      <td>0</td>\n",
       "      <td>0</td>\n",
       "      <td>0</td>\n",
       "      <td>0</td>\n",
       "      <td>0</td>\n",
       "      <td>0</td>\n",
       "      <td>0</td>\n",
       "    </tr>\n",
       "  </tbody>\n",
       "</table>\n",
       "<p>153050 rows × 55 columns</p>\n",
       "</div>"
      ],
      "text/plain": [
       "       loan_amount_000s  applicant_income_000s  agent_2  agent_3  agent_4  \\\n",
       "1                   416                  112.0        1        0        0   \n",
       "2                   340                   65.0        0        0        0   \n",
       "3                   200                  112.0        1        0        0   \n",
       "4                    71                  325.0        1        0        0   \n",
       "5                   920                  112.0        1        0        0   \n",
       "6                   401                   70.0        0        0        0   \n",
       "7                    95                  112.0        1        0        0   \n",
       "8                   399                   23.0        0        0        0   \n",
       "9                   379                  112.0        1        0        0   \n",
       "11                  127                  112.0        1        0        0   \n",
       "12                  322                   63.0        0        0        0   \n",
       "13                   72                  112.0        1        0        0   \n",
       "15                  480                  112.0        1        0        0   \n",
       "16                  100                  192.0        0        0        0   \n",
       "17                  811                  112.0        1        0        0   \n",
       "18                  112                   28.0        1        0        0   \n",
       "19                  350                  112.0        1        0        0   \n",
       "20                  252                   74.0        0        0        0   \n",
       "22                  873                  305.0        0        0        1   \n",
       "23                  133                   62.0        0        0        0   \n",
       "24                  600                  188.0        0        0        1   \n",
       "25                   48                   78.0        0        0        0   \n",
       "27                  696                  235.0        0        0        0   \n",
       "30                  399                   70.0        0        0        0   \n",
       "31                  360                  185.0        0        0        0   \n",
       "32                  252                  135.0        0        0        0   \n",
       "33                  261                   72.0        0        0        0   \n",
       "34                  240                   54.0        0        0        0   \n",
       "36                  417                  141.0        0        0        1   \n",
       "39                   72                   72.0        0        0        0   \n",
       "...                 ...                    ...      ...      ...      ...   \n",
       "48495               340                  100.0        0        0        0   \n",
       "48501               153                   39.0        0        0        0   \n",
       "48503               414                  179.0        0        0        0   \n",
       "48505               341                   85.0        0        0        0   \n",
       "48521               243                   64.0        0        0        0   \n",
       "48527               243                   89.0        0        0        0   \n",
       "48543               111                   38.0        0        0        0   \n",
       "48545               598                  251.0        0        0        0   \n",
       "48553               167                  180.0        0        0        0   \n",
       "48555               605                  222.0        0        0        0   \n",
       "48561               205                  247.0        0        0        0   \n",
       "48563               190                   92.0        0        0        0   \n",
       "48565               626                  440.0        0        0        0   \n",
       "48566                25                   38.0        0        0        0   \n",
       "48568                10                   28.0        0        0        0   \n",
       "48570                 7                  337.0        0        0        0   \n",
       "48571               202                   81.0        0        0        0   \n",
       "48572                25                   48.0        0        0        0   \n",
       "48574                 5                   16.0        0        0        0   \n",
       "48575               167                  119.0        0        0        0   \n",
       "48576                 3                   46.0        0        0        0   \n",
       "48577               393                  120.0        0        0        0   \n",
       "48578               100                  112.0        0        0        0   \n",
       "48580               205                  112.0        0        0        0   \n",
       "48585               111                   53.0        0        0        0   \n",
       "48587               532                  300.0        0        0        0   \n",
       "48589               559                  260.0        0        0        0   \n",
       "48591               286                   95.0        0        0        0   \n",
       "48595                95                  138.0        0        1        0   \n",
       "48614               260                  112.0        0        0        0   \n",
       "\n",
       "       agent_5  agent_7  agent_9  2008  2009     ...       co_sex_5  \\\n",
       "1            0        0        0     0     0     ...              1   \n",
       "2            0        1        0     0     0     ...              1   \n",
       "3            0        0        0     0     0     ...              1   \n",
       "4            0        0        0     0     0     ...              0   \n",
       "5            0        0        0     0     0     ...              1   \n",
       "6            0        1        0     0     0     ...              1   \n",
       "7            0        0        0     0     0     ...              1   \n",
       "8            0        1        0     0     0     ...              1   \n",
       "9            0        0        0     0     0     ...              1   \n",
       "11           0        0        0     0     0     ...              1   \n",
       "12           0        0        0     0     0     ...              0   \n",
       "13           0        0        0     0     0     ...              1   \n",
       "15           0        0        0     0     0     ...              1   \n",
       "16           0        0        0     0     0     ...              0   \n",
       "17           0        0        0     0     0     ...              1   \n",
       "18           0        0        0     0     0     ...              1   \n",
       "19           0        0        0     0     0     ...              1   \n",
       "20           0        1        0     0     0     ...              1   \n",
       "22           0        0        0     0     0     ...              1   \n",
       "23           0        1        0     0     0     ...              1   \n",
       "24           0        0        0     0     0     ...              0   \n",
       "25           0        1        0     0     0     ...              1   \n",
       "27           0        1        0     0     0     ...              0   \n",
       "30           0        0        0     0     0     ...              1   \n",
       "31           0        1        0     0     0     ...              0   \n",
       "32           0        0        0     0     0     ...              0   \n",
       "33           0        1        0     0     0     ...              1   \n",
       "34           0        0        0     0     0     ...              1   \n",
       "36           0        0        0     0     0     ...              0   \n",
       "39           0        1        0     0     0     ...              1   \n",
       "...        ...      ...      ...   ...   ...     ...            ...   \n",
       "48495        0        0        1     0     0     ...              0   \n",
       "48501        0        0        1     0     0     ...              1   \n",
       "48503        0        0        1     0     0     ...              0   \n",
       "48505        0        0        1     0     0     ...              1   \n",
       "48521        0        0        1     0     0     ...              1   \n",
       "48527        0        0        1     0     0     ...              1   \n",
       "48543        0        0        1     0     0     ...              1   \n",
       "48545        0        0        1     0     0     ...              0   \n",
       "48553        0        0        1     0     0     ...              1   \n",
       "48555        0        0        1     0     0     ...              0   \n",
       "48561        0        0        1     0     0     ...              0   \n",
       "48563        0        0        1     0     0     ...              1   \n",
       "48565        0        0        1     0     0     ...              0   \n",
       "48566        0        0        1     0     0     ...              1   \n",
       "48568        0        0        1     0     0     ...              1   \n",
       "48570        0        0        1     0     0     ...              0   \n",
       "48571        0        0        1     0     0     ...              0   \n",
       "48572        0        0        1     0     0     ...              1   \n",
       "48574        0        0        1     0     0     ...              1   \n",
       "48575        0        0        1     0     0     ...              1   \n",
       "48576        0        0        1     0     0     ...              1   \n",
       "48577        0        1        0     0     0     ...              1   \n",
       "48578        1        0        0     0     0     ...              1   \n",
       "48580        0        1        0     0     0     ...              0   \n",
       "48585        0        0        1     0     0     ...              1   \n",
       "48587        0        0        1     0     0     ...              0   \n",
       "48589        0        0        1     0     0     ...              0   \n",
       "48591        0        0        1     0     0     ...              1   \n",
       "48595        0        0        0     0     0     ...              1   \n",
       "48614        0        0        1     0     0     ...              1   \n",
       "\n",
       "       purchaser_1  purchaser_2  purchaser_3  purchaser_4  purchaser_5  \\\n",
       "1                0            0            0            0            0   \n",
       "2                0            0            0            0            0   \n",
       "3                0            0            0            0            0   \n",
       "4                0            0            0            0            0   \n",
       "5                0            0            0            0            0   \n",
       "6                0            0            0            0            0   \n",
       "7                0            0            0            0            0   \n",
       "8                0            0            0            0            0   \n",
       "9                0            0            0            0            0   \n",
       "11               0            0            0            0            0   \n",
       "12               1            0            0            0            0   \n",
       "13               0            0            0            0            0   \n",
       "15               0            0            0            0            0   \n",
       "16               0            0            0            0            0   \n",
       "17               0            0            0            0            0   \n",
       "18               0            0            0            0            0   \n",
       "19               0            0            0            0            0   \n",
       "20               0            0            0            0            0   \n",
       "22               0            0            0            0            0   \n",
       "23               0            0            0            0            0   \n",
       "24               0            0            0            0            0   \n",
       "25               1            0            0            0            0   \n",
       "27               1            0            0            0            0   \n",
       "30               1            0            0            0            0   \n",
       "31               1            0            0            0            0   \n",
       "32               0            0            0            0            0   \n",
       "33               1            0            0            0            0   \n",
       "34               0            0            0            0            0   \n",
       "36               0            0            0            0            0   \n",
       "39               1            0            0            0            0   \n",
       "...            ...          ...          ...          ...          ...   \n",
       "48495            1            0            0            0            0   \n",
       "48501            0            1            0            0            0   \n",
       "48503            1            0            0            0            0   \n",
       "48505            0            0            0            0            0   \n",
       "48521            1            0            0            0            0   \n",
       "48527            0            1            0            0            0   \n",
       "48543            0            1            0            0            0   \n",
       "48545            1            0            0            0            0   \n",
       "48553            1            0            0            0            0   \n",
       "48555            1            0            0            0            0   \n",
       "48561            0            0            1            0            0   \n",
       "48563            1            0            0            0            0   \n",
       "48565            1            0            0            0            0   \n",
       "48566            0            0            0            0            0   \n",
       "48568            0            0            0            0            0   \n",
       "48570            0            0            0            0            0   \n",
       "48571            0            0            1            0            0   \n",
       "48572            0            0            0            0            0   \n",
       "48574            0            0            0            0            0   \n",
       "48575            0            0            0            0            0   \n",
       "48576            0            0            0            0            0   \n",
       "48577            0            1            0            0            0   \n",
       "48578            0            0            0            0            0   \n",
       "48580            0            1            0            0            0   \n",
       "48585            1            0            0            0            0   \n",
       "48587            1            0            0            0            0   \n",
       "48589            0            0            1            0            0   \n",
       "48591            0            0            0            0            0   \n",
       "48595            0            0            0            0            0   \n",
       "48614            0            0            0            0            0   \n",
       "\n",
       "       purchaser_6  purchaser_7  purchaser_8  purchaser_9  \n",
       "1                0            1            0            0  \n",
       "2                0            0            1            0  \n",
       "3                0            1            0            0  \n",
       "4                0            0            0            0  \n",
       "5                0            1            0            0  \n",
       "6                0            0            0            1  \n",
       "7                0            1            0            0  \n",
       "8                0            0            0            0  \n",
       "9                0            1            0            0  \n",
       "11               0            1            0            0  \n",
       "12               0            0            0            0  \n",
       "13               0            0            0            0  \n",
       "15               0            1            0            0  \n",
       "16               0            0            0            0  \n",
       "17               0            1            0            0  \n",
       "18               0            0            0            1  \n",
       "19               0            1            0            0  \n",
       "20               0            0            0            0  \n",
       "22               0            0            0            0  \n",
       "23               1            0            0            0  \n",
       "24               0            0            1            0  \n",
       "25               0            0            0            0  \n",
       "27               0            0            0            0  \n",
       "30               0            0            0            0  \n",
       "31               0            0            0            0  \n",
       "32               0            0            0            0  \n",
       "33               0            0            0            0  \n",
       "34               0            0            0            0  \n",
       "36               0            1            0            0  \n",
       "39               0            0            0            0  \n",
       "...            ...          ...          ...          ...  \n",
       "48495            0            0            0            0  \n",
       "48501            0            0            0            0  \n",
       "48503            0            0            0            0  \n",
       "48505            0            0            0            0  \n",
       "48521            0            0            0            0  \n",
       "48527            0            0            0            0  \n",
       "48543            0            0            0            0  \n",
       "48545            0            0            0            0  \n",
       "48553            0            0            0            0  \n",
       "48555            0            0            0            0  \n",
       "48561            0            0            0            0  \n",
       "48563            0            0            0            0  \n",
       "48565            0            0            0            0  \n",
       "48566            0            0            0            0  \n",
       "48568            0            0            0            0  \n",
       "48570            0            0            0            0  \n",
       "48571            0            0            0            0  \n",
       "48572            0            0            0            0  \n",
       "48574            0            0            0            0  \n",
       "48575            0            0            0            0  \n",
       "48576            0            0            0            0  \n",
       "48577            0            0            0            0  \n",
       "48578            0            1            0            0  \n",
       "48580            0            0            0            0  \n",
       "48585            0            0            0            0  \n",
       "48587            0            0            0            0  \n",
       "48589            0            0            0            0  \n",
       "48591            0            0            0            0  \n",
       "48595            0            0            0            0  \n",
       "48614            0            0            0            0  \n",
       "\n",
       "[153050 rows x 55 columns]"
      ]
     },
     "execution_count": 114,
     "metadata": {},
     "output_type": "execute_result"
    }
   ],
   "source": [
    "X"
   ]
  },
  {
   "cell_type": "code",
   "execution_count": 179,
   "metadata": {},
   "outputs": [
    {
     "data": {
      "text/plain": [
       "Index([     'loan_amount_000s', 'applicant_income_000s',\n",
       "                     'agent_2',               'agent_3',\n",
       "                     'agent_4',               'agent_5',\n",
       "                     'agent_7',               'agent_9',\n",
       "                          2008,                    2009,\n",
       "                          2010,                    2011,\n",
       "                          2012,           'loan_type_2',\n",
       "                 'loan_type_3',           'loan_type_4',\n",
       "                  'pro_type_2',            'pro_type_3',\n",
       "                  'loan_pur_2',            'loan_pur_3',\n",
       "                     'owner_2',               'owner_3',\n",
       "                       'pre_2',                 'pre_3',\n",
       "                 'ethnicity_2',           'ethnicity_3',\n",
       "                 'ethnicity_4',        'co_ethnicity_2',\n",
       "              'co_ethnicity_3',        'co_ethnicity_4',\n",
       "              'co_ethnicity_5',                'race_5',\n",
       "                   'co_race_2',             'co_race_3',\n",
       "                   'co_race_4',             'co_race_5',\n",
       "                   'co_race_6',             'co_race_7',\n",
       "                   'co_race_8',                 'sex_2',\n",
       "                       'sex_3',                 'sex_4',\n",
       "                    'co_sex_2',              'co_sex_3',\n",
       "                    'co_sex_4',              'co_sex_5',\n",
       "                 'purchaser_1',           'purchaser_2',\n",
       "                 'purchaser_3',           'purchaser_4',\n",
       "                 'purchaser_5',           'purchaser_6',\n",
       "                 'purchaser_7',           'purchaser_8',\n",
       "                 'purchaser_9'],\n",
       "      dtype='object')"
      ]
     },
     "execution_count": 179,
     "metadata": {},
     "output_type": "execute_result"
    }
   ],
   "source": [
    "X.columns"
   ]
  },
  {
   "cell_type": "markdown",
   "metadata": {},
   "source": [
    "### (6) Resampling the data "
   ]
  },
  {
   "cell_type": "code",
   "execution_count": 115,
   "metadata": {},
   "outputs": [],
   "source": [
    "from imblearn.over_sampling import SMOTE\n",
    "from imblearn.under_sampling import ClusterCentroids\n",
    "from imblearn.under_sampling import RandomUnderSampler\n",
    "from collections import Counter"
   ]
  },
  {
   "cell_type": "code",
   "execution_count": 116,
   "metadata": {},
   "outputs": [
    {
     "name": "stdout",
     "output_type": "stream",
     "text": [
      "[(0, 32131), (1, 120919)]\n"
     ]
    }
   ],
   "source": [
    "print(sorted(Counter(Y).items()))"
   ]
  },
  {
   "cell_type": "code",
   "execution_count": 117,
   "metadata": {},
   "outputs": [],
   "source": [
    "rus = RandomUnderSampler(random_state=0)\n",
    "X_res, y_res = rus.fit_resample(X, Y)"
   ]
  },
  {
   "cell_type": "code",
   "execution_count": 118,
   "metadata": {},
   "outputs": [
    {
     "name": "stdout",
     "output_type": "stream",
     "text": [
      "Resampled dataset shape Counter({0: 32131, 1: 32131})\n"
     ]
    }
   ],
   "source": [
    "print('Resampled dataset shape %s' % Counter(y_res))"
   ]
  },
  {
   "cell_type": "markdown",
   "metadata": {},
   "source": [
    "###  (7) Train-test split"
   ]
  },
  {
   "cell_type": "markdown",
   "metadata": {},
   "source": [
    "We now split the training and testing data. In order to make the future adjustment more convenient, we fixed the random state."
   ]
  },
  {
   "cell_type": "code",
   "execution_count": 119,
   "metadata": {},
   "outputs": [
    {
     "data": {
      "text/plain": [
       "(44983, 55)"
      ]
     },
     "execution_count": 119,
     "metadata": {},
     "output_type": "execute_result"
    }
   ],
   "source": [
    "from sklearn.model_selection import train_test_split\n",
    "\n",
    "X_train, X_test, Y_train, Y_test = train_test_split(X_res, y_res, test_size = 0.3, random_state= 1)\n",
    "X_train.shape"
   ]
  },
  {
   "cell_type": "code",
   "execution_count": 120,
   "metadata": {},
   "outputs": [
    {
     "data": {
      "text/plain": [
       "array([1, 0, 1, ..., 0, 1, 1], dtype=int64)"
      ]
     },
     "execution_count": 120,
     "metadata": {},
     "output_type": "execute_result"
    }
   ],
   "source": [
    "Y_train"
   ]
  },
  {
   "cell_type": "code",
   "execution_count": 121,
   "metadata": {},
   "outputs": [
    {
     "data": {
      "text/plain": [
       "1    22643\n",
       "0    22340\n",
       "dtype: int64"
      ]
     },
     "execution_count": 121,
     "metadata": {},
     "output_type": "execute_result"
    }
   ],
   "source": [
    "count_number = pd.value_counts(pd.Series(Y_train))\n",
    "count_number"
   ]
  },
  {
   "cell_type": "code",
   "execution_count": 122,
   "metadata": {},
   "outputs": [
    {
     "data": {
      "text/plain": [
       "0    9791\n",
       "1    9488\n",
       "dtype: int64"
      ]
     },
     "execution_count": 122,
     "metadata": {},
     "output_type": "execute_result"
    }
   ],
   "source": [
    "count_number = pd.value_counts(pd.Series(Y_test))\n",
    "count_number"
   ]
  },
  {
   "cell_type": "code",
   "execution_count": 199,
   "metadata": {},
   "outputs": [
    {
     "data": {
      "text/plain": [
       "1.0    25280\n",
       "0.0    19703\n",
       "dtype: int64"
      ]
     },
     "execution_count": 199,
     "metadata": {},
     "output_type": "execute_result"
    }
   ],
   "source": [
    "count_number = pd.value_counts(pd.Series(X_train[: , 31]))\n",
    "count_number"
   ]
  },
  {
   "cell_type": "code",
   "execution_count": 187,
   "metadata": {},
   "outputs": [
    {
     "data": {
      "text/plain": [
       "array([230., 209., 230., ...,  75., 236., 200.])"
      ]
     },
     "execution_count": 187,
     "metadata": {},
     "output_type": "execute_result"
    }
   ],
   "source": [
    "X_test[: , 0]"
   ]
  },
  {
   "cell_type": "markdown",
   "metadata": {},
   "source": [
    "## 4. Model Implementaion"
   ]
  },
  {
   "cell_type": "markdown",
   "metadata": {},
   "source": [
    "There are many classification models in sklearn for us to choose from. In this project, we will use the following models and then compare their results. Note that all the models are implemented through cross-validation. Moreover, we use Grid Search for all the algorithms in order to tune the parameters.\n",
    "\n",
    "- Multiclass Logistic Regression\n",
    "- Multiclass KNN\n",
    "- Random Forest\n",
    "- Decision Tree\n",
    "- Support Vector Machine"
   ]
  },
  {
   "cell_type": "markdown",
   "metadata": {},
   "source": [
    "### (1) Normalize the data and import relevant packages"
   ]
  },
  {
   "cell_type": "markdown",
   "metadata": {},
   "source": [
    "Before implementing the machine learning algorithms, we need to normalize the data. Here we used MinMaxScaler to do the job."
   ]
  },
  {
   "cell_type": "code",
   "execution_count": 123,
   "metadata": {},
   "outputs": [],
   "source": [
    "from sklearn.preprocessing import MinMaxScaler\n",
    "from sklearn.preprocessing import RobustScaler\n",
    "\n",
    "from sklearn.pipeline import Pipeline\n",
    "from sklearn.model_selection import TimeSeriesSplit, GridSearchCV, KFold\n",
    "\n",
    "from sklearn.metrics import confusion_matrix, classification_report"
   ]
  },
  {
   "cell_type": "code",
   "execution_count": 124,
   "metadata": {},
   "outputs": [
    {
     "name": "stdout",
     "output_type": "stream",
     "text": [
      "[[0.14371557 0.10921844 0.         ... 0.         0.         0.        ]\n",
      " [0.03355033 0.09018036 0.         ... 0.         0.         0.        ]\n",
      " [0.14621933 0.11122244 0.         ... 0.         0.         0.        ]\n",
      " ...\n",
      " [0.12669004 0.11122244 0.         ... 0.         0.         0.        ]\n",
      " [0.23985979 0.18937876 0.         ... 0.         0.         0.        ]\n",
      " [0.05908863 0.04008016 0.         ... 0.         0.         0.        ]]\n"
     ]
    }
   ],
   "source": [
    "robust = MinMaxScaler().fit(X_res)\n",
    "x_train_nor = robust.transform(X_train)\n",
    "x_test_nor = robust.transform(X_test)\n",
    "print(x_train_nor)"
   ]
  },
  {
   "cell_type": "code",
   "execution_count": 125,
   "metadata": {},
   "outputs": [
    {
     "data": {
      "text/plain": [
       "(44983, 55)"
      ]
     },
     "execution_count": 125,
     "metadata": {},
     "output_type": "execute_result"
    }
   ],
   "source": [
    "x_train_nor.shape"
   ]
  },
  {
   "cell_type": "code",
   "execution_count": 126,
   "metadata": {},
   "outputs": [
    {
     "data": {
      "text/plain": [
       "(19279,)"
      ]
     },
     "execution_count": 126,
     "metadata": {},
     "output_type": "execute_result"
    }
   ],
   "source": [
    "Y_test.shape"
   ]
  },
  {
   "cell_type": "code",
   "execution_count": 127,
   "metadata": {},
   "outputs": [
    {
     "name": "stdout",
     "output_type": "stream",
     "text": [
      "[1 0 1 ... 0 1 1] [0 1 0 ... 0 1 1]\n"
     ]
    }
   ],
   "source": [
    "print(Y_train, Y_test)"
   ]
  },
  {
   "cell_type": "markdown",
   "metadata": {},
   "source": [
    "### (2) Show the distribution of classes and find the baseline score for classification models"
   ]
  },
  {
   "cell_type": "code",
   "execution_count": 128,
   "metadata": {},
   "outputs": [
    {
     "data": {
      "text/plain": [
       "0    9791\n",
       "1    9488\n",
       "dtype: int64"
      ]
     },
     "execution_count": 128,
     "metadata": {},
     "output_type": "execute_result"
    }
   ],
   "source": [
    "count_number = pd.value_counts(pd.Series(Y_test))\n",
    "count_number"
   ]
  },
  {
   "cell_type": "markdown",
   "metadata": {},
   "source": [
    "### (3) Logistic Regression"
   ]
  },
  {
   "cell_type": "markdown",
   "metadata": {},
   "source": [
    "Logistic Regression is one of the fundamental classification methods. It is often used for binary classifications since Sigmoid function gives probability of the two classes between 0 and 1. In this model, we tuned the parameter \"C\", which is the inverse of regularization strength.\n",
    "\n",
    "**Characteristic:** Logistic Regression is designed to be a very efficient algorithm so it computes very fast. But in some cases, since logistic regression is a simple algorithm, its accuracy may be lower compare to other complex algorithms."
   ]
  },
  {
   "cell_type": "code",
   "execution_count": 133,
   "metadata": {},
   "outputs": [
    {
     "name": "stdout",
     "output_type": "stream",
     "text": [
      "Scores on training set:\n",
      "0.850 (+/-0.006) for {'C': 0.01, 'solver': 'saga'}\n",
      "0.855 (+/-0.004) for {'C': 0.1, 'solver': 'saga'}\n",
      "0.855 (+/-0.005) for {'C': 1, 'solver': 'saga'}\n",
      "0.855 (+/-0.005) for {'C': 10, 'solver': 'saga'}\n"
     ]
    }
   ],
   "source": [
    "from sklearn.linear_model import LogisticRegression\n",
    " \n",
    "lg = LogisticRegression(random_state = 0, multi_class  = \"ovr\",max_iter = 1000)\n",
    "param_grid0 = {'C': [0.01,0.1, 1,10], 'solver': ['saga']}\n",
    "\n",
    "grid_search0 = GridSearchCV(lg, param_grid = param_grid0, scoring='accuracy', cv=5, return_train_score=True)\n",
    "\n",
    "grid_search0.fit(x_train_nor, Y_train.ravel()) \n",
    "\n",
    "print(\"Scores on training set:\")\n",
    "means = grid_search0.cv_results_['mean_test_score']\n",
    "stds = grid_search0.cv_results_['std_test_score']\n",
    "for mean, std, params in zip(means, stds, grid_search0.cv_results_['params']):\n",
    "    print(\"%0.3f (+/-%0.03f) for %r\"\n",
    "          % (mean, std * 2, params))"
   ]
  },
  {
   "cell_type": "code",
   "execution_count": 134,
   "metadata": {},
   "outputs": [
    {
     "name": "stdout",
     "output_type": "stream",
     "text": [
      "{'C': 10, 'solver': 'saga'}\n"
     ]
    }
   ],
   "source": [
    "print(grid_search0.best_params_)"
   ]
  },
  {
   "cell_type": "code",
   "execution_count": 135,
   "metadata": {},
   "outputs": [
    {
     "name": "stdout",
     "output_type": "stream",
     "text": [
      "Logistic Regression Score on Testing set: 0.8530006743088334\n"
     ]
    }
   ],
   "source": [
    "Logistic_Reg = grid_search0.best_estimator_.fit(x_train_nor, Y_train)\n",
    "y_hat = Logistic_Reg.predict(x_test_nor)\n",
    "Logistic_Regression_score =Logistic_Reg.score(x_test_nor, Y_test)\n",
    "print(\"Logistic Regression Score on Testing set: \", end='')\n",
    "print(Logistic_Regression_score)"
   ]
  },
  {
   "cell_type": "markdown",
   "metadata": {},
   "source": [
    "Training and Testing sets have very close accuracy scores."
   ]
  },
  {
   "cell_type": "code",
   "execution_count": 136,
   "metadata": {},
   "outputs": [
    {
     "data": {
      "text/plain": [
       "array([[9414,  377],\n",
       "       [2457, 7031]], dtype=int64)"
      ]
     },
     "execution_count": 136,
     "metadata": {},
     "output_type": "execute_result"
    }
   ],
   "source": [
    "confusion_log_regr = confusion_matrix(Y_test, y_hat)\n",
    "confusion_log_regr"
   ]
  },
  {
   "cell_type": "code",
   "execution_count": 137,
   "metadata": {},
   "outputs": [
    {
     "data": {
      "image/png": "[encoded data removed]",
      "text/plain": [
       "<Figure size 432x288 with 2 Axes>"
      ]
     },
     "metadata": {},
     "output_type": "display_data"
    }
   ],
   "source": [
    "columns = ['0', '1']\n",
    "\n",
    "plt.imshow(confusion_log_regr, cmap=plt.cm.Blues, interpolation='nearest')\n",
    "plt.xticks([0,1,], columns, rotation='vertical')\n",
    "plt.yticks([0,1,], columns)\n",
    "plt.colorbar()\n",
    "\n",
    "plt.show()"
   ]
  },
  {
   "cell_type": "code",
   "execution_count": 138,
   "metadata": {},
   "outputs": [
    {
     "name": "stdout",
     "output_type": "stream",
     "text": [
      "              precision    recall  f1-score   support\n",
      "\n",
      "           0       0.79      0.96      0.87      9791\n",
      "           1       0.95      0.74      0.83      9488\n",
      "\n",
      "   micro avg       0.85      0.85      0.85     19279\n",
      "   macro avg       0.87      0.85      0.85     19279\n",
      "weighted avg       0.87      0.85      0.85     19279\n",
      "\n"
     ]
    }
   ],
   "source": [
    "print(classification_report(Y_test, y_hat))"
   ]
  },
  {
   "cell_type": "code",
   "execution_count": 139,
   "metadata": {},
   "outputs": [
    {
     "name": "stdout",
     "output_type": "stream",
     "text": [
      "Scores on training set:\n",
      "0.845 (+/-0.004) for {'C': 0.01, 'solver': 'saga'}\n",
      "0.853 (+/-0.005) for {'C': 0.1, 'solver': 'saga'}\n",
      "0.855 (+/-0.005) for {'C': 1, 'solver': 'saga'}\n",
      "0.855 (+/-0.005) for {'C': 10, 'solver': 'saga'}\n"
     ]
    }
   ],
   "source": [
    "from sklearn.linear_model import LogisticRegression\n",
    " \n",
    "lg = LogisticRegression(penalty = 'l1', random_state = 0, multi_class  = \"ovr\",max_iter = 1000)\n",
    "param_grid0 = {'C': [0.01,0.1, 1,10], 'solver': ['saga']}\n",
    "\n",
    "grid_search01 = GridSearchCV(lg, param_grid = param_grid0, scoring='accuracy', cv=5, return_train_score=True)\n",
    "\n",
    "grid_search01.fit(x_train_nor, Y_train.ravel()) \n",
    "\n",
    "print(\"Scores on training set:\")\n",
    "means = grid_search01.cv_results_['mean_test_score']\n",
    "stds = grid_search01.cv_results_['std_test_score']\n",
    "for mean, std, params in zip(means, stds, grid_search01.cv_results_['params']):\n",
    "    print(\"%0.3f (+/-%0.03f) for %r\"\n",
    "          % (mean, std * 2, params))"
   ]
  },
  {
   "cell_type": "code",
   "execution_count": null,
   "metadata": {},
   "outputs": [],
   "source": [
    "print(grid_search01.best_params_)"
   ]
  },
  {
   "cell_type": "code",
   "execution_count": null,
   "metadata": {},
   "outputs": [],
   "source": [
    "Logistic_Reg01 = grid_search01.best_estimator_.fit(x_train_nor, Y_train)\n",
    "y_hat01 = Logistic_Reg01.predict(x_test_nor)\n",
    "Logistic_Regression_score =Logistic_Reg01.score(x_test_nor, Y_test)\n",
    "print(\"Logistic Regression Score on Testing set: \", end='')\n",
    "print(Logistic_Regression_score)"
   ]
  },
  {
   "cell_type": "code",
   "execution_count": null,
   "metadata": {},
   "outputs": [],
   "source": [
    "confusion_log_regr01 = confusion_matrix(Y_test, y_hat01)\n",
    "confusion_log_regr01"
   ]
  },
  {
   "cell_type": "code",
   "execution_count": null,
   "metadata": {},
   "outputs": [],
   "source": [
    "columns = ['0', '1']\n",
    "\n",
    "plt.imshow(confusion_log_regr01, cmap=plt.cm.Blues, interpolation='nearest')\n",
    "plt.xticks([0,1,], columns, rotation='vertical')\n",
    "plt.yticks([0,1,], columns)\n",
    "plt.colorbar()\n",
    "\n",
    "plt.show()"
   ]
  },
  {
   "cell_type": "code",
   "execution_count": null,
   "metadata": {},
   "outputs": [],
   "source": [
    "print(classification_report(Y_test, y_hat01))"
   ]
  },
  {
   "cell_type": "markdown",
   "metadata": {},
   "source": [
    "**Comment:** Logistic Regression shows good overall performance. This may be because that Logistic Regression is very easy to tune the parameters. Also, sometimes a simple model can fit the data well."
   ]
  },
  {
   "cell_type": "markdown",
   "metadata": {},
   "source": [
    "### (4) KNeighborsClassifier"
   ]
  },
  {
   "cell_type": "markdown",
   "metadata": {},
   "source": [
    "KNN algorithm basically classifies data by finding the K nearest data points to it measured by a distance function. Then it assigns to the class which is the  most common among its K nearest neighbors.\n",
    "\n",
    "**Characteristic:** KNN works on similarity measures. The accuracy of the model depends greatly on the data itself (KNN is very sensitive to the noises). Finding a good \"K\" is not very easy and large N requires a lot of calculations. KNN takes a very long time to compute with grid search."
   ]
  },
  {
   "cell_type": "code",
   "execution_count": 140,
   "metadata": {},
   "outputs": [
    {
     "name": "stdout",
     "output_type": "stream",
     "text": [
      "Scores on training set:\n",
      "0.783 (+/-0.011) for {'n_neighbors': 1}\n",
      "0.814 (+/-0.008) for {'n_neighbors': 9}\n",
      "0.802 (+/-0.010) for {'n_neighbors': 31}\n",
      "{'mean_fit_time': array([4.90961132, 4.71885533, 4.36514783]), 'std_fit_time': array([0.43941797, 0.27818292, 0.93785359]), 'mean_score_time': array([25.14754925, 33.89701695, 38.6802887 ]), 'std_score_time': array([0.4976873 , 0.19934069, 3.05413912]), 'param_n_neighbors': masked_array(data=[1, 9, 31],\n",
      "             mask=[False, False, False],\n",
      "       fill_value='?',\n",
      "            dtype=object), 'params': [{'n_neighbors': 1}, {'n_neighbors': 9}, {'n_neighbors': 31}], 'split0_test_score': array([0.78203846, 0.8068245 , 0.79848839]), 'split1_test_score': array([0.77981549, 0.81660554, 0.80771368]), 'split2_test_score': array([0.77592531, 0.81482716, 0.79582083]), 'split3_test_score': array([0.79201867, 0.81736327, 0.80758115]), 'split4_test_score': array([0.78279235, 0.81580703, 0.8023566 ]), 'mean_test_score': array([0.78251784, 0.8142854 , 0.80239201]), 'std_test_score': array([0.0053166 , 0.00382445, 0.00476801]), 'rank_test_score': array([3, 1, 2]), 'split0_train_score': array([0.99911077, 0.84774635, 0.81540043]), 'split1_train_score': array([0.99919413, 0.84721836, 0.81495582]), 'split2_train_score': array([0.99919413, 0.84802423, 0.81598399]), 'split3_train_score': array([0.99916637, 0.84702809, 0.81307139]), 'split4_train_score': array([0.99941646, 0.84713924, 0.81246006]), 'mean_train_score': array([0.99921637, 0.84743126, 0.81437434]), 'std_train_score': array([0.00010457, 0.00038576, 0.00136705])}\n",
      "{'n_neighbors': 9}\n"
     ]
    }
   ],
   "source": [
    "from sklearn.neighbors import KNeighborsClassifier\n",
    "\n",
    "model = KNeighborsClassifier()\n",
    "\n",
    "parameters = {\n",
    "    'n_neighbors': [1, 9, 31],    #odd number works better in KNN\n",
    "}\n",
    "\n",
    "grid_search = GridSearchCV(model, param_grid = parameters, scoring='accuracy', cv=5, return_train_score=True)\n",
    "\n",
    "grid_search.fit(x_train_nor, Y_train.ravel()) \n",
    "\n",
    "\n",
    "print(\"Scores on training set:\")\n",
    "means = grid_search.cv_results_['mean_test_score']\n",
    "stds = grid_search.cv_results_['std_test_score']\n",
    "for mean, std, params in zip(means, stds, grid_search.cv_results_['params']):\n",
    "    print(\"%0.3f (+/-%0.03f) for %r\"\n",
    "          % (mean, std * 2, params))\n",
    "\n",
    "\n",
    "print(grid_search.cv_results_) \n",
    "print(grid_search.best_params_)"
   ]
  },
  {
   "cell_type": "markdown",
   "metadata": {},
   "source": [
    "Here we can see that increasing K gave us better results. However, it also increases the time of computation. Due to the limited time we have, we will not keep trying larger Ks."
   ]
  },
  {
   "cell_type": "code",
   "execution_count": 141,
   "metadata": {},
   "outputs": [
    {
     "name": "stdout",
     "output_type": "stream",
     "text": [
      "KNN Score on Testing set: 0.8133201929560662\n"
     ]
    }
   ],
   "source": [
    "KNN = grid_search.best_estimator_.fit(x_train_nor, Y_train)\n",
    "y_hat2 = KNN.predict(x_test_nor)\n",
    "KNN_score = KNN.score(x_test_nor, Y_test)\n",
    "\n",
    "print(\"KNN Score on Testing set: \", end='')\n",
    "print(KNN_score)"
   ]
  },
  {
   "cell_type": "markdown",
   "metadata": {},
   "source": [
    "The testing and training sets have very close scores. There is some space for improvement."
   ]
  },
  {
   "cell_type": "code",
   "execution_count": 142,
   "metadata": {},
   "outputs": [
    {
     "data": {
      "text/plain": [
       "array([[8904,  887],\n",
       "       [2712, 6776]], dtype=int64)"
      ]
     },
     "execution_count": 142,
     "metadata": {},
     "output_type": "execute_result"
    }
   ],
   "source": [
    "confusion_KNN = confusion_matrix(Y_test, y_hat2)\n",
    "confusion_KNN"
   ]
  },
  {
   "cell_type": "code",
   "execution_count": 143,
   "metadata": {},
   "outputs": [
    {
     "data": {
      "image/png": "[encoded data removed]",
      "text/plain": [
       "<Figure size 432x288 with 2 Axes>"
      ]
     },
     "metadata": {},
     "output_type": "display_data"
    }
   ],
   "source": [
    "columns = ['0', '1']\n",
    "\n",
    "plt.imshow(confusion_KNN, cmap=plt.cm.Blues, interpolation='nearest')\n",
    "plt.xticks([0,1,], columns, rotation='vertical')\n",
    "plt.yticks([0,1,], columns)\n",
    "plt.colorbar()\n",
    "\n",
    "plt.show()"
   ]
  },
  {
   "cell_type": "code",
   "execution_count": 144,
   "metadata": {},
   "outputs": [
    {
     "name": "stdout",
     "output_type": "stream",
     "text": [
      "              precision    recall  f1-score   support\n",
      "\n",
      "           0       0.77      0.91      0.83      9791\n",
      "           1       0.88      0.71      0.79      9488\n",
      "\n",
      "   micro avg       0.81      0.81      0.81     19279\n",
      "   macro avg       0.83      0.81      0.81     19279\n",
      "weighted avg       0.82      0.81      0.81     19279\n",
      "\n"
     ]
    }
   ],
   "source": [
    "print(classification_report(Y_test, y_hat2))"
   ]
  },
  {
   "cell_type": "markdown",
   "metadata": {},
   "source": [
    "**Comment:** KNN didn't work very well here. We mentioned above that KNN depends heavily on the data itself and is very sensitive to noises of the data. Finding a good K is not easy. Due to the limited time of this project, we will not keep trying different Ks."
   ]
  },
  {
   "cell_type": "markdown",
   "metadata": {},
   "source": [
    "### (5) Random Forest"
   ]
  },
  {
   "cell_type": "markdown",
   "metadata": {},
   "source": [
    "**Characteristic:** Random forest is a more advanced model. It is a bagging model. In general, good accuracy can be achieved by this model. But it also involves a lot of calculations and Random Forest can easily result in overfitting due to its high complexity. Also, tuning the parameters of Random Forest is not very easy (choosing a good n_estimators).\n",
    "\n",
    "Here we tuned the parameters by changing the search range of n_estimators. We also changed the max_depth in order deal with the problem of overfitting. In general, having more number of trees will increase the accuracy of the model, but it will take more time to compute. Therefore, we will not keep testing models with more number of trees. (In real life, there is also a cost for longer time of computation.)"
   ]
  },
  {
   "cell_type": "code",
   "execution_count": 145,
   "metadata": {},
   "outputs": [
    {
     "name": "stdout",
     "output_type": "stream",
     "text": [
      "Scores on training set:\n",
      "0.835 (+/-0.016) for {'criterion': 'entropy', 'max_depth': 10, 'n_estimators': 10}\n",
      "0.847 (+/-0.013) for {'criterion': 'entropy', 'max_depth': 10, 'n_estimators': 50}\n",
      "0.846 (+/-0.012) for {'criterion': 'entropy', 'max_depth': 10, 'n_estimators': 100}\n",
      "0.845 (+/-0.011) for {'criterion': 'entropy', 'max_depth': 10, 'n_estimators': 300}\n",
      "0.845 (+/-0.010) for {'criterion': 'entropy', 'max_depth': 10, 'n_estimators': 500}\n",
      "0.854 (+/-0.006) for {'criterion': 'entropy', 'max_depth': 20, 'n_estimators': 10}\n",
      "0.858 (+/-0.006) for {'criterion': 'entropy', 'max_depth': 20, 'n_estimators': 50}\n",
      "0.858 (+/-0.007) for {'criterion': 'entropy', 'max_depth': 20, 'n_estimators': 100}\n",
      "0.858 (+/-0.006) for {'criterion': 'entropy', 'max_depth': 20, 'n_estimators': 300}\n",
      "0.858 (+/-0.006) for {'criterion': 'entropy', 'max_depth': 20, 'n_estimators': 500}\n",
      "0.835 (+/-0.011) for {'criterion': 'gini', 'max_depth': 10, 'n_estimators': 10}\n",
      "0.844 (+/-0.012) for {'criterion': 'gini', 'max_depth': 10, 'n_estimators': 50}\n",
      "0.844 (+/-0.008) for {'criterion': 'gini', 'max_depth': 10, 'n_estimators': 100}\n",
      "0.843 (+/-0.010) for {'criterion': 'gini', 'max_depth': 10, 'n_estimators': 300}\n",
      "0.845 (+/-0.008) for {'criterion': 'gini', 'max_depth': 10, 'n_estimators': 500}\n",
      "0.853 (+/-0.006) for {'criterion': 'gini', 'max_depth': 20, 'n_estimators': 10}\n",
      "0.858 (+/-0.007) for {'criterion': 'gini', 'max_depth': 20, 'n_estimators': 50}\n",
      "0.858 (+/-0.007) for {'criterion': 'gini', 'max_depth': 20, 'n_estimators': 100}\n",
      "0.857 (+/-0.006) for {'criterion': 'gini', 'max_depth': 20, 'n_estimators': 300}\n",
      "0.858 (+/-0.006) for {'criterion': 'gini', 'max_depth': 20, 'n_estimators': 500}\n",
      "{'criterion': 'entropy', 'max_depth': 20, 'n_estimators': 300}\n"
     ]
    }
   ],
   "source": [
    "from sklearn.ensemble import RandomForestClassifier\n",
    "from sklearn.metrics import mean_squared_error, mean_absolute_error, r2_score\n",
    "\n",
    "# Create Random Forest Regressor object\n",
    "rf = RandomForestClassifier(random_state = 10)\n",
    "\n",
    "\n",
    "param_grid = {\"criterion\": ['entropy','gini'],\"n_estimators\": [10,50, 100, 300, 500], \"max_depth\":[10, 20]}\n",
    "\n",
    "grid_search2 = GridSearchCV(rf, param_grid=param_grid, scoring='accuracy', cv=5, return_train_score = True)\n",
    "grid_search2.fit(x_train_nor, Y_train.ravel()) \n",
    "\n",
    "\n",
    "print(\"Scores on training set:\")\n",
    "means = grid_search2.cv_results_['mean_test_score']\n",
    "stds = grid_search2.cv_results_['std_test_score']\n",
    "for mean, std, params in zip(means, stds, grid_search2.cv_results_['params']):\n",
    "    print(\"%0.3f (+/-%0.03f) for %r\"\n",
    "          % (mean, std * 2, params))\n",
    "print(grid_search2.best_params_)"
   ]
  },
  {
   "cell_type": "code",
   "execution_count": 146,
   "metadata": {},
   "outputs": [
    {
     "name": "stdout",
     "output_type": "stream",
     "text": [
      "{'criterion': 'entropy', 'max_depth': 20, 'n_estimators': 300}\n"
     ]
    }
   ],
   "source": [
    "print(grid_search2.best_params_)"
   ]
  },
  {
   "cell_type": "markdown",
   "metadata": {},
   "source": [
    "From the above result, we could see that with more trees, the results will become better. We can also get better results if we allow the maximum depth to become larger. But all of these will result in longer computation time. We will not keep trying larger number of trees due to time constraint."
   ]
  },
  {
   "cell_type": "code",
   "execution_count": 147,
   "metadata": {},
   "outputs": [
    {
     "name": "stdout",
     "output_type": "stream",
     "text": [
      "Random Forest Scores on Testing set: 0.8579283157840137\n"
     ]
    }
   ],
   "source": [
    "Random_forest = grid_search2.best_estimator_.fit(x_train_nor, Y_train)\n",
    "y_hat3 = Random_forest.predict(x_test_nor)\n",
    "Random_forest_score = Random_forest.score(x_test_nor, Y_test)\n",
    "print(\"Random Forest Scores on Testing set: \", end='')\n",
    "print(Random_forest_score)"
   ]
  },
  {
   "cell_type": "markdown",
   "metadata": {},
   "source": [
    "We can see that our training and testing sets have the similar scores. "
   ]
  },
  {
   "cell_type": "code",
   "execution_count": 148,
   "metadata": {},
   "outputs": [
    {
     "name": "stdout",
     "output_type": "stream",
     "text": [
      "{'mean_fit_time': array([ 0.33528047,  1.3968473 ,  2.91536727,  8.09958735, 13.83124428,\n",
      "        0.45173812,  2.28926053,  4.09798055, 12.41380014, 21.2902472 ,\n",
      "        0.27295547,  1.47110939,  2.67467508,  8.23007979, 13.01818871,\n",
      "        0.45202918,  1.96543298,  3.88916197, 11.71096177, 19.80265675]), 'std_fit_time': array([0.03295395, 0.02965135, 0.32795574, 0.28426449, 0.51301297,\n",
      "       0.0525638 , 0.15507475, 0.21439772, 0.13038362, 1.3966114 ,\n",
      "       0.00728352, 0.1224984 , 0.17028601, 0.28080307, 0.46473508,\n",
      "       0.02125704, 0.04072961, 0.26604432, 0.44386347, 0.42122451]), 'mean_score_time': array([0.0207427 , 0.06102653, 0.1177588 , 0.32836084, 0.61249638,\n",
      "       0.02030673, 0.09489255, 0.17163525, 0.55179548, 0.93470502,\n",
      "       0.01515913, 0.06399608, 0.11430402, 0.37928877, 0.55295916,\n",
      "       0.02423873, 0.09026456, 0.18712239, 0.57241473, 0.94103513]), 'std_score_time': array([0.010653  , 0.00791406, 0.01328586, 0.00798847, 0.07717338,\n",
      "       0.00249595, 0.00739111, 0.00874031, 0.02551461, 0.06563822,\n",
      "       0.00132306, 0.00590741, 0.01109332, 0.0179539 , 0.0118989 ,\n",
      "       0.00385467, 0.00371033, 0.00905117, 0.03939728, 0.07769722]), 'param_criterion': masked_array(data=['entropy', 'entropy', 'entropy', 'entropy', 'entropy',\n",
      "                   'entropy', 'entropy', 'entropy', 'entropy', 'entropy',\n",
      "                   'gini', 'gini', 'gini', 'gini', 'gini', 'gini', 'gini',\n",
      "                   'gini', 'gini', 'gini'],\n",
      "             mask=[False, False, False, False, False, False, False, False,\n",
      "                   False, False, False, False, False, False, False, False,\n",
      "                   False, False, False, False],\n",
      "       fill_value='?',\n",
      "            dtype=object), 'param_max_depth': masked_array(data=[10, 10, 10, 10, 10, 20, 20, 20, 20, 20, 10, 10, 10, 10,\n",
      "                   10, 20, 20, 20, 20, 20],\n",
      "             mask=[False, False, False, False, False, False, False, False,\n",
      "                   False, False, False, False, False, False, False, False,\n",
      "                   False, False, False, False],\n",
      "       fill_value='?',\n",
      "            dtype=object), 'param_n_estimators': masked_array(data=[10, 50, 100, 300, 500, 10, 50, 100, 300, 500, 10, 50,\n",
      "                   100, 300, 500, 10, 50, 100, 300, 500],\n",
      "             mask=[False, False, False, False, False, False, False, False,\n",
      "                   False, False, False, False, False, False, False, False,\n",
      "                   False, False, False, False],\n",
      "       fill_value='?',\n",
      "            dtype=object), 'params': [{'criterion': 'entropy', 'max_depth': 10, 'n_estimators': 10}, {'criterion': 'entropy', 'max_depth': 10, 'n_estimators': 50}, {'criterion': 'entropy', 'max_depth': 10, 'n_estimators': 100}, {'criterion': 'entropy', 'max_depth': 10, 'n_estimators': 300}, {'criterion': 'entropy', 'max_depth': 10, 'n_estimators': 500}, {'criterion': 'entropy', 'max_depth': 20, 'n_estimators': 10}, {'criterion': 'entropy', 'max_depth': 20, 'n_estimators': 50}, {'criterion': 'entropy', 'max_depth': 20, 'n_estimators': 100}, {'criterion': 'entropy', 'max_depth': 20, 'n_estimators': 300}, {'criterion': 'entropy', 'max_depth': 20, 'n_estimators': 500}, {'criterion': 'gini', 'max_depth': 10, 'n_estimators': 10}, {'criterion': 'gini', 'max_depth': 10, 'n_estimators': 50}, {'criterion': 'gini', 'max_depth': 10, 'n_estimators': 100}, {'criterion': 'gini', 'max_depth': 10, 'n_estimators': 300}, {'criterion': 'gini', 'max_depth': 10, 'n_estimators': 500}, {'criterion': 'gini', 'max_depth': 20, 'n_estimators': 10}, {'criterion': 'gini', 'max_depth': 20, 'n_estimators': 50}, {'criterion': 'gini', 'max_depth': 20, 'n_estimators': 100}, {'criterion': 'gini', 'max_depth': 20, 'n_estimators': 300}, {'criterion': 'gini', 'max_depth': 20, 'n_estimators': 500}], 'split0_test_score': array([0.84494832, 0.84294765, 0.84105813, 0.84061354, 0.84061354,\n",
      "       0.8520618 , 0.85228409, 0.85317328, 0.85328443, 0.85339558,\n",
      "       0.83238857, 0.83494498, 0.8370568 , 0.83783483, 0.84061354,\n",
      "       0.84950539, 0.85339558, 0.85350672, 0.85283984, 0.85361787]), 'split1_test_score': array([0.83605646, 0.85161721, 0.85228409, 0.85228409, 0.8520618 ,\n",
      "       0.85250639, 0.85817495, 0.85895298, 0.85928643, 0.85950873,\n",
      "       0.8460598 , 0.85195065, 0.84750472, 0.84972769, 0.85028343,\n",
      "       0.85584084, 0.85873069, 0.85817495, 0.85906413, 0.85973102]), 'split2_test_score': array([0.82138491, 0.83638991, 0.83750139, 0.83816828, 0.83972435,\n",
      "       0.84983884, 0.85750806, 0.8548405 , 0.85661887, 0.85661887,\n",
      "       0.83272202, 0.83894632, 0.84105813, 0.83716794, 0.83950206,\n",
      "       0.85072802, 0.85328443, 0.8552851 , 0.8548405 , 0.85461821]), 'split3_test_score': array([0.84070698, 0.85326812, 0.85193419, 0.85004446, 0.85004446,\n",
      "       0.85760338, 0.86216096, 0.86227212, 0.86171632, 0.86116052,\n",
      "       0.83259226, 0.84626501, 0.84748777, 0.84815474, 0.84859938,\n",
      "       0.85626945, 0.86182748, 0.86238328, 0.86071587, 0.86093819]), 'split4_test_score': array([0.83370387, 0.8499333 , 0.84537572, 0.84559804, 0.84481992,\n",
      "       0.85626945, 0.85949311, 0.86016007, 0.86104936, 0.86049355,\n",
      "       0.83214762, 0.84559804, 0.84504224, 0.8445976 , 0.84437528,\n",
      "       0.85471321, 0.86027123, 0.86060471, 0.85993775, 0.86082703]), 'mean_test_score': array([0.83536002, 0.84683103, 0.84563057, 0.84534157, 0.84545273,\n",
      "       0.85365583, 0.8579241 , 0.85787964, 0.85839095, 0.85823533,\n",
      "       0.83518218, 0.84354089, 0.84362982, 0.84349643, 0.84467465,\n",
      "       0.85341129, 0.85750172, 0.8579908 , 0.85747949, 0.85794634]), 'std_test_score': array([0.00798834, 0.00629394, 0.00584917, 0.00537021, 0.00492746,\n",
      "       0.00285815, 0.00323909, 0.00337735, 0.00310303, 0.00287452,\n",
      "       0.00544243, 0.00595623, 0.00404261, 0.00517393, 0.0042474 ,\n",
      "       0.0027649 , 0.00353662, 0.00327376, 0.00308283, 0.00317008]), 'rank_test_score': array([19, 11, 12, 14, 13,  9,  5,  6,  1,  2, 20, 17, 16, 18, 15, 10,  7,\n",
      "        3,  8,  4]), 'split0_train_score': array([0.84927472, 0.85066415, 0.84869116, 0.84788529, 0.84891347,\n",
      "       0.88526093, 0.88731729, 0.88737287, 0.88670594, 0.88670594,\n",
      "       0.83743678, 0.84229978, 0.84460624, 0.8459123 , 0.84796865,\n",
      "       0.88776191, 0.89084644, 0.89012394, 0.89090202, 0.89109654]), 'split1_train_score': array([0.8344634 , 0.85233146, 0.85216473, 0.85163675, 0.85133107,\n",
      "       0.88278775, 0.88790085, 0.88787306, 0.88723392, 0.88751181,\n",
      "       0.84705163, 0.85210915, 0.84641249, 0.84896904, 0.84944145,\n",
      "       0.88837326, 0.88831768, 0.88962374, 0.89112433, 0.89165231]), 'split2_train_score': array([0.83560273, 0.84477297, 0.84560662, 0.84471739, 0.84707942,\n",
      "       0.88890124, 0.88812316, 0.88828989, 0.88823431, 0.88845662,\n",
      "       0.84402268, 0.8461624 , 0.84771856, 0.84527316, 0.84741288,\n",
      "       0.8904574 , 0.89162452, 0.89129106, 0.89173567, 0.89237481]), 'split3_train_score': array([0.83921972, 0.85166866, 0.85025148, 0.84908439, 0.84836191,\n",
      "       0.88598661, 0.8869036 , 0.88754272, 0.88676467, 0.88662573,\n",
      "       0.83349543, 0.84188735, 0.8442771 , 0.84561092, 0.8465557 ,\n",
      "       0.88843193, 0.8905716 , 0.89051602, 0.89087726, 0.89179426]), 'split4_train_score': array([0.83577403, 0.85122405, 0.8472504 , 0.84772279, 0.84733376,\n",
      "       0.88606997, 0.88657015, 0.88682024, 0.88748715, 0.88818184,\n",
      "       0.8356073 , 0.84813961, 0.84602773, 0.84750049, 0.8472504 ,\n",
      "       0.88734821, 0.89068275, 0.89098841, 0.89232223, 0.89196099]), 'mean_train_score': array([0.83886692, 0.85013226, 0.84879288, 0.84820932, 0.84860393,\n",
      "       0.8858013 , 0.88736301, 0.88757976, 0.8872852 , 0.88749639,\n",
      "       0.83952276, 0.84611966, 0.84580842, 0.84665318, 0.84772582,\n",
      "       0.88847454, 0.8904086 , 0.89050863, 0.8913923 , 0.89177578]), 'std_train_score': array([0.00544166, 0.00273474, 0.00228205, 0.00223823, 0.0015185 ,\n",
      "       0.00195395, 0.00058461, 0.00049221, 0.00055691, 0.00074498,\n",
      "       0.00515643, 0.00380683, 0.00125314, 0.00138714, 0.00096907,\n",
      "       0.00106961, 0.0011085 , 0.00059556, 0.00055859, 0.00041716])}\n"
     ]
    }
   ],
   "source": [
    "print(grid_search2.cv_results_)"
   ]
  },
  {
   "cell_type": "code",
   "execution_count": 149,
   "metadata": {},
   "outputs": [
    {
     "data": {
      "text/plain": [
       "array([[9399,  392],\n",
       "       [2347, 7141]], dtype=int64)"
      ]
     },
     "execution_count": 149,
     "metadata": {},
     "output_type": "execute_result"
    }
   ],
   "source": [
    "confusion_rf = confusion_matrix(Y_test, y_hat3)\n",
    "confusion_rf"
   ]
  },
  {
   "cell_type": "code",
   "execution_count": 150,
   "metadata": {},
   "outputs": [
    {
     "data": {
      "image/png": "[encoded data removed]",
      "text/plain": [
       "<Figure size 432x288 with 2 Axes>"
      ]
     },
     "metadata": {},
     "output_type": "display_data"
    }
   ],
   "source": [
    "columns = ['0', '1']\n",
    "\n",
    "plt.imshow(confusion_rf, cmap=plt.cm.Blues, interpolation='nearest')\n",
    "plt.xticks([0,1,], columns, rotation='vertical')\n",
    "plt.yticks([0,1,], columns)\n",
    "plt.colorbar()\n",
    "\n",
    "plt.show()"
   ]
  },
  {
   "cell_type": "code",
   "execution_count": 151,
   "metadata": {},
   "outputs": [
    {
     "name": "stdout",
     "output_type": "stream",
     "text": [
      "              precision    recall  f1-score   support\n",
      "\n",
      "           0       0.80      0.96      0.87      9791\n",
      "           1       0.95      0.75      0.84      9488\n",
      "\n",
      "   micro avg       0.86      0.86      0.86     19279\n",
      "   macro avg       0.87      0.86      0.86     19279\n",
      "weighted avg       0.87      0.86      0.86     19279\n",
      "\n"
     ]
    }
   ],
   "source": [
    "print(classification_report(Y_test, y_hat3))"
   ]
  },
  {
   "cell_type": "markdown",
   "metadata": {},
   "source": [
    "**Comment:** We can see from the above results that Random Forest achieved very close score (45% accuracy) to Logistic Regression. The boundary of this problem might be this."
   ]
  },
  {
   "cell_type": "markdown",
   "metadata": {},
   "source": [
    "### (6) Desicion Tree"
   ]
  },
  {
   "cell_type": "markdown",
   "metadata": {},
   "source": [
    "**Characteristic:** In order to compare with Random Forest, we also tested Decision Tree model using AdaBoostClassifier. Decision Tree is in general a good model if the input has a lot of categorical features. But tuning the parameters of decision tree is very difficult (when to cut nodes etc.)."
   ]
  },
  {
   "cell_type": "code",
   "execution_count": 152,
   "metadata": {},
   "outputs": [
    {
     "name": "stdout",
     "output_type": "stream",
     "text": [
      "Scores on training set:\n",
      "0.804 (+/-0.046) for {'base_estimator__criterion': 'entropy', 'base_estimator__splitter': 'best', 'n_estimators': 10}\n",
      "0.813 (+/-0.037) for {'base_estimator__criterion': 'entropy', 'base_estimator__splitter': 'best', 'n_estimators': 30}\n",
      "0.820 (+/-0.023) for {'base_estimator__criterion': 'entropy', 'base_estimator__splitter': 'best', 'n_estimators': 50}\n",
      "0.799 (+/-0.045) for {'base_estimator__criterion': 'entropy', 'base_estimator__splitter': 'best', 'n_estimators': 70}\n",
      "0.811 (+/-0.044) for {'base_estimator__criterion': 'entropy', 'base_estimator__splitter': 'best', 'n_estimators': 100}\n",
      "0.798 (+/-0.050) for {'base_estimator__criterion': 'entropy', 'base_estimator__splitter': 'best', 'n_estimators': 120}\n",
      "0.813 (+/-0.024) for {'base_estimator__criterion': 'entropy', 'base_estimator__splitter': 'random', 'n_estimators': 10}\n",
      "0.818 (+/-0.007) for {'base_estimator__criterion': 'entropy', 'base_estimator__splitter': 'random', 'n_estimators': 30}\n",
      "0.821 (+/-0.005) for {'base_estimator__criterion': 'entropy', 'base_estimator__splitter': 'random', 'n_estimators': 50}\n",
      "0.821 (+/-0.010) for {'base_estimator__criterion': 'entropy', 'base_estimator__splitter': 'random', 'n_estimators': 70}\n",
      "0.823 (+/-0.006) for {'base_estimator__criterion': 'entropy', 'base_estimator__splitter': 'random', 'n_estimators': 100}\n",
      "0.823 (+/-0.007) for {'base_estimator__criterion': 'entropy', 'base_estimator__splitter': 'random', 'n_estimators': 120}\n",
      "0.817 (+/-0.031) for {'base_estimator__criterion': 'gini', 'base_estimator__splitter': 'best', 'n_estimators': 10}\n",
      "0.810 (+/-0.024) for {'base_estimator__criterion': 'gini', 'base_estimator__splitter': 'best', 'n_estimators': 30}\n",
      "0.813 (+/-0.012) for {'base_estimator__criterion': 'gini', 'base_estimator__splitter': 'best', 'n_estimators': 50}\n",
      "0.820 (+/-0.005) for {'base_estimator__criterion': 'gini', 'base_estimator__splitter': 'best', 'n_estimators': 70}\n",
      "0.817 (+/-0.005) for {'base_estimator__criterion': 'gini', 'base_estimator__splitter': 'best', 'n_estimators': 100}\n",
      "0.816 (+/-0.015) for {'base_estimator__criterion': 'gini', 'base_estimator__splitter': 'best', 'n_estimators': 120}\n",
      "0.806 (+/-0.013) for {'base_estimator__criterion': 'gini', 'base_estimator__splitter': 'random', 'n_estimators': 10}\n",
      "0.814 (+/-0.009) for {'base_estimator__criterion': 'gini', 'base_estimator__splitter': 'random', 'n_estimators': 30}\n",
      "0.817 (+/-0.010) for {'base_estimator__criterion': 'gini', 'base_estimator__splitter': 'random', 'n_estimators': 50}\n",
      "0.820 (+/-0.009) for {'base_estimator__criterion': 'gini', 'base_estimator__splitter': 'random', 'n_estimators': 70}\n",
      "0.816 (+/-0.004) for {'base_estimator__criterion': 'gini', 'base_estimator__splitter': 'random', 'n_estimators': 100}\n",
      "0.818 (+/-0.007) for {'base_estimator__criterion': 'gini', 'base_estimator__splitter': 'random', 'n_estimators': 120}\n",
      "{'base_estimator__criterion': 'entropy', 'base_estimator__splitter': 'random', 'n_estimators': 120}\n"
     ]
    }
   ],
   "source": [
    "from sklearn.ensemble import AdaBoostClassifier\n",
    "from sklearn.tree import DecisionTreeClassifier\n",
    "\n",
    "tree = AdaBoostClassifier(DecisionTreeClassifier(random_state = 1))\n",
    "\n",
    "param_grid2 = {\"base_estimator__criterion\" : [\"entropy\",\"gini\"],\n",
    "              \"base_estimator__splitter\" :   [\"best\", \"random\"],\n",
    "              \"n_estimators\": [10,30, 50,70, 100, 120]\n",
    "             }\n",
    "\n",
    "grid_search3 = GridSearchCV(tree, param_grid=param_grid2, scoring='accuracy', cv=5, return_train_score = True)\n",
    "grid_search3.fit(x_train_nor, Y_train.ravel()) \n",
    "\n",
    "print(\"Scores on training set:\")\n",
    "means = grid_search3.cv_results_['mean_test_score']\n",
    "stds = grid_search3.cv_results_['std_test_score']\n",
    "for mean, std, params in zip(means, stds, grid_search3.cv_results_['params']):\n",
    "    print(\"%0.3f (+/-%0.03f) for %r\"\n",
    "          % (mean, std * 2, params))\n",
    "print(grid_search3.best_params_)"
   ]
  },
  {
   "cell_type": "code",
   "execution_count": 153,
   "metadata": {},
   "outputs": [
    {
     "name": "stdout",
     "output_type": "stream",
     "text": [
      "{'mean_fit_time': array([ 2.25570354,  4.59597583,  7.04150615, 10.51784582, 14.25710802,\n",
      "       16.79499531,  2.46173496,  5.52070808, 10.15409985, 13.3897892 ,\n",
      "       23.17973356, 25.03334651,  2.81872706,  6.98942614, 11.06024632,\n",
      "       16.21863761, 22.67583432, 25.52131023,  2.2680634 ,  5.22668529,\n",
      "        8.07738795, 11.86520195, 16.87804585, 19.54873095]), 'std_fit_time': array([0.25868295, 0.7689084 , 0.91245054, 2.49023914, 3.20453654,\n",
      "       3.56631391, 0.36468052, 0.89742826, 1.91895941, 2.57719925,\n",
      "       2.26365084, 5.91199882, 0.3049774 , 0.72440378, 1.79764552,\n",
      "       2.09557242, 2.84014997, 3.44915609, 0.33328991, 0.49174629,\n",
      "       0.94806622, 1.90412751, 2.13836704, 1.52001194]), 'mean_score_time': array([0.03275423, 0.0689167 , 0.11127858, 0.1619729 , 0.21607976,\n",
      "       0.26786051, 0.03316169, 0.07834592, 0.14134545, 0.17009773,\n",
      "       0.2713016 , 0.3080121 , 0.03208137, 0.07745953, 0.14236584,\n",
      "       0.18942266, 0.23465319, 0.2756711 , 0.03157659, 0.0781055 ,\n",
      "       0.12608247, 0.17277765, 0.24546566, 0.27162609]), 'std_score_time': array([0.00540991, 0.00643277, 0.00837448, 0.01453467, 0.01287244,\n",
      "       0.01341052, 0.00200317, 0.004523  , 0.01870717, 0.01615774,\n",
      "       0.03367307, 0.05355779, 0.00229346, 0.00654185, 0.03359887,\n",
      "       0.02657277, 0.0157814 , 0.01471881, 0.00186875, 0.00315359,\n",
      "       0.00825835, 0.01236571, 0.01053989, 0.02808053]), 'param_base_estimator__criterion': masked_array(data=['entropy', 'entropy', 'entropy', 'entropy', 'entropy',\n",
      "                   'entropy', 'entropy', 'entropy', 'entropy', 'entropy',\n",
      "                   'entropy', 'entropy', 'gini', 'gini', 'gini', 'gini',\n",
      "                   'gini', 'gini', 'gini', 'gini', 'gini', 'gini', 'gini',\n",
      "                   'gini'],\n",
      "             mask=[False, False, False, False, False, False, False, False,\n",
      "                   False, False, False, False, False, False, False, False,\n",
      "                   False, False, False, False, False, False, False, False],\n",
      "       fill_value='?',\n",
      "            dtype=object), 'param_base_estimator__splitter': masked_array(data=['best', 'best', 'best', 'best', 'best', 'best',\n",
      "                   'random', 'random', 'random', 'random', 'random',\n",
      "                   'random', 'best', 'best', 'best', 'best', 'best',\n",
      "                   'best', 'random', 'random', 'random', 'random',\n",
      "                   'random', 'random'],\n",
      "             mask=[False, False, False, False, False, False, False, False,\n",
      "                   False, False, False, False, False, False, False, False,\n",
      "                   False, False, False, False, False, False, False, False],\n",
      "       fill_value='?',\n",
      "            dtype=object), 'param_n_estimators': masked_array(data=[10, 30, 50, 70, 100, 120, 10, 30, 50, 70, 100, 120, 10,\n",
      "                   30, 50, 70, 100, 120, 10, 30, 50, 70, 100, 120],\n",
      "             mask=[False, False, False, False, False, False, False, False,\n",
      "                   False, False, False, False, False, False, False, False,\n",
      "                   False, False, False, False, False, False, False, False],\n",
      "       fill_value='?',\n",
      "            dtype=object), 'params': [{'base_estimator__criterion': 'entropy', 'base_estimator__splitter': 'best', 'n_estimators': 10}, {'base_estimator__criterion': 'entropy', 'base_estimator__splitter': 'best', 'n_estimators': 30}, {'base_estimator__criterion': 'entropy', 'base_estimator__splitter': 'best', 'n_estimators': 50}, {'base_estimator__criterion': 'entropy', 'base_estimator__splitter': 'best', 'n_estimators': 70}, {'base_estimator__criterion': 'entropy', 'base_estimator__splitter': 'best', 'n_estimators': 100}, {'base_estimator__criterion': 'entropy', 'base_estimator__splitter': 'best', 'n_estimators': 120}, {'base_estimator__criterion': 'entropy', 'base_estimator__splitter': 'random', 'n_estimators': 10}, {'base_estimator__criterion': 'entropy', 'base_estimator__splitter': 'random', 'n_estimators': 30}, {'base_estimator__criterion': 'entropy', 'base_estimator__splitter': 'random', 'n_estimators': 50}, {'base_estimator__criterion': 'entropy', 'base_estimator__splitter': 'random', 'n_estimators': 70}, {'base_estimator__criterion': 'entropy', 'base_estimator__splitter': 'random', 'n_estimators': 100}, {'base_estimator__criterion': 'entropy', 'base_estimator__splitter': 'random', 'n_estimators': 120}, {'base_estimator__criterion': 'gini', 'base_estimator__splitter': 'best', 'n_estimators': 10}, {'base_estimator__criterion': 'gini', 'base_estimator__splitter': 'best', 'n_estimators': 30}, {'base_estimator__criterion': 'gini', 'base_estimator__splitter': 'best', 'n_estimators': 50}, {'base_estimator__criterion': 'gini', 'base_estimator__splitter': 'best', 'n_estimators': 70}, {'base_estimator__criterion': 'gini', 'base_estimator__splitter': 'best', 'n_estimators': 100}, {'base_estimator__criterion': 'gini', 'base_estimator__splitter': 'best', 'n_estimators': 120}, {'base_estimator__criterion': 'gini', 'base_estimator__splitter': 'random', 'n_estimators': 10}, {'base_estimator__criterion': 'gini', 'base_estimator__splitter': 'random', 'n_estimators': 30}, {'base_estimator__criterion': 'gini', 'base_estimator__splitter': 'random', 'n_estimators': 50}, {'base_estimator__criterion': 'gini', 'base_estimator__splitter': 'random', 'n_estimators': 70}, {'base_estimator__criterion': 'gini', 'base_estimator__splitter': 'random', 'n_estimators': 100}, {'base_estimator__criterion': 'gini', 'base_estimator__splitter': 'random', 'n_estimators': 120}], 'split0_test_score': array([0.76681116, 0.83794598, 0.83650106, 0.76625542, 0.83572302,\n",
      "       0.7671446 , 0.79448705, 0.81616094, 0.81727242, 0.81271535,\n",
      "       0.81838391, 0.8218295 , 0.83294431, 0.79104146, 0.80826942,\n",
      "       0.81816161, 0.82194065, 0.81371568, 0.80582416, 0.80560187,\n",
      "       0.81027009, 0.81527176, 0.81682783, 0.81705013]), 'split1_test_score': array([0.82949872, 0.81616094, 0.82105146, 0.81838391, 0.81916194,\n",
      "       0.82538624, 0.81082583, 0.8188285 , 0.82282983, 0.82371902,\n",
      "       0.8248305 , 0.8276092 , 0.79204179, 0.82116261, 0.8038235 ,\n",
      "       0.82360787, 0.81705013, 0.82282983, 0.8036012 , 0.81327109,\n",
      "       0.81682783, 0.82038457, 0.81660554, 0.81793931]), 'split2_test_score': array([0.80293431, 0.78937424, 0.8126042 , 0.80749139, 0.81149272,\n",
      "       0.8186062 , 0.81716128, 0.81805046, 0.82082917, 0.82394131,\n",
      "       0.8218295 , 0.8188285 , 0.8063799 , 0.82016228, 0.81471602,\n",
      "       0.81949539, 0.81660554, 0.80282316, 0.81093698, 0.81649439,\n",
      "       0.81271535, 0.81738357, 0.81271535, 0.81227076]), 'split3_test_score': array([0.82747888, 0.82736772, 0.82836816, 0.77834593, 0.77023121,\n",
      "       0.77000889, 0.83114718, 0.81380614, 0.82414406, 0.8265896 ,\n",
      "       0.82336594, 0.82670076, 0.82870165, 0.81714095, 0.81547354,\n",
      "       0.81658515, 0.8150289 , 0.82147621, 0.79468653, 0.8181414 ,\n",
      "       0.82214317, 0.82814584, 0.81647399, 0.81836372]), 'split4_test_score': array([0.79413072, 0.79557581, 0.80380169, 0.82269898, 0.81747443,\n",
      "       0.81102712, 0.80947088, 0.82369942, 0.81858604, 0.82036461,\n",
      "       0.82692308, 0.82103157, 0.82314362, 0.80257892, 0.82180969,\n",
      "       0.82247666, 0.81669631, 0.82080925, 0.81325033, 0.81747443,\n",
      "       0.82303246, 0.82047577, 0.81803024, 0.82258782]), 'mean_test_score': array([0.80417046, 0.81328502, 0.82046551, 0.79863504, 0.81081742,\n",
      "       0.79843496, 0.8126181 , 0.81810906, 0.82073228, 0.82146589,\n",
      "       0.82306649, 0.82319988, 0.81664184, 0.81041727, 0.81281818,\n",
      "       0.82006536, 0.81746438, 0.81633061, 0.80565992, 0.81419647,\n",
      "       0.81699753, 0.82033213, 0.81613054, 0.81764222]), 'std_test_score': array([0.02316416, 0.01843972, 0.01148398, 0.02239471, 0.0218259 ,\n",
      "       0.0248152 , 0.01188117, 0.00328878, 0.00255445, 0.00480091,\n",
      "       0.00288207, 0.00338784, 0.01525768, 0.01176874, 0.00621441,\n",
      "       0.0026239 , 0.00234385, 0.0074575 , 0.00648278, 0.00461114,\n",
      "       0.00503033, 0.00436752, 0.00179457, 0.00329456]), 'rank_test_score': array([22, 16,  5, 23, 19, 24, 18,  8,  4,  3,  2,  1, 12, 20, 17,  7, 10,\n",
      "       13, 21, 15, 11,  6, 14,  9]), 'split0_train_score': array([0.99922192, 0.99922192, 0.99922192, 0.99922192, 0.99922192,\n",
      "       0.99922192, 0.99922192, 0.99922192, 0.99922192, 0.99922192,\n",
      "       0.99922192, 0.99922192, 0.99922192, 0.99922192, 0.99922192,\n",
      "       0.99922192, 0.99922192, 0.99922192, 0.99922192, 0.99922192,\n",
      "       0.99922192, 0.99922192, 0.99922192, 0.99922192]), 'split1_train_score': array([0.99922192, 0.99922192, 0.99922192, 0.99922192, 0.99922192,\n",
      "       0.99922192, 0.99922192, 0.99922192, 0.99922192, 0.99922192,\n",
      "       0.99922192, 0.99922192, 0.99922192, 0.99922192, 0.99922192,\n",
      "       0.99922192, 0.99922192, 0.99922192, 0.99922192, 0.99922192,\n",
      "       0.99922192, 0.99922192, 0.99922192, 0.99922192]), 'split2_train_score': array([0.99930529, 0.99930529, 0.99930529, 0.99930529, 0.99930529,\n",
      "       0.99930529, 0.99930529, 0.99930529, 0.99930529, 0.99930529,\n",
      "       0.99930529, 0.99930529, 0.99930529, 0.99930529, 0.99930529,\n",
      "       0.99930529, 0.99930529, 0.99930529, 0.99930529, 0.99930529,\n",
      "       0.99930529, 0.99930529, 0.99930529, 0.99930529]), 'split3_train_score': array([0.99922194, 0.99922194, 0.99922194, 0.99922194, 0.99922194,\n",
      "       0.99922194, 0.99922194, 0.99922194, 0.99922194, 0.99922194,\n",
      "       0.99922194, 0.99922194, 0.99922194, 0.99922194, 0.99922194,\n",
      "       0.99922194, 0.99922194, 0.99922194, 0.99922194, 0.99922194,\n",
      "       0.99922194, 0.99922194, 0.99922194, 0.99922194]), 'split4_train_score': array([0.99947203, 0.99947203, 0.99947203, 0.99947203, 0.99947203,\n",
      "       0.99947203, 0.99947203, 0.99947203, 0.99947203, 0.99947203,\n",
      "       0.99947203, 0.99947203, 0.99947203, 0.99947203, 0.99947203,\n",
      "       0.99947203, 0.99947203, 0.99947203, 0.99947203, 0.99947203,\n",
      "       0.99947203, 0.99947203, 0.99947203, 0.99947203]), 'mean_train_score': array([0.99928862, 0.99928862, 0.99928862, 0.99928862, 0.99928862,\n",
      "       0.99928862, 0.99928862, 0.99928862, 0.99928862, 0.99928862,\n",
      "       0.99928862, 0.99928862, 0.99928862, 0.99928862, 0.99928862,\n",
      "       0.99928862, 0.99928862, 0.99928862, 0.99928862, 0.99928862,\n",
      "       0.99928862, 0.99928862, 0.99928862, 0.99928862]), 'std_train_score': array([9.7222909e-05, 9.7222909e-05, 9.7222909e-05, 9.7222909e-05,\n",
      "       9.7222909e-05, 9.7222909e-05, 9.7222909e-05, 9.7222909e-05,\n",
      "       9.7222909e-05, 9.7222909e-05, 9.7222909e-05, 9.7222909e-05,\n",
      "       9.7222909e-05, 9.7222909e-05, 9.7222909e-05, 9.7222909e-05,\n",
      "       9.7222909e-05, 9.7222909e-05, 9.7222909e-05, 9.7222909e-05,\n",
      "       9.7222909e-05, 9.7222909e-05, 9.7222909e-05, 9.7222909e-05])}\n"
     ]
    }
   ],
   "source": [
    "print(grid_search3.cv_results_) "
   ]
  },
  {
   "cell_type": "code",
   "execution_count": 154,
   "metadata": {},
   "outputs": [
    {
     "name": "stdout",
     "output_type": "stream",
     "text": [
      "Decision Tree Scores on Testing set: 0.8260801908812698\n"
     ]
    }
   ],
   "source": [
    "Decision_tree = grid_search3.best_estimator_.fit(x_train_nor, Y_train)\n",
    "y_hat4 = Decision_tree.predict(x_test_nor)\n",
    "Decision_tree_score = Decision_tree.score(x_test_nor, Y_test)\n",
    "print(\"Decision Tree Scores on Testing set: \", end='')\n",
    "print(Decision_tree_score)"
   ]
  },
  {
   "cell_type": "code",
   "execution_count": 155,
   "metadata": {},
   "outputs": [
    {
     "data": {
      "text/plain": [
       "array([[8341, 1450],\n",
       "       [1903, 7585]], dtype=int64)"
      ]
     },
     "execution_count": 155,
     "metadata": {},
     "output_type": "execute_result"
    }
   ],
   "source": [
    "confusion_dt = confusion_matrix(Y_test, y_hat4)\n",
    "confusion_dt"
   ]
  },
  {
   "cell_type": "code",
   "execution_count": 156,
   "metadata": {},
   "outputs": [
    {
     "data": {
      "image/png": "[encoded data removed]",
      "text/plain": [
       "<Figure size 432x288 with 2 Axes>"
      ]
     },
     "metadata": {},
     "output_type": "display_data"
    }
   ],
   "source": [
    "columns = ['0', '1']\n",
    "\n",
    "plt.imshow(confusion_dt, cmap=plt.cm.Blues, interpolation='nearest')\n",
    "plt.xticks([0,1,], columns, rotation='vertical')\n",
    "plt.yticks([0,1,], columns)\n",
    "plt.colorbar()\n",
    "\n",
    "plt.show()"
   ]
  },
  {
   "cell_type": "code",
   "execution_count": 157,
   "metadata": {},
   "outputs": [
    {
     "name": "stdout",
     "output_type": "stream",
     "text": [
      "              precision    recall  f1-score   support\n",
      "\n",
      "           0       0.81      0.85      0.83      9791\n",
      "           1       0.84      0.80      0.82      9488\n",
      "\n",
      "   micro avg       0.83      0.83      0.83     19279\n",
      "   macro avg       0.83      0.83      0.83     19279\n",
      "weighted avg       0.83      0.83      0.83     19279\n",
      "\n"
     ]
    }
   ],
   "source": [
    "print(classification_report(Y_test, y_hat4))"
   ]
  },
  {
   "cell_type": "markdown",
   "metadata": {},
   "source": [
    "**Comment:** As expected, Decision Tree performed worse than Random Forest (Random Forest is actually a bagging model of Decision Tree). It may also result from the difficulty of tuning parameters of this model (when to cut nodes or how deep should the tree go.)"
   ]
  },
  {
   "cell_type": "markdown",
   "metadata": {},
   "source": [
    "### (7) Neural Network"
   ]
  },
  {
   "cell_type": "markdown",
   "metadata": {},
   "source": [
    "**Characteristic:** Due to the limited time we have, we tried MLPClassifier from sklearn first. We use grid search to find the best hidden_layer_sizes and best activation function. We expect Neural Network should be a good model due to its complexity. But again, finding a good number of layers and a good number of neurons is very difficult. Here we tested the following combinations through grid search:"
   ]
  },
  {
   "cell_type": "code",
   "execution_count": 76,
   "metadata": {},
   "outputs": [],
   "source": [
    "from sklearn.neural_network import MLPClassifier\n",
    "from sklearn.metrics import confusion_matrix, classification_report"
   ]
  },
  {
   "cell_type": "code",
   "execution_count": 77,
   "metadata": {},
   "outputs": [
    {
     "name": "stderr",
     "output_type": "stream",
     "text": [
      "C:\\Users\\lenovo\\Anaconda3\\lib\\site-packages\\sklearn\\neural_network\\multilayer_perceptron.py:562: ConvergenceWarning: Stochastic Optimizer: Maximum iterations (200) reached and the optimization hasn't converged yet.\n",
      "  % self.max_iter, ConvergenceWarning)\n",
      "C:\\Users\\lenovo\\Anaconda3\\lib\\site-packages\\sklearn\\neural_network\\multilayer_perceptron.py:562: ConvergenceWarning: Stochastic Optimizer: Maximum iterations (200) reached and the optimization hasn't converged yet.\n",
      "  % self.max_iter, ConvergenceWarning)\n",
      "C:\\Users\\lenovo\\Anaconda3\\lib\\site-packages\\sklearn\\neural_network\\multilayer_perceptron.py:562: ConvergenceWarning: Stochastic Optimizer: Maximum iterations (200) reached and the optimization hasn't converged yet.\n",
      "  % self.max_iter, ConvergenceWarning)\n",
      "C:\\Users\\lenovo\\Anaconda3\\lib\\site-packages\\sklearn\\neural_network\\multilayer_perceptron.py:562: ConvergenceWarning: Stochastic Optimizer: Maximum iterations (200) reached and the optimization hasn't converged yet.\n",
      "  % self.max_iter, ConvergenceWarning)\n",
      "C:\\Users\\lenovo\\Anaconda3\\lib\\site-packages\\sklearn\\neural_network\\multilayer_perceptron.py:562: ConvergenceWarning: Stochastic Optimizer: Maximum iterations (200) reached and the optimization hasn't converged yet.\n",
      "  % self.max_iter, ConvergenceWarning)\n",
      "C:\\Users\\lenovo\\Anaconda3\\lib\\site-packages\\sklearn\\neural_network\\multilayer_perceptron.py:562: ConvergenceWarning: Stochastic Optimizer: Maximum iterations (200) reached and the optimization hasn't converged yet.\n",
      "  % self.max_iter, ConvergenceWarning)\n",
      "C:\\Users\\lenovo\\Anaconda3\\lib\\site-packages\\sklearn\\neural_network\\multilayer_perceptron.py:562: ConvergenceWarning: Stochastic Optimizer: Maximum iterations (200) reached and the optimization hasn't converged yet.\n",
      "  % self.max_iter, ConvergenceWarning)\n",
      "C:\\Users\\lenovo\\Anaconda3\\lib\\site-packages\\sklearn\\neural_network\\multilayer_perceptron.py:562: ConvergenceWarning: Stochastic Optimizer: Maximum iterations (200) reached and the optimization hasn't converged yet.\n",
      "  % self.max_iter, ConvergenceWarning)\n",
      "C:\\Users\\lenovo\\Anaconda3\\lib\\site-packages\\sklearn\\neural_network\\multilayer_perceptron.py:562: ConvergenceWarning: Stochastic Optimizer: Maximum iterations (200) reached and the optimization hasn't converged yet.\n",
      "  % self.max_iter, ConvergenceWarning)\n",
      "C:\\Users\\lenovo\\Anaconda3\\lib\\site-packages\\sklearn\\neural_network\\multilayer_perceptron.py:562: ConvergenceWarning: Stochastic Optimizer: Maximum iterations (200) reached and the optimization hasn't converged yet.\n",
      "  % self.max_iter, ConvergenceWarning)\n",
      "C:\\Users\\lenovo\\Anaconda3\\lib\\site-packages\\sklearn\\neural_network\\multilayer_perceptron.py:562: ConvergenceWarning: Stochastic Optimizer: Maximum iterations (200) reached and the optimization hasn't converged yet.\n",
      "  % self.max_iter, ConvergenceWarning)\n",
      "C:\\Users\\lenovo\\Anaconda3\\lib\\site-packages\\sklearn\\neural_network\\multilayer_perceptron.py:562: ConvergenceWarning: Stochastic Optimizer: Maximum iterations (200) reached and the optimization hasn't converged yet.\n",
      "  % self.max_iter, ConvergenceWarning)\n",
      "C:\\Users\\lenovo\\Anaconda3\\lib\\site-packages\\sklearn\\neural_network\\multilayer_perceptron.py:562: ConvergenceWarning: Stochastic Optimizer: Maximum iterations (200) reached and the optimization hasn't converged yet.\n",
      "  % self.max_iter, ConvergenceWarning)\n",
      "C:\\Users\\lenovo\\Anaconda3\\lib\\site-packages\\sklearn\\neural_network\\multilayer_perceptron.py:562: ConvergenceWarning: Stochastic Optimizer: Maximum iterations (200) reached and the optimization hasn't converged yet.\n",
      "  % self.max_iter, ConvergenceWarning)\n",
      "C:\\Users\\lenovo\\Anaconda3\\lib\\site-packages\\sklearn\\neural_network\\multilayer_perceptron.py:562: ConvergenceWarning: Stochastic Optimizer: Maximum iterations (200) reached and the optimization hasn't converged yet.\n",
      "  % self.max_iter, ConvergenceWarning)\n",
      "C:\\Users\\lenovo\\Anaconda3\\lib\\site-packages\\sklearn\\neural_network\\multilayer_perceptron.py:562: ConvergenceWarning: Stochastic Optimizer: Maximum iterations (200) reached and the optimization hasn't converged yet.\n",
      "  % self.max_iter, ConvergenceWarning)\n",
      "C:\\Users\\lenovo\\Anaconda3\\lib\\site-packages\\sklearn\\neural_network\\multilayer_perceptron.py:562: ConvergenceWarning: Stochastic Optimizer: Maximum iterations (200) reached and the optimization hasn't converged yet.\n",
      "  % self.max_iter, ConvergenceWarning)\n",
      "C:\\Users\\lenovo\\Anaconda3\\lib\\site-packages\\sklearn\\neural_network\\multilayer_perceptron.py:562: ConvergenceWarning: Stochastic Optimizer: Maximum iterations (200) reached and the optimization hasn't converged yet.\n",
      "  % self.max_iter, ConvergenceWarning)\n",
      "C:\\Users\\lenovo\\Anaconda3\\lib\\site-packages\\sklearn\\neural_network\\multilayer_perceptron.py:562: ConvergenceWarning: Stochastic Optimizer: Maximum iterations (200) reached and the optimization hasn't converged yet.\n",
      "  % self.max_iter, ConvergenceWarning)\n",
      "C:\\Users\\lenovo\\Anaconda3\\lib\\site-packages\\sklearn\\neural_network\\multilayer_perceptron.py:562: ConvergenceWarning: Stochastic Optimizer: Maximum iterations (200) reached and the optimization hasn't converged yet.\n",
      "  % self.max_iter, ConvergenceWarning)\n",
      "C:\\Users\\lenovo\\Anaconda3\\lib\\site-packages\\sklearn\\neural_network\\multilayer_perceptron.py:562: ConvergenceWarning: Stochastic Optimizer: Maximum iterations (200) reached and the optimization hasn't converged yet.\n",
      "  % self.max_iter, ConvergenceWarning)\n",
      "C:\\Users\\lenovo\\Anaconda3\\lib\\site-packages\\sklearn\\neural_network\\multilayer_perceptron.py:562: ConvergenceWarning: Stochastic Optimizer: Maximum iterations (200) reached and the optimization hasn't converged yet.\n",
      "  % self.max_iter, ConvergenceWarning)\n",
      "C:\\Users\\lenovo\\Anaconda3\\lib\\site-packages\\sklearn\\neural_network\\multilayer_perceptron.py:562: ConvergenceWarning: Stochastic Optimizer: Maximum iterations (200) reached and the optimization hasn't converged yet.\n",
      "  % self.max_iter, ConvergenceWarning)\n",
      "C:\\Users\\lenovo\\Anaconda3\\lib\\site-packages\\sklearn\\neural_network\\multilayer_perceptron.py:562: ConvergenceWarning: Stochastic Optimizer: Maximum iterations (200) reached and the optimization hasn't converged yet.\n",
      "  % self.max_iter, ConvergenceWarning)\n",
      "C:\\Users\\lenovo\\Anaconda3\\lib\\site-packages\\sklearn\\neural_network\\multilayer_perceptron.py:562: ConvergenceWarning: Stochastic Optimizer: Maximum iterations (200) reached and the optimization hasn't converged yet.\n",
      "  % self.max_iter, ConvergenceWarning)\n",
      "C:\\Users\\lenovo\\Anaconda3\\lib\\site-packages\\sklearn\\neural_network\\multilayer_perceptron.py:562: ConvergenceWarning: Stochastic Optimizer: Maximum iterations (200) reached and the optimization hasn't converged yet.\n",
      "  % self.max_iter, ConvergenceWarning)\n",
      "C:\\Users\\lenovo\\Anaconda3\\lib\\site-packages\\sklearn\\neural_network\\multilayer_perceptron.py:562: ConvergenceWarning: Stochastic Optimizer: Maximum iterations (200) reached and the optimization hasn't converged yet.\n",
      "  % self.max_iter, ConvergenceWarning)\n",
      "C:\\Users\\lenovo\\Anaconda3\\lib\\site-packages\\sklearn\\neural_network\\multilayer_perceptron.py:562: ConvergenceWarning: Stochastic Optimizer: Maximum iterations (200) reached and the optimization hasn't converged yet.\n",
      "  % self.max_iter, ConvergenceWarning)\n",
      "C:\\Users\\lenovo\\Anaconda3\\lib\\site-packages\\sklearn\\neural_network\\multilayer_perceptron.py:562: ConvergenceWarning: Stochastic Optimizer: Maximum iterations (200) reached and the optimization hasn't converged yet.\n",
      "  % self.max_iter, ConvergenceWarning)\n",
      "C:\\Users\\lenovo\\Anaconda3\\lib\\site-packages\\sklearn\\neural_network\\multilayer_perceptron.py:562: ConvergenceWarning: Stochastic Optimizer: Maximum iterations (200) reached and the optimization hasn't converged yet.\n",
      "  % self.max_iter, ConvergenceWarning)\n",
      "C:\\Users\\lenovo\\Anaconda3\\lib\\site-packages\\sklearn\\neural_network\\multilayer_perceptron.py:562: ConvergenceWarning: Stochastic Optimizer: Maximum iterations (200) reached and the optimization hasn't converged yet.\n",
      "  % self.max_iter, ConvergenceWarning)\n",
      "C:\\Users\\lenovo\\Anaconda3\\lib\\site-packages\\sklearn\\neural_network\\multilayer_perceptron.py:562: ConvergenceWarning: Stochastic Optimizer: Maximum iterations (200) reached and the optimization hasn't converged yet.\n",
      "  % self.max_iter, ConvergenceWarning)\n",
      "C:\\Users\\lenovo\\Anaconda3\\lib\\site-packages\\sklearn\\neural_network\\multilayer_perceptron.py:562: ConvergenceWarning: Stochastic Optimizer: Maximum iterations (200) reached and the optimization hasn't converged yet.\n",
      "  % self.max_iter, ConvergenceWarning)\n"
     ]
    },
    {
     "name": "stderr",
     "output_type": "stream",
     "text": [
      "C:\\Users\\lenovo\\Anaconda3\\lib\\site-packages\\sklearn\\neural_network\\multilayer_perceptron.py:562: ConvergenceWarning: Stochastic Optimizer: Maximum iterations (200) reached and the optimization hasn't converged yet.\n",
      "  % self.max_iter, ConvergenceWarning)\n",
      "C:\\Users\\lenovo\\Anaconda3\\lib\\site-packages\\sklearn\\neural_network\\multilayer_perceptron.py:562: ConvergenceWarning: Stochastic Optimizer: Maximum iterations (200) reached and the optimization hasn't converged yet.\n",
      "  % self.max_iter, ConvergenceWarning)\n",
      "C:\\Users\\lenovo\\Anaconda3\\lib\\site-packages\\sklearn\\neural_network\\multilayer_perceptron.py:562: ConvergenceWarning: Stochastic Optimizer: Maximum iterations (200) reached and the optimization hasn't converged yet.\n",
      "  % self.max_iter, ConvergenceWarning)\n",
      "C:\\Users\\lenovo\\Anaconda3\\lib\\site-packages\\sklearn\\neural_network\\multilayer_perceptron.py:562: ConvergenceWarning: Stochastic Optimizer: Maximum iterations (200) reached and the optimization hasn't converged yet.\n",
      "  % self.max_iter, ConvergenceWarning)\n",
      "C:\\Users\\lenovo\\Anaconda3\\lib\\site-packages\\sklearn\\neural_network\\multilayer_perceptron.py:562: ConvergenceWarning: Stochastic Optimizer: Maximum iterations (200) reached and the optimization hasn't converged yet.\n",
      "  % self.max_iter, ConvergenceWarning)\n",
      "C:\\Users\\lenovo\\Anaconda3\\lib\\site-packages\\sklearn\\neural_network\\multilayer_perceptron.py:562: ConvergenceWarning: Stochastic Optimizer: Maximum iterations (200) reached and the optimization hasn't converged yet.\n",
      "  % self.max_iter, ConvergenceWarning)\n",
      "C:\\Users\\lenovo\\Anaconda3\\lib\\site-packages\\sklearn\\neural_network\\multilayer_perceptron.py:562: ConvergenceWarning: Stochastic Optimizer: Maximum iterations (200) reached and the optimization hasn't converged yet.\n",
      "  % self.max_iter, ConvergenceWarning)\n",
      "C:\\Users\\lenovo\\Anaconda3\\lib\\site-packages\\sklearn\\neural_network\\multilayer_perceptron.py:562: ConvergenceWarning: Stochastic Optimizer: Maximum iterations (200) reached and the optimization hasn't converged yet.\n",
      "  % self.max_iter, ConvergenceWarning)\n",
      "C:\\Users\\lenovo\\Anaconda3\\lib\\site-packages\\sklearn\\neural_network\\multilayer_perceptron.py:562: ConvergenceWarning: Stochastic Optimizer: Maximum iterations (200) reached and the optimization hasn't converged yet.\n",
      "  % self.max_iter, ConvergenceWarning)\n",
      "C:\\Users\\lenovo\\Anaconda3\\lib\\site-packages\\sklearn\\neural_network\\multilayer_perceptron.py:562: ConvergenceWarning: Stochastic Optimizer: Maximum iterations (200) reached and the optimization hasn't converged yet.\n",
      "  % self.max_iter, ConvergenceWarning)\n",
      "C:\\Users\\lenovo\\Anaconda3\\lib\\site-packages\\sklearn\\neural_network\\multilayer_perceptron.py:562: ConvergenceWarning: Stochastic Optimizer: Maximum iterations (200) reached and the optimization hasn't converged yet.\n",
      "  % self.max_iter, ConvergenceWarning)\n",
      "C:\\Users\\lenovo\\Anaconda3\\lib\\site-packages\\sklearn\\neural_network\\multilayer_perceptron.py:562: ConvergenceWarning: Stochastic Optimizer: Maximum iterations (200) reached and the optimization hasn't converged yet.\n",
      "  % self.max_iter, ConvergenceWarning)\n",
      "C:\\Users\\lenovo\\Anaconda3\\lib\\site-packages\\sklearn\\neural_network\\multilayer_perceptron.py:562: ConvergenceWarning: Stochastic Optimizer: Maximum iterations (200) reached and the optimization hasn't converged yet.\n",
      "  % self.max_iter, ConvergenceWarning)\n",
      "C:\\Users\\lenovo\\Anaconda3\\lib\\site-packages\\sklearn\\neural_network\\multilayer_perceptron.py:562: ConvergenceWarning: Stochastic Optimizer: Maximum iterations (200) reached and the optimization hasn't converged yet.\n",
      "  % self.max_iter, ConvergenceWarning)\n",
      "C:\\Users\\lenovo\\Anaconda3\\lib\\site-packages\\sklearn\\neural_network\\multilayer_perceptron.py:562: ConvergenceWarning: Stochastic Optimizer: Maximum iterations (200) reached and the optimization hasn't converged yet.\n",
      "  % self.max_iter, ConvergenceWarning)\n"
     ]
    },
    {
     "name": "stdout",
     "output_type": "stream",
     "text": [
      "{'mean_fit_time': array([  9.84149857,   7.51820941,  14.82748528,  22.28968329,\n",
      "        27.57749591,   9.93973584,  11.41748862,  33.70551586,\n",
      "        10.70738263,  22.24514561,  34.22118073,  56.95296102,\n",
      "        66.57806315,  21.08007216,  38.14102497,  74.89750595,\n",
      "        31.42924056,  61.28892341,  14.83964171,  31.39036655,\n",
      "        64.207762  , 137.18648047,  16.63372259,  32.48075871,\n",
      "       162.15169902,  36.15344257,  69.82184944]), 'std_fit_time': array([ 0.96078939,  1.0058856 ,  4.4660699 ,  6.97133989,  8.2149613 ,\n",
      "        1.97822792,  3.24515905,  8.91972694,  1.64081013,  3.46822367,\n",
      "        4.67632511,  3.70624843,  3.10640044,  4.5263266 ,  0.8538105 ,\n",
      "        8.48308849,  6.74610585, 10.46290729,  3.72719143,  8.79693932,\n",
      "       11.82683043, 26.23335281,  6.08663796, 10.16228515,  7.41886731,\n",
      "        7.96789671, 12.14788066]), 'mean_score_time': array([0.00837755, 0.01057181, 0.02672844, 0.05226064, 0.005583  ,\n",
      "       0.01017351, 0.03909554, 0.00658226, 0.01176825, 0.00438828,\n",
      "       0.00459061, 0.01507397, 0.02313762, 0.00418873, 0.00438795,\n",
      "       0.0211441 , 0.00578365, 0.00837646, 0.00458765, 0.01117067,\n",
      "       0.02952161, 0.08038468, 0.00558534, 0.0093751 , 0.09419951,\n",
      "       0.00659833, 0.01539721]), 'std_score_time': array([0.00784284, 0.00645123, 0.0017164 , 0.00491107, 0.00079773,\n",
      "       0.00336151, 0.00547667, 0.00048813, 0.00074614, 0.00079813,\n",
      "       0.00184824, 0.0026096 , 0.00116364, 0.00039866, 0.00048893,\n",
      "       0.00410767, 0.0023066 , 0.0039197 , 0.00079787, 0.00609621,\n",
      "       0.00474564, 0.014224  , 0.00048844, 0.00205333, 0.01476657,\n",
      "       0.00183999, 0.00463546]), 'param_activation': masked_array(data=['logistic', 'logistic', 'logistic', 'logistic',\n",
      "                   'logistic', 'logistic', 'logistic', 'logistic',\n",
      "                   'logistic', 'tanh', 'tanh', 'tanh', 'tanh', 'tanh',\n",
      "                   'tanh', 'tanh', 'tanh', 'tanh', 'relu', 'relu', 'relu',\n",
      "                   'relu', 'relu', 'relu', 'relu', 'relu', 'relu'],\n",
      "             mask=[False, False, False, False, False, False, False, False,\n",
      "                   False, False, False, False, False, False, False, False,\n",
      "                   False, False, False, False, False, False, False, False,\n",
      "                   False, False, False],\n",
      "       fill_value='?',\n",
      "            dtype=object), 'param_hidden_layer_sizes': masked_array(data=[(5, 5), (10, 10), (50, 50), (100, 100), (5, 5, 5),\n",
      "                   (10, 10, 10), (50, 50, 50), (5, 5, 5, 5),\n",
      "                   (10, 10, 10, 10), (5, 5), (10, 10), (50, 50),\n",
      "                   (100, 100), (5, 5, 5), (10, 10, 10), (50, 50, 50),\n",
      "                   (5, 5, 5, 5), (10, 10, 10, 10), (5, 5), (10, 10),\n",
      "                   (50, 50), (100, 100), (5, 5, 5), (10, 10, 10),\n",
      "                   (50, 50, 50), (5, 5, 5, 5), (10, 10, 10, 10)],\n",
      "             mask=[False, False, False, False, False, False, False, False,\n",
      "                   False, False, False, False, False, False, False, False,\n",
      "                   False, False, False, False, False, False, False, False,\n",
      "                   False, False, False],\n",
      "       fill_value='?',\n",
      "            dtype=object), 'params': [{'activation': 'logistic', 'hidden_layer_sizes': (5, 5)}, {'activation': 'logistic', 'hidden_layer_sizes': (10, 10)}, {'activation': 'logistic', 'hidden_layer_sizes': (50, 50)}, {'activation': 'logistic', 'hidden_layer_sizes': (100, 100)}, {'activation': 'logistic', 'hidden_layer_sizes': (5, 5, 5)}, {'activation': 'logistic', 'hidden_layer_sizes': (10, 10, 10)}, {'activation': 'logistic', 'hidden_layer_sizes': (50, 50, 50)}, {'activation': 'logistic', 'hidden_layer_sizes': (5, 5, 5, 5)}, {'activation': 'logistic', 'hidden_layer_sizes': (10, 10, 10, 10)}, {'activation': 'tanh', 'hidden_layer_sizes': (5, 5)}, {'activation': 'tanh', 'hidden_layer_sizes': (10, 10)}, {'activation': 'tanh', 'hidden_layer_sizes': (50, 50)}, {'activation': 'tanh', 'hidden_layer_sizes': (100, 100)}, {'activation': 'tanh', 'hidden_layer_sizes': (5, 5, 5)}, {'activation': 'tanh', 'hidden_layer_sizes': (10, 10, 10)}, {'activation': 'tanh', 'hidden_layer_sizes': (50, 50, 50)}, {'activation': 'tanh', 'hidden_layer_sizes': (5, 5, 5, 5)}, {'activation': 'tanh', 'hidden_layer_sizes': (10, 10, 10, 10)}, {'activation': 'relu', 'hidden_layer_sizes': (5, 5)}, {'activation': 'relu', 'hidden_layer_sizes': (10, 10)}, {'activation': 'relu', 'hidden_layer_sizes': (50, 50)}, {'activation': 'relu', 'hidden_layer_sizes': (100, 100)}, {'activation': 'relu', 'hidden_layer_sizes': (5, 5, 5)}, {'activation': 'relu', 'hidden_layer_sizes': (10, 10, 10)}, {'activation': 'relu', 'hidden_layer_sizes': (50, 50, 50)}, {'activation': 'relu', 'hidden_layer_sizes': (5, 5, 5, 5)}, {'activation': 'relu', 'hidden_layer_sizes': (10, 10, 10, 10)}], 'split0_test_score': array([0.85150606, 0.85272869, 0.8518395 , 0.85239524, 0.85650772,\n",
      "       0.85339558, 0.84961654, 0.8552851 , 0.85295098, 0.8550628 ,\n",
      "       0.85861954, 0.85050572, 0.84383683, 0.85439591, 0.85606313,\n",
      "       0.84439258, 0.85684117, 0.8550628 , 0.85461821, 0.85539624,\n",
      "       0.85239524, 0.83994665, 0.85750806, 0.85595198, 0.85083917,\n",
      "       0.85561854, 0.85650772]), 'split1_test_score': array([0.85728576, 0.85873069, 0.85895298, 0.85861954, 0.85984217,\n",
      "       0.85928643, 0.85873069, 0.85973102, 0.85817495, 0.86017561,\n",
      "       0.86006447, 0.85395132, 0.84872735, 0.85939758, 0.86117595,\n",
      "       0.85083917, 0.85928643, 0.85984217, 0.85795265, 0.86073135,\n",
      "       0.85539624, 0.84383683, 0.85739691, 0.85795265, 0.84505946,\n",
      "       0.85928643, 0.86073135]), 'split2_test_score': array([0.85339558, 0.8518395 , 0.85361787, 0.85039458, 0.85395132,\n",
      "       0.85195065, 0.85295098, 0.85117261, 0.85139491, 0.85339558,\n",
      "       0.85750806, 0.8490608 , 0.8460598 , 0.85428476, 0.8548405 ,\n",
      "       0.84794932, 0.85350672, 0.8552851 , 0.85428476, 0.85550739,\n",
      "       0.85083917, 0.84139157, 0.85339558, 0.85517395, 0.84328109,\n",
      "       0.85417361, 0.85495165]), 'split3_test_score': array([0.85715874, 0.8567141 , 0.85693642, 0.85682526, 0.861494  ,\n",
      "       0.85738106, 0.85749222, 0.86127168, 0.85660293, 0.86116052,\n",
      "       0.86327257, 0.85493553, 0.85148955, 0.86004891, 0.86371721,\n",
      "       0.85249   , 0.85993775, 0.86227212, 0.86016007, 0.86116052,\n",
      "       0.85660293, 0.84804357, 0.86282792, 0.86171632, 0.84759893,\n",
      "       0.86182748, 0.86127168]), 'split4_test_score': array([0.85682526, 0.85571365, 0.85815918, 0.85715874, 0.85738106,\n",
      "       0.8572699 , 0.85649177, 0.85815918, 0.85827034, 0.8583815 ,\n",
      "       0.85827034, 0.85293464, 0.85215651, 0.85682526, 0.85693642,\n",
      "       0.85326812, 0.8572699 , 0.85915963, 0.85882614, 0.8578257 ,\n",
      "       0.85560249, 0.84715429, 0.85938195, 0.8572699 , 0.84470876,\n",
      "       0.85960427, 0.85649177]), 'mean_test_score': array([0.8552342 , 0.85514528, 0.85590112, 0.85507859, 0.85783518,\n",
      "       0.85585666, 0.85505635, 0.8571238 , 0.85547874, 0.85763511,\n",
      "       0.85954694, 0.85227753, 0.84845386, 0.85699042, 0.85854656,\n",
      "       0.8497877 , 0.85736834, 0.85832426, 0.85716826, 0.85812418,\n",
      "       0.85416713, 0.84407443, 0.85810195, 0.85761288, 0.84629749,\n",
      "       0.85810195, 0.8579908 ]), 'std_test_score': array([0.00235475, 0.00254592, 0.00272747, 0.00313234, 0.00262556,\n",
      "       0.00273494, 0.00333228, 0.00357415, 0.00280693, 0.00296751,\n",
      "       0.00203932, 0.00218106, 0.0031638 , 0.00241778, 0.00335092,\n",
      "       0.00325603, 0.00225748, 0.00277348, 0.00232946, 0.00246558,\n",
      "       0.00217804, 0.00314744, 0.00306504, 0.00227057, 0.00266372,\n",
      "       0.00279781, 0.00252815]), 'rank_test_score': array([18, 19, 15, 20,  8, 16, 21, 13, 17,  9,  1, 23, 25, 14,  2, 24, 11,\n",
      "        3, 12,  4, 22, 27,  5, 10, 26,  5,  7]), 'split0_train_score': array([0.85652754, 0.85630523, 0.85597177, 0.85683321, 0.86055688,\n",
      "       0.85630523, 0.85494359, 0.86175179, 0.85647196, 0.86036236,\n",
      "       0.86400267, 0.87961985, 0.89429222, 0.86177958, 0.86614239,\n",
      "       0.89518146, 0.86194631, 0.86622575, 0.85938976, 0.8629467 ,\n",
      "       0.87620186, 0.90090591, 0.86169622, 0.86152948, 0.89554271,\n",
      "       0.86122381, 0.86430834]), 'split1_train_score': array([0.85586061, 0.8551659 , 0.85522148, 0.85452676, 0.8607514 ,\n",
      "       0.85561052, 0.85577725, 0.8600289 , 0.85397099, 0.86025121,\n",
      "       0.86386372, 0.87823042, 0.88995721, 0.86139054, 0.86572556,\n",
      "       0.89198577, 0.86155727, 0.86558662, 0.86094592, 0.86252987,\n",
      "       0.8799811 , 0.90054466, 0.85688879, 0.86069583, 0.89298616,\n",
      "       0.86127939, 0.86283555]), 'split2_train_score': array([0.85725004, 0.8571111 , 0.85705552, 0.85775024, 0.86050131,\n",
      "       0.85688879, 0.8575835 , 0.85775024, 0.85794476, 0.85913967,\n",
      "       0.86450286, 0.88087034, 0.8945979 , 0.86161285, 0.86614239,\n",
      "       0.89604291, 0.86119602, 0.86642027, 0.86050131, 0.86361363,\n",
      "       0.87959206, 0.90243428, 0.86183516, 0.86358584, 0.89454232,\n",
      "       0.86086256, 0.86566998]), 'split3_train_score': array([0.85536444, 0.85508656, 0.8556701 , 0.85580904, 0.85997721,\n",
      "       0.85547559, 0.85536444, 0.85931031, 0.85589241, 0.86103315,\n",
      "       0.86375636, 0.87856726, 0.89051602, 0.8597827 , 0.86500681,\n",
      "       0.89332259, 0.86053297, 0.86447884, 0.85881013, 0.85939367,\n",
      "       0.88090144, 0.90085309, 0.86245033, 0.8638953 , 0.89451746,\n",
      "       0.85897685, 0.86378414]), 'split4_train_score': array([0.85594798, 0.8545308 , 0.85580904, 0.85586462, 0.85592019,\n",
      "       0.8556701 , 0.85514213, 0.85917137, 0.85611471, 0.86164448,\n",
      "       0.86283936, 0.8791508 , 0.89148859, 0.86067191, 0.86484008,\n",
      "       0.89332259, 0.86197794, 0.86453442, 0.86006058, 0.86311724,\n",
      "       0.88065135, 0.90068636, 0.86075527, 0.86339511, 0.89601801,\n",
      "       0.85983827, 0.86420096]), 'mean_train_score': array([0.85619012, 0.85563992, 0.85594558, 0.85615677, 0.8595414 ,\n",
      "       0.85599005, 0.85576218, 0.85960252, 0.85607896, 0.86048617,\n",
      "       0.86379299, 0.87928774, 0.89217039, 0.86104752, 0.86557145,\n",
      "       0.89397106, 0.8614421 , 0.86544918, 0.85994154, 0.86232022,\n",
      "       0.87946556, 0.90108486, 0.86072515, 0.86262031, 0.89472133,\n",
      "       0.86043618, 0.8641598 ]), 'std_train_score': array([0.00064595, 0.00093467, 0.00060853, 0.00108258, 0.00182865,\n",
      "       0.00053257, 0.00095186, 0.0013041 , 0.00127399, 0.00083958,\n",
      "       0.00054104, 0.00092419, 0.00192328, 0.00073675, 0.00055307,\n",
      "       0.0014519 , 0.00053697, 0.00081772, 0.00076431, 0.00150395,\n",
      "       0.00169714, 0.00068663, 0.00199348, 0.00126899, 0.00104312,\n",
      "       0.00089446, 0.00091642])}\n",
      "{'activation': 'tanh', 'hidden_layer_sizes': (10, 10)}\n"
     ]
    },
    {
     "name": "stderr",
     "output_type": "stream",
     "text": [
      "C:\\Users\\lenovo\\Anaconda3\\lib\\site-packages\\sklearn\\neural_network\\multilayer_perceptron.py:562: ConvergenceWarning: Stochastic Optimizer: Maximum iterations (200) reached and the optimization hasn't converged yet.\n",
      "  % self.max_iter, ConvergenceWarning)\n"
     ]
    }
   ],
   "source": [
    "mlp = MLPClassifier(random_state=1)\n",
    "\n",
    "param_grid3 = {\"hidden_layer_sizes\" : [(5,5), (10,10), (50,50),(100,100), (5,5,5),(10,10,10),(50,50,50), (5,5,5,5),(10,10,10,10)],\n",
    "              \"activation\" :   [\"logistic\", \"tanh\",'relu'],\n",
    "             }\n",
    "\n",
    "grid_search4 = GridSearchCV(mlp, param_grid=param_grid3, scoring='accuracy', cv=5, return_train_score = True)\n",
    "grid_search4.fit(x_train_nor, Y_train.ravel()) \n",
    "\n",
    "print(grid_search4.cv_results_) \n",
    "print(grid_search4.best_params_)"
   ]
  },
  {
   "cell_type": "code",
   "execution_count": 78,
   "metadata": {
    "scrolled": true
   },
   "outputs": [
    {
     "name": "stdout",
     "output_type": "stream",
     "text": [
      "0.0020393200357380127\n"
     ]
    }
   ],
   "source": [
    "print(grid_search4.cv_results_['std_test_score'][grid_search4.best_index_])"
   ]
  },
  {
   "cell_type": "code",
   "execution_count": 79,
   "metadata": {},
   "outputs": [
    {
     "name": "stderr",
     "output_type": "stream",
     "text": [
      "C:\\Users\\lenovo\\Anaconda3\\lib\\site-packages\\sklearn\\neural_network\\multilayer_perceptron.py:562: ConvergenceWarning: Stochastic Optimizer: Maximum iterations (200) reached and the optimization hasn't converged yet.\n",
      "  % self.max_iter, ConvergenceWarning)\n"
     ]
    }
   ],
   "source": [
    "Neural_network = grid_search4.best_estimator_.fit(x_train_nor, Y_train)\n",
    "\n",
    "y_hat5 = Neural_network.predict(x_test_nor)"
   ]
  },
  {
   "cell_type": "code",
   "execution_count": 80,
   "metadata": {},
   "outputs": [
    {
     "data": {
      "text/plain": [
       "0.8570983972197728"
      ]
     },
     "execution_count": 80,
     "metadata": {},
     "output_type": "execute_result"
    }
   ],
   "source": [
    "Neural_network_score = Neural_network.score(x_test_nor, Y_test)\n",
    "Neural_network_score"
   ]
  },
  {
   "cell_type": "code",
   "execution_count": 81,
   "metadata": {},
   "outputs": [
    {
     "data": {
      "text/plain": [
       "array([[9160,  631],\n",
       "       [2124, 7364]], dtype=int64)"
      ]
     },
     "execution_count": 81,
     "metadata": {},
     "output_type": "execute_result"
    }
   ],
   "source": [
    "confusion_nn = confusion_matrix(Y_test, y_hat5)\n",
    "confusion_nn"
   ]
  },
  {
   "cell_type": "code",
   "execution_count": 82,
   "metadata": {},
   "outputs": [
    {
     "data": {
      "image/png": "[encoded data removed]",
      "text/plain": [
       "<Figure size 432x288 with 2 Axes>"
      ]
     },
     "metadata": {},
     "output_type": "display_data"
    }
   ],
   "source": [
    "columns = ['0', '1']\n",
    "\n",
    "plt.imshow(confusion_nn, cmap=plt.cm.Blues, interpolation='nearest')\n",
    "plt.xticks([0,1,], columns, rotation='vertical')\n",
    "plt.yticks([0,1,], columns)\n",
    "plt.colorbar()\n",
    "\n",
    "plt.show()"
   ]
  },
  {
   "cell_type": "code",
   "execution_count": 83,
   "metadata": {},
   "outputs": [
    {
     "name": "stdout",
     "output_type": "stream",
     "text": [
      "              precision    recall  f1-score   support\n",
      "\n",
      "           0       0.81      0.94      0.87      9791\n",
      "           1       0.92      0.78      0.84      9488\n",
      "\n",
      "   micro avg       0.86      0.86      0.86     19279\n",
      "   macro avg       0.87      0.86      0.86     19279\n",
      "weighted avg       0.87      0.86      0.86     19279\n",
      "\n"
     ]
    }
   ],
   "source": [
    "print(classification_report(Y_test, y_hat5))"
   ]
  },
  {
   "cell_type": "markdown",
   "metadata": {},
   "source": [
    "**Comment:** As expected, Neural Network achieved the best score right now (even though it is a small improvement over Logistic Regression.)"
   ]
  },
  {
   "cell_type": "markdown",
   "metadata": {},
   "source": [
    "### (8) Support Vector Machine"
   ]
  },
  {
   "cell_type": "markdown",
   "metadata": {},
   "source": [
    "**Characteristic:** SVM constructs a hyperplane or a set of hyperplanes which separate the nearest data points of different classes by the largest distance. SVM should be a good model in our problem. It is a very powerful model when the classes are gathered together, which can not be dealt with well by Logistic Regression. Disadvantages of SVM are that it also computes very slowly and choosing a good C is not very easy."
   ]
  },
  {
   "cell_type": "code",
   "execution_count": 158,
   "metadata": {},
   "outputs": [],
   "source": [
    "from sklearn.svm import SVC"
   ]
  },
  {
   "cell_type": "code",
   "execution_count": 159,
   "metadata": {},
   "outputs": [
    {
     "name": "stdout",
     "output_type": "stream",
     "text": [
      "{'mean_fit_time': array([103.89137626, 405.8483748 , 165.81411719, 538.34915586]), 'std_fit_time': array([ 5.4399534 ,  7.28599174,  3.06421756, 80.36534061]), 'mean_score_time': array([11.59124956, 17.79851532, 12.77642345, 17.02606349]), 'std_score_time': array([1.00364056, 0.40918171, 0.76627583, 2.87016245]), 'param_C': masked_array(data=[1, 1, 10, 10],\n",
      "             mask=[False, False, False, False],\n",
      "       fill_value='?',\n",
      "            dtype=object), 'param_gamma': masked_array(data=[0.1, 1, 0.1, 1],\n",
      "             mask=[False, False, False, False],\n",
      "       fill_value='?',\n",
      "            dtype=object), 'params': [{'C': 1, 'gamma': 0.1}, {'C': 1, 'gamma': 1}, {'C': 10, 'gamma': 0.1}, {'C': 10, 'gamma': 1}], 'split0_test_score': array([0.84861621, 0.85061687, 0.85328443, 0.84739358]), 'split1_test_score': array([0.85161721, 0.85395132, 0.85706347, 0.85017228]), 'split2_test_score': array([0.85250639, 0.84717128, 0.85550739, 0.84216961]), 'split3_test_score': array([0.85426856, 0.85371276, 0.86038239, 0.8499333 ]), 'split4_test_score': array([0.85271232, 0.85126723, 0.85749222, 0.84948866]), 'mean_test_score': array([0.85194407, 0.85134384, 0.85674588, 0.8478314 ]), 'std_test_score': array([0.00187036, 0.00246398, 0.00234082, 0.00299643]), 'rank_test_score': array([2, 3, 1, 4]), 'split0_train_score': array([0.85538821, 0.88084255, 0.86558662, 0.89056855]), 'split1_train_score': array([0.85355416, 0.88081476, 0.86386372, 0.88981826]), 'split2_train_score': array([0.85555494, 0.88253765, 0.86689268, 0.89184683]), 'split3_train_score': array([0.85383611, 0.88051241, 0.86458999, 0.89015478]), 'split4_train_score': array([0.85458638, 0.88056798, 0.86442326, 0.8900992 ]), 'mean_train_score': array([0.85458396, 0.88105507, 0.86507126, 0.89049753]), 'std_train_score': array([0.00080117, 0.00075269, 0.00106704, 0.00071599])}\n",
      "{'C': 10, 'gamma': 0.1}\n"
     ]
    }
   ],
   "source": [
    "svm= SVC(kernel = \"rbf\", decision_function_shape = 'ovo')\n",
    "\n",
    "param_grid4 = {\"C\":[1, 10],\n",
    "               \"gamma\" : [0.1, 1],\n",
    "             }\n",
    "\n",
    "grid_search5 = GridSearchCV(svm, param_grid=param_grid4, scoring='accuracy', cv=5, return_train_score = True)\n",
    "grid_search5.fit(x_train_nor, Y_train.ravel()) \n",
    "\n",
    "print(grid_search5.cv_results_) \n",
    "print(grid_search5.best_params_)"
   ]
  },
  {
   "cell_type": "code",
   "execution_count": 160,
   "metadata": {},
   "outputs": [
    {
     "name": "stdout",
     "output_type": "stream",
     "text": [
      "0.0023408243142532398\n"
     ]
    }
   ],
   "source": [
    "print(grid_search5.cv_results_['std_test_score'][grid_search5.best_index_])"
   ]
  },
  {
   "cell_type": "code",
   "execution_count": 161,
   "metadata": {},
   "outputs": [],
   "source": [
    "SVM= grid_search5.best_estimator_.fit(x_train_nor, Y_train)\n",
    "\n",
    "y_hat6 = SVM.predict(x_test_nor)"
   ]
  },
  {
   "cell_type": "code",
   "execution_count": 162,
   "metadata": {},
   "outputs": [
    {
     "data": {
      "text/plain": [
       "0.8556979096426163"
      ]
     },
     "execution_count": 162,
     "metadata": {},
     "output_type": "execute_result"
    }
   ],
   "source": [
    "svm_score = SVM.score(x_test_nor, Y_test)\n",
    "svm_score"
   ]
  },
  {
   "cell_type": "code",
   "execution_count": 163,
   "metadata": {},
   "outputs": [
    {
     "data": {
      "text/plain": [
       "array([[9395,  396],\n",
       "       [2386, 7102]], dtype=int64)"
      ]
     },
     "execution_count": 163,
     "metadata": {},
     "output_type": "execute_result"
    }
   ],
   "source": [
    "confusion_svm = confusion_matrix(Y_test, y_hat6)\n",
    "confusion_svm"
   ]
  },
  {
   "cell_type": "code",
   "execution_count": 164,
   "metadata": {},
   "outputs": [
    {
     "data": {
      "image/png": "[encoded data removed]",
      "text/plain": [
       "<Figure size 432x288 with 2 Axes>"
      ]
     },
     "metadata": {},
     "output_type": "display_data"
    }
   ],
   "source": [
    "columns = ['0', '1']\n",
    "\n",
    "plt.imshow(confusion_svm, cmap=plt.cm.Blues, interpolation='nearest')\n",
    "plt.xticks([0,1,], columns, rotation='vertical')\n",
    "plt.yticks([0,1,], columns)\n",
    "plt.colorbar()\n",
    "\n",
    "plt.show()"
   ]
  },
  {
   "cell_type": "code",
   "execution_count": 165,
   "metadata": {},
   "outputs": [
    {
     "name": "stdout",
     "output_type": "stream",
     "text": [
      "              precision    recall  f1-score   support\n",
      "\n",
      "           0       0.80      0.96      0.87      9791\n",
      "           1       0.95      0.75      0.84      9488\n",
      "\n",
      "   micro avg       0.86      0.86      0.86     19279\n",
      "   macro avg       0.87      0.85      0.85     19279\n",
      "weighted avg       0.87      0.86      0.85     19279\n",
      "\n"
     ]
    }
   ],
   "source": [
    "print(classification_report(Y_test, y_hat6))"
   ]
  },
  {
   "cell_type": "markdown",
   "metadata": {},
   "source": [
    "**Comment:** Again, through tuning parameters, we achieved good scores by SVM. It is very close to Random Forest and Logistic Regression. We have not tested different gamma for rbf function (it took a very long time to run SVM algorithms). Improvement can be achieved through more parameters tuning."
   ]
  },
  {
   "cell_type": "markdown",
   "metadata": {},
   "source": [
    "### (9) Naive Bayes"
   ]
  },
  {
   "cell_type": "markdown",
   "metadata": {},
   "source": [
    "**Characteristic:** For the comparison purpose, we also tried Naive Bayes Model. NB makes very strong assumption that the presence of a particular feature in a class is unrelated to the presence of any other features. However, in the real world, features are usually correlated with each other. A good thing about NB is that it computes very fast."
   ]
  },
  {
   "cell_type": "code",
   "execution_count": 166,
   "metadata": {},
   "outputs": [],
   "source": [
    "from sklearn.naive_bayes import MultinomialNB\n",
    "NB = MultinomialNB()"
   ]
  },
  {
   "cell_type": "code",
   "execution_count": 167,
   "metadata": {},
   "outputs": [
    {
     "name": "stdout",
     "output_type": "stream",
     "text": [
      "{'mean_fit_time': array([0.06924143, 0.05167284, 0.03825941, 0.04080372]), 'std_fit_time': array([0.05970467, 0.01372595, 0.00433848, 0.0046881 ]), 'mean_score_time': array([0.00732641, 0.00576262, 0.00331841, 0.00391426]), 'std_score_time': array([0.00573644, 0.00228517, 0.00047822, 0.00061766]), 'param_alpha': masked_array(data=[0.05, 0.1, 0.2, 0.5],\n",
      "             mask=[False, False, False, False],\n",
      "       fill_value='?',\n",
      "            dtype=object), 'params': [{'alpha': 0.05}, {'alpha': 0.1}, {'alpha': 0.2}, {'alpha': 0.5}], 'split0_test_score': array([0.8158275, 0.8158275, 0.8158275, 0.8158275]), 'split1_test_score': array([0.82416361, 0.82416361, 0.82416361, 0.82416361]), 'split2_test_score': array([0.81193731, 0.81193731, 0.81193731, 0.81193731]), 'split3_test_score': array([0.82125389, 0.82125389, 0.82125389, 0.82136505]), 'split4_test_score': array([0.81691863, 0.81691863, 0.81680747, 0.81669631]), 'mean_test_score': array([0.81802014, 0.81802014, 0.81799791, 0.81799791]), 'std_test_score': array([0.00427139, 0.00427139, 0.00427735, 0.00430097]), 'rank_test_score': array([1, 1, 3, 3]), 'split0_train_score': array([0.81851275, 0.81851275, 0.81851275, 0.81848497]), 'split1_train_score': array([0.81795698, 0.81795698, 0.81795698, 0.81790141]), 'split2_train_score': array([0.81809593, 0.81809593, 0.81809593, 0.81806814]), 'split3_train_score': array([0.81665601, 0.81662823, 0.81662823, 0.81662823]), 'split4_train_score': array([0.81940701, 0.81940701, 0.81940701, 0.81937922]), 'mean_train_score': array([0.81812574, 0.81812018, 0.81812018, 0.81809239]), 'std_train_score': array([0.00089229, 0.00090146, 0.00090146, 0.00089341])}\n",
      "{'alpha': 0.05}\n"
     ]
    }
   ],
   "source": [
    "param_grid5 = {\"alpha\" : [0.05, 0.1, 0.2, 0.5], \n",
    "             }\n",
    "\n",
    "grid_search6 = GridSearchCV(NB, param_grid=param_grid5, scoring='accuracy', cv=5, return_train_score = True)\n",
    "grid_search6.fit(x_train_nor, Y_train.ravel()) \n",
    "\n",
    "print(grid_search6.cv_results_) \n",
    "print(grid_search6.best_params_)"
   ]
  },
  {
   "cell_type": "code",
   "execution_count": 168,
   "metadata": {},
   "outputs": [
    {
     "name": "stdout",
     "output_type": "stream",
     "text": [
      "0.004271391329756277\n"
     ]
    }
   ],
   "source": [
    "print(grid_search6.cv_results_['std_test_score'][grid_search6.best_index_])"
   ]
  },
  {
   "cell_type": "code",
   "execution_count": 169,
   "metadata": {},
   "outputs": [],
   "source": [
    "Native_B = grid_search6.best_estimator_.fit(x_train_nor, Y_train)\n",
    "\n",
    "y_hat7 =Native_B.predict(x_test_nor)"
   ]
  },
  {
   "cell_type": "code",
   "execution_count": 170,
   "metadata": {},
   "outputs": [
    {
     "data": {
      "text/plain": [
       "0.8162249079309093"
      ]
     },
     "execution_count": 170,
     "metadata": {},
     "output_type": "execute_result"
    }
   ],
   "source": [
    "NB_score =Native_B.score(x_test_nor, Y_test)\n",
    "NB_score"
   ]
  },
  {
   "cell_type": "code",
   "execution_count": 171,
   "metadata": {},
   "outputs": [
    {
     "data": {
      "text/plain": [
       "array([[8325, 1466],\n",
       "       [2077, 7411]], dtype=int64)"
      ]
     },
     "execution_count": 171,
     "metadata": {},
     "output_type": "execute_result"
    }
   ],
   "source": [
    "confusion_NB = confusion_matrix(Y_test, y_hat7)\n",
    "confusion_NB"
   ]
  },
  {
   "cell_type": "code",
   "execution_count": 172,
   "metadata": {},
   "outputs": [
    {
     "data": {
      "image/png": "[encoded data removed]",
      "text/plain": [
       "<Figure size 432x288 with 2 Axes>"
      ]
     },
     "metadata": {},
     "output_type": "display_data"
    }
   ],
   "source": [
    "columns = ['0', '1']\n",
    "\n",
    "plt.imshow(confusion_NB, cmap=plt.cm.Blues, interpolation='nearest')\n",
    "plt.xticks([0,1,], columns, rotation='vertical')\n",
    "plt.yticks([0,1,], columns)\n",
    "plt.colorbar()\n",
    "\n",
    "plt.show()"
   ]
  },
  {
   "cell_type": "code",
   "execution_count": 173,
   "metadata": {},
   "outputs": [
    {
     "name": "stdout",
     "output_type": "stream",
     "text": [
      "              precision    recall  f1-score   support\n",
      "\n",
      "           0       0.80      0.85      0.82      9791\n",
      "           1       0.83      0.78      0.81      9488\n",
      "\n",
      "   micro avg       0.82      0.82      0.82     19279\n",
      "   macro avg       0.82      0.82      0.82     19279\n",
      "weighted avg       0.82      0.82      0.82     19279\n",
      "\n"
     ]
    }
   ],
   "source": [
    "print(classification_report(Y_test, y_hat7))"
   ]
  },
  {
   "cell_type": "markdown",
   "metadata": {},
   "source": [
    "**Comment:** As expected, Naive Bayes did not achieve good scores since its assumption is very strong. "
   ]
  },
  {
   "cell_type": "markdown",
   "metadata": {},
   "source": [
    "## 5. Evaluate the models and Future Improvement"
   ]
  },
  {
   "cell_type": "markdown",
   "metadata": {},
   "source": [
    "We are now reaching the end of this project. Let's first examine the results got from all the models:"
   ]
  },
  {
   "cell_type": "markdown",
   "metadata": {},
   "source": [
    "### (1) Comparing all the models"
   ]
  },
  {
   "cell_type": "code",
   "execution_count": 174,
   "metadata": {},
   "outputs": [
    {
     "data": {
      "text/html": [
       "<div>\n",
       "<style scoped>\n",
       "    .dataframe tbody tr th:only-of-type {\n",
       "        vertical-align: middle;\n",
       "    }\n",
       "\n",
       "    .dataframe tbody tr th {\n",
       "        vertical-align: top;\n",
       "    }\n",
       "\n",
       "    .dataframe thead th {\n",
       "        text-align: right;\n",
       "    }\n",
       "</style>\n",
       "<table border=\"1\" class=\"dataframe\">\n",
       "  <thead>\n",
       "    <tr style=\"text-align: right;\">\n",
       "      <th></th>\n",
       "      <th>Classifier</th>\n",
       "      <th>Scores</th>\n",
       "    </tr>\n",
       "  </thead>\n",
       "  <tbody>\n",
       "    <tr>\n",
       "      <th>0</th>\n",
       "      <td>Logistic Regeression</td>\n",
       "      <td>0.853001</td>\n",
       "    </tr>\n",
       "    <tr>\n",
       "      <th>1</th>\n",
       "      <td>KNN</td>\n",
       "      <td>0.813320</td>\n",
       "    </tr>\n",
       "    <tr>\n",
       "      <th>2</th>\n",
       "      <td>Random Forest</td>\n",
       "      <td>0.857928</td>\n",
       "    </tr>\n",
       "    <tr>\n",
       "      <th>3</th>\n",
       "      <td>Decision Tree</td>\n",
       "      <td>0.826080</td>\n",
       "    </tr>\n",
       "    <tr>\n",
       "      <th>4</th>\n",
       "      <td>SVM</td>\n",
       "      <td>0.855698</td>\n",
       "    </tr>\n",
       "    <tr>\n",
       "      <th>5</th>\n",
       "      <td>Naive Bayes</td>\n",
       "      <td>0.816225</td>\n",
       "    </tr>\n",
       "  </tbody>\n",
       "</table>\n",
       "</div>"
      ],
      "text/plain": [
       "             Classifier    Scores\n",
       "0  Logistic Regeression  0.853001\n",
       "1                   KNN  0.813320\n",
       "2         Random Forest  0.857928\n",
       "3         Decision Tree  0.826080\n",
       "4                   SVM  0.855698\n",
       "5           Naive Bayes  0.816225"
      ]
     },
     "execution_count": 174,
     "metadata": {},
     "output_type": "execute_result"
    }
   ],
   "source": [
    "models = { }\n",
    "models['Classifier'] = ['Logistic Regeression','KNN','Random Forest', 'Decision Tree', 'SVM', 'Naive Bayes']\n",
    "models['Scores'] = [Logistic_Regression_score, KNN_score, Random_forest_score, Decision_tree_score,  svm_score, NB_score]\n",
    "results = pd.DataFrame(models)\n",
    "results"
   ]
  },
  {
   "cell_type": "markdown",
   "metadata": {},
   "source": [
    "### (2) Fairness metric"
   ]
  },
  {
   "cell_type": "code",
   "execution_count": 198,
   "metadata": {},
   "outputs": [
    {
     "data": {
      "text/plain": [
       "1.0    25280\n",
       "0.0    19703\n",
       "dtype: int64"
      ]
     },
     "execution_count": 198,
     "metadata": {},
     "output_type": "execute_result"
    }
   ],
   "source": [
    "x_train_nor[: , 31]\n",
    "count_number = pd.value_counts(pd.Series(x_train_nor[: , 31]))\n",
    "count_number"
   ]
  },
  {
   "cell_type": "code",
   "execution_count": null,
   "metadata": {},
   "outputs": [],
   "source": [
    "x_train_nor, Y_train\n",
    "x_test_nor, Y_test"
   ]
  },
  {
   "cell_type": "code",
   "execution_count": 203,
   "metadata": {},
   "outputs": [
    {
     "data": {
      "text/plain": [
       "(19703, 55)"
      ]
     },
     "execution_count": 203,
     "metadata": {},
     "output_type": "execute_result"
    }
   ],
   "source": [
    "x_train_white = x_train_nor[np.where(x_train_nor[:,31] == 1)]\n",
    "x_train_black = x_train_nor[np.where(x_train_nor[:,31] == 0)]\n",
    "x_train_black.shape"
   ]
  },
  {
   "cell_type": "code",
   "execution_count": 213,
   "metadata": {},
   "outputs": [
    {
     "data": {
      "text/plain": [
       "(44983, 56)"
      ]
     },
     "execution_count": 213,
     "metadata": {},
     "output_type": "execute_result"
    }
   ],
   "source": [
    "train_all = np.column_stack((x_train_nor,Y_train))\n",
    "train_all.shape"
   ]
  },
  {
   "cell_type": "code",
   "execution_count": 214,
   "metadata": {},
   "outputs": [
    {
     "data": {
      "text/plain": [
       "(19279, 56)"
      ]
     },
     "execution_count": 214,
     "metadata": {},
     "output_type": "execute_result"
    }
   ],
   "source": [
    "test_all = np.column_stack((x_test_nor,Y_test))\n",
    "test_all.shape"
   ]
  },
  {
   "cell_type": "code",
   "execution_count": 220,
   "metadata": {},
   "outputs": [
    {
     "data": {
      "text/plain": [
       "(19703,)"
      ]
     },
     "execution_count": 220,
     "metadata": {},
     "output_type": "execute_result"
    }
   ],
   "source": [
    "Y_train_white = train_all[np.where(train_all[:, 31] == 1)]\n",
    "Y_train_white = Y_train_white[:, -1]\n",
    "Y_train_black = train_all[np.where(train_all[:, 31] == 0)]\n",
    "Y_train_black = Y_train_black[:, -1]\n",
    "Y_train_black.shape"
   ]
  },
  {
   "cell_type": "code",
   "execution_count": 221,
   "metadata": {},
   "outputs": [
    {
     "data": {
      "text/plain": [
       "(8571,)"
      ]
     },
     "execution_count": 221,
     "metadata": {},
     "output_type": "execute_result"
    }
   ],
   "source": [
    "Y_test_white = test_all[np.where(test_all[:, 31] == 1)]\n",
    "Y_test_white = Y_test_white[:, -1]\n",
    "Y_test_black = test_all[np.where(test_all[:, 31] == 0)]\n",
    "Y_test_black = Y_test_black[:, -1]\n",
    "Y_test_black.shape"
   ]
  },
  {
   "cell_type": "code",
   "execution_count": 216,
   "metadata": {},
   "outputs": [
    {
     "data": {
      "text/plain": [
       "(8571, 55)"
      ]
     },
     "execution_count": 216,
     "metadata": {},
     "output_type": "execute_result"
    }
   ],
   "source": [
    "x_test_white = x_test_nor[np.where(x_test_nor[:,31] == 1)]\n",
    "x_test_black = x_test_nor[np.where(x_test_nor[:,31] == 0)]\n",
    "x_test_black.shape"
   ]
  },
  {
   "cell_type": "code",
   "execution_count": 215,
   "metadata": {},
   "outputs": [
    {
     "data": {
      "text/plain": [
       "1.0    10708\n",
       "0.0     8571\n",
       "dtype: int64"
      ]
     },
     "execution_count": 215,
     "metadata": {},
     "output_type": "execute_result"
    }
   ],
   "source": [
    "count_number = pd.value_counts(pd.Series(x_test_nor[: , 31]))\n",
    "count_number"
   ]
  },
  {
   "cell_type": "code",
   "execution_count": 243,
   "metadata": {},
   "outputs": [
    {
     "data": {
      "text/plain": [
       "(8571,)"
      ]
     },
     "execution_count": 243,
     "metadata": {},
     "output_type": "execute_result"
    }
   ],
   "source": [
    "logis_y_black.shape"
   ]
  },
  {
   "cell_type": "markdown",
   "metadata": {},
   "source": [
    "## Fairness Metric: Statistical Parity"
   ]
  },
  {
   "cell_type": "code",
   "execution_count": 196,
   "metadata": {},
   "outputs": [
    {
     "data": {
      "text/plain": [
       "LogisticRegression(C=10, class_weight=None, dual=False, fit_intercept=True,\n",
       "          intercept_scaling=1, max_iter=1000, multi_class='ovr',\n",
       "          n_jobs=None, penalty='l2', random_state=0, solver='saga',\n",
       "          tol=0.0001, verbose=0, warm_start=False)"
      ]
     },
     "execution_count": 196,
     "metadata": {},
     "output_type": "execute_result"
    }
   ],
   "source": [
    "Logistic_Reg"
   ]
  },
  {
   "cell_type": "code",
   "execution_count": 244,
   "metadata": {},
   "outputs": [
    {
     "data": {
      "text/plain": [
       "0.5099925289503175"
      ]
     },
     "execution_count": 244,
     "metadata": {},
     "output_type": "execute_result"
    }
   ],
   "source": [
    "Logistic_Reg_white = grid_search0.best_estimator_.fit(x_train_white, Y_train_white)\n",
    "logis_y_white = Logistic_Reg_white.predict(x_test_white)\n",
    "np.sum(logis_y_white) / np.size(logis_y_white)"
   ]
  },
  {
   "cell_type": "code",
   "execution_count": 226,
   "metadata": {},
   "outputs": [
    {
     "data": {
      "text/plain": [
       "0.24594563061486407"
      ]
     },
     "execution_count": 226,
     "metadata": {},
     "output_type": "execute_result"
    }
   ],
   "source": [
    "Logistic_Reg_black = grid_search0.best_estimator_.fit(x_train_black, Y_train_black)\n",
    "logis_y_black = Logistic_Reg_black.predict(x_test_black)\n",
    "np.sum(logis_y_black) / np.size(logis_y_black)"
   ]
  },
  {
   "cell_type": "code",
   "execution_count": 176,
   "metadata": {},
   "outputs": [
    {
     "data": {
      "text/plain": [
       "KNeighborsClassifier(algorithm='auto', leaf_size=30, metric='minkowski',\n",
       "           metric_params=None, n_jobs=None, n_neighbors=9, p=2,\n",
       "           weights='uniform')"
      ]
     },
     "execution_count": 176,
     "metadata": {},
     "output_type": "execute_result"
    }
   ],
   "source": [
    "KNN"
   ]
  },
  {
   "cell_type": "code",
   "execution_count": 231,
   "metadata": {},
   "outputs": [
    {
     "data": {
      "text/plain": [
       "0.5345536047814718"
      ]
     },
     "execution_count": 231,
     "metadata": {},
     "output_type": "execute_result"
    }
   ],
   "source": [
    "KNN_Reg_white = grid_search.best_estimator_.fit(x_train_white, Y_train_white)\n",
    "KNN_y_white = KNN_Reg_white.predict(x_test_white)\n",
    "np.sum(KNN_y_white) / np.size(KNN_y_white)"
   ]
  },
  {
   "cell_type": "code",
   "execution_count": 232,
   "metadata": {},
   "outputs": [
    {
     "data": {
      "text/plain": [
       "0.22237778555594445"
      ]
     },
     "execution_count": 232,
     "metadata": {},
     "output_type": "execute_result"
    }
   ],
   "source": [
    "KNN_Reg_black = grid_search.best_estimator_.fit(x_train_black, Y_train_black)\n",
    "KNN_y_black = KNN_Reg_black.predict(x_test_black)\n",
    "np.sum(KNN_y_black) / np.size(KNN_y_black)"
   ]
  },
  {
   "cell_type": "code",
   "execution_count": 177,
   "metadata": {},
   "outputs": [
    {
     "data": {
      "text/plain": [
       "RandomForestClassifier(bootstrap=True, class_weight=None, criterion='entropy',\n",
       "            max_depth=20, max_features='auto', max_leaf_nodes=None,\n",
       "            min_impurity_decrease=0.0, min_impurity_split=None,\n",
       "            min_samples_leaf=1, min_samples_split=2,\n",
       "            min_weight_fraction_leaf=0.0, n_estimators=300, n_jobs=None,\n",
       "            oob_score=False, random_state=10, verbose=0, warm_start=False)"
      ]
     },
     "execution_count": 177,
     "metadata": {},
     "output_type": "execute_result"
    }
   ],
   "source": [
    "Random_forest"
   ]
  },
  {
   "cell_type": "code",
   "execution_count": 234,
   "metadata": {},
   "outputs": [
    {
     "data": {
      "text/plain": [
       "0.518864400448263"
      ]
     },
     "execution_count": 234,
     "metadata": {},
     "output_type": "execute_result"
    }
   ],
   "source": [
    "rf_Reg_white = grid_search2.best_estimator_.fit(x_train_white, Y_train_white)\n",
    "rf_y_white = rf_Reg_white.predict(x_test_white)\n",
    "np.sum(rf_y_white) / np.size(rf_y_white)"
   ]
  },
  {
   "cell_type": "code",
   "execution_count": 235,
   "metadata": {},
   "outputs": [
    {
     "data": {
      "text/plain": [
       "0.2475790456189476"
      ]
     },
     "execution_count": 235,
     "metadata": {},
     "output_type": "execute_result"
    }
   ],
   "source": [
    "rf_Reg_black = grid_search2.best_estimator_.fit(x_train_black, Y_train_black)\n",
    "rf_y_black = rf_Reg_black.predict(x_test_black)\n",
    "np.sum(rf_y_black) / np.size(rf_y_black)"
   ]
  },
  {
   "cell_type": "code",
   "execution_count": 178,
   "metadata": {},
   "outputs": [
    {
     "data": {
      "text/plain": [
       "SVC(C=10, cache_size=200, class_weight=None, coef0=0.0,\n",
       "  decision_function_shape='ovo', degree=3, gamma=0.1, kernel='rbf',\n",
       "  max_iter=-1, probability=False, random_state=None, shrinking=True,\n",
       "  tol=0.001, verbose=False)"
      ]
     },
     "execution_count": 178,
     "metadata": {},
     "output_type": "execute_result"
    }
   ],
   "source": [
    "SVM"
   ]
  },
  {
   "cell_type": "code",
   "execution_count": 237,
   "metadata": {},
   "outputs": [
    {
     "data": {
      "text/plain": [
       "0.500653716847217"
      ]
     },
     "execution_count": 237,
     "metadata": {},
     "output_type": "execute_result"
    }
   ],
   "source": [
    "svm_Reg_white = grid_search5.best_estimator_.fit(x_train_white, Y_train_white)\n",
    "svm_y_white = svm_Reg_white.predict(x_test_white)\n",
    "np.sum(svm_y_white) / np.size(svm_y_white)"
   ]
  },
  {
   "cell_type": "code",
   "execution_count": 238,
   "metadata": {},
   "outputs": [
    {
     "data": {
      "text/plain": [
       "0.2464123206160308"
      ]
     },
     "execution_count": 238,
     "metadata": {},
     "output_type": "execute_result"
    }
   ],
   "source": [
    "svm_Reg_black = grid_search5.best_estimator_.fit(x_train_black, Y_train_black)\n",
    "svm_y_black = svm_Reg_black.predict(x_test_black)\n",
    "np.sum(svm_y_black) / np.size(svm_y_black)"
   ]
  },
  {
   "cell_type": "markdown",
   "metadata": {},
   "source": [
    "## Fairness Metric: Equalized Odds"
   ]
  },
  {
   "cell_type": "code",
   "execution_count": 262,
   "metadata": {},
   "outputs": [
    {
     "data": {
      "text/plain": [
       "array([[3792,  444],\n",
       "       [1455, 5017]], dtype=int64)"
      ]
     },
     "execution_count": 262,
     "metadata": {},
     "output_type": "execute_result"
    }
   ],
   "source": [
    "confusion_log_white = confusion_matrix(Y_test_white, logis_y_white)\n",
    "confusion_log_black = confusion_matrix(Y_test_black, logis_y_black)\n",
    "confusion_log_white"
   ]
  },
  {
   "cell_type": "code",
   "execution_count": 255,
   "metadata": {},
   "outputs": [
    {
     "data": {
      "text/plain": [
       "0.9186962094854422"
      ]
     },
     "execution_count": 255,
     "metadata": {},
     "output_type": "execute_result"
    }
   ],
   "source": [
    "TPR_white_log = confusion_log_white[1][1] / (confusion_log_white[1][1] + confusion_log_white[0][1] )\n",
    "TPR_white_log"
   ]
  },
  {
   "cell_type": "code",
   "execution_count": 256,
   "metadata": {},
   "outputs": [
    {
     "data": {
      "text/plain": [
       "0.9985768500948766"
      ]
     },
     "execution_count": 256,
     "metadata": {},
     "output_type": "execute_result"
    }
   ],
   "source": [
    "TPR_black_log = confusion_log_black[1][1] / (confusion_log_black[1][1] + confusion_log_black[0][1] )\n",
    "TPR_black_log"
   ]
  },
  {
   "cell_type": "code",
   "execution_count": 263,
   "metadata": {},
   "outputs": [
    {
     "data": {
      "text/plain": [
       "0.2773013150371641"
      ]
     },
     "execution_count": 263,
     "metadata": {},
     "output_type": "execute_result"
    }
   ],
   "source": [
    "FPR_white_log = confusion_log_white[1][0] / (confusion_log_white[0][0] + confusion_log_white[1][0] )\n",
    "FPR_white_log"
   ]
  },
  {
   "cell_type": "code",
   "execution_count": 264,
   "metadata": {},
   "outputs": [
    {
     "data": {
      "text/plain": [
       "0.1409562122853164"
      ]
     },
     "execution_count": 264,
     "metadata": {},
     "output_type": "execute_result"
    }
   ],
   "source": [
    "FPR_black_log = confusion_log_black[1][0] / (confusion_log_black[0][0] + confusion_log_black[1][0] )\n",
    "FPR_black_log"
   ]
  },
  {
   "cell_type": "code",
   "execution_count": 257,
   "metadata": {},
   "outputs": [
    {
     "data": {
      "text/plain": [
       "array([[5542,   13],\n",
       "       [ 907, 2109]], dtype=int64)"
      ]
     },
     "execution_count": 257,
     "metadata": {},
     "output_type": "execute_result"
    }
   ],
   "source": [
    "confusion_rf_white = confusion_matrix(Y_test_white, rf_y_white)\n",
    "confusion_rf_black = confusion_matrix(Y_test_black, rf_y_black)\n",
    "confusion_rf_black"
   ]
  },
  {
   "cell_type": "code",
   "execution_count": 258,
   "metadata": {},
   "outputs": [
    {
     "data": {
      "text/plain": [
       "0.9188264938804895"
      ]
     },
     "execution_count": 258,
     "metadata": {},
     "output_type": "execute_result"
    }
   ],
   "source": [
    "TPR_white_rf = confusion_rf_white[1][1] / (confusion_rf_white[1][1] + confusion_rf_white[0][1] )\n",
    "TPR_white_rf"
   ]
  },
  {
   "cell_type": "code",
   "execution_count": 259,
   "metadata": {},
   "outputs": [
    {
     "data": {
      "text/plain": [
       "0.9938737040527804"
      ]
     },
     "execution_count": 259,
     "metadata": {},
     "output_type": "execute_result"
    }
   ],
   "source": [
    "TPR_black_rf = confusion_rf_black[1][1] / (confusion_rf_black[1][1] + confusion_rf_black[0][1] )\n",
    "TPR_black_rf"
   ]
  },
  {
   "cell_type": "code",
   "execution_count": 265,
   "metadata": {},
   "outputs": [
    {
     "data": {
      "text/plain": [
       "0.265333850931677"
      ]
     },
     "execution_count": 265,
     "metadata": {},
     "output_type": "execute_result"
    }
   ],
   "source": [
    "FPR_white_rf = confusion_rf_white[1][0] / (confusion_rf_white[0][0] + confusion_rf_white[1][0] )\n",
    "FPR_white_rf"
   ]
  },
  {
   "cell_type": "code",
   "execution_count": 266,
   "metadata": {},
   "outputs": [
    {
     "data": {
      "text/plain": [
       "0.1406419599937975"
      ]
     },
     "execution_count": 266,
     "metadata": {},
     "output_type": "execute_result"
    }
   ],
   "source": [
    "FPR_black_rf = confusion_rf_black[1][0] / (confusion_rf_black[0][0] + confusion_rf_black[1][0] )\n",
    "FPR_black_rf"
   ]
  },
  {
   "cell_type": "code",
   "execution_count": 268,
   "metadata": {},
   "outputs": [
    {
     "data": {
      "text/plain": [
       "array([[5411,  144],\n",
       "       [1254, 1762]], dtype=int64)"
      ]
     },
     "execution_count": 268,
     "metadata": {},
     "output_type": "execute_result"
    }
   ],
   "source": [
    "confusion_knn_white = confusion_matrix(Y_test_white, KNN_y_white)\n",
    "confusion_knn_black = confusion_matrix(Y_test_black, KNN_y_black)\n",
    "confusion_knn_black"
   ]
  },
  {
   "cell_type": "code",
   "execution_count": 269,
   "metadata": {},
   "outputs": [
    {
     "data": {
      "text/plain": [
       "0.86722571628232"
      ]
     },
     "execution_count": 269,
     "metadata": {},
     "output_type": "execute_result"
    }
   ],
   "source": [
    "TPR_white_knn = confusion_knn_white[1][1] / (confusion_knn_white[1][1] + confusion_knn_white[0][1] )\n",
    "TPR_white_knn"
   ]
  },
  {
   "cell_type": "code",
   "execution_count": 270,
   "metadata": {},
   "outputs": [
    {
     "data": {
      "text/plain": [
       "0.9244491080797481"
      ]
     },
     "execution_count": 270,
     "metadata": {},
     "output_type": "execute_result"
    }
   ],
   "source": [
    "TPR_black_knn = confusion_knn_black[1][1] / (confusion_knn_black[1][1] + confusion_knn_black[0][1] )\n",
    "TPR_black_knn"
   ]
  },
  {
   "cell_type": "code",
   "execution_count": 271,
   "metadata": {},
   "outputs": [
    {
     "data": {
      "text/plain": [
       "0.3025682182985554"
      ]
     },
     "execution_count": 271,
     "metadata": {},
     "output_type": "execute_result"
    }
   ],
   "source": [
    "FPR_white_knn = confusion_knn_white[1][0] / (confusion_knn_white[0][0] + confusion_knn_white[1][0] )\n",
    "FPR_white_knn"
   ]
  },
  {
   "cell_type": "code",
   "execution_count": 272,
   "metadata": {},
   "outputs": [
    {
     "data": {
      "text/plain": [
       "0.18814703675918978"
      ]
     },
     "execution_count": 272,
     "metadata": {},
     "output_type": "execute_result"
    }
   ],
   "source": [
    "FPR_black_knn = confusion_knn_black[1][0] / (confusion_knn_black[0][0] + confusion_knn_black[1][0] )\n",
    "FPR_black_knn"
   ]
  },
  {
   "cell_type": "code",
   "execution_count": 273,
   "metadata": {},
   "outputs": [
    {
     "data": {
      "text/plain": [
       "array([[5549,    6],\n",
       "       [ 910, 2106]], dtype=int64)"
      ]
     },
     "execution_count": 273,
     "metadata": {},
     "output_type": "execute_result"
    }
   ],
   "source": [
    "confusion_svm_white = confusion_matrix(Y_test_white, svm_y_white)\n",
    "confusion_svm_black = confusion_matrix(Y_test_black, svm_y_black)\n",
    "confusion_svm_black"
   ]
  },
  {
   "cell_type": "code",
   "execution_count": 274,
   "metadata": {},
   "outputs": [
    {
     "data": {
      "text/plain": [
       "0.9302368961014736"
      ]
     },
     "execution_count": 274,
     "metadata": {},
     "output_type": "execute_result"
    }
   ],
   "source": [
    "TPR_white_svm = confusion_svm_white[1][1] / (confusion_svm_white[1][1] + confusion_svm_white[0][1] )\n",
    "TPR_white_svm"
   ]
  },
  {
   "cell_type": "code",
   "execution_count": 275,
   "metadata": {},
   "outputs": [
    {
     "data": {
      "text/plain": [
       "0.9971590909090909"
      ]
     },
     "execution_count": 275,
     "metadata": {},
     "output_type": "execute_result"
    }
   ],
   "source": [
    "TPR_black_svm = confusion_svm_black[1][1] / (confusion_svm_black[1][1] + confusion_svm_black[0][1] )\n",
    "TPR_black_svm"
   ]
  },
  {
   "cell_type": "code",
   "execution_count": 277,
   "metadata": {},
   "outputs": [
    {
     "data": {
      "text/plain": [
       "0.27772582756685993"
      ]
     },
     "execution_count": 277,
     "metadata": {},
     "output_type": "execute_result"
    }
   ],
   "source": [
    "FPR_white_svm= confusion_svm_white[1][0] / (confusion_svm_white[0][0] + confusion_svm_white[1][0] )\n",
    "FPR_white_svm"
   ]
  },
  {
   "cell_type": "code",
   "execution_count": 276,
   "metadata": {},
   "outputs": [
    {
     "data": {
      "text/plain": [
       "0.1408886824585849"
      ]
     },
     "execution_count": 276,
     "metadata": {},
     "output_type": "execute_result"
    }
   ],
   "source": [
    "FPR_black_svm= confusion_svm_black[1][0] / (confusion_svm_black[0][0] + confusion_svm_black[1][0] )\n",
    "FPR_black_svm"
   ]
  },
  {
   "cell_type": "code",
   "execution_count": null,
   "metadata": {},
   "outputs": [],
   "source": []
  },
  {
   "cell_type": "markdown",
   "metadata": {},
   "source": [
    "## 6. References of Source Code"
   ]
  },
  {
   "cell_type": "markdown",
   "metadata": {},
   "source": [
    "Here are all the websites, related works and documents we have referred to. For the literature review part, please check the final paper for details.\n",
    "\n",
    "Sklearn:\n",
    "- LabelEncoder instruction: https://scikit-learn.org/stable/modules/generated/sklearn.preprocessing.LabelEncoder.html\n",
    "- LogisticRegressionCV instruction: https://scikit-learn.org/stable/modules/generated/sklearn.linear_model.LogisticRegressionCV.html\n",
    "- KNeighborsClassifier instruction: https://scikit-learn.org/stable/modules/generated/sklearn.neighbors.KNeighborsClassifier.html\n",
    "- MultinomialNB instruction: https://scikit-learn.org/stable/modules/generated/sklearn.naive_bayes.MultinomialNB.html\n",
    "- RandomForestClassifier instruction: https://scikit-learn.org/stable/modules/generated/sklearn.ensemble.RandomForestClassifier.html\n",
    "- DecisionTreeClassifier instruction: https://scikit-learn.org/stable/modules/generated/sklearn.tree.DecisionTreeClassifier.html\n",
    "- MLPClassifier instruction: https://scikit-learn.org/stable/modules/generated/sklearn.neural_network.MLPClassifier.html\n",
    "- SVC instruction: https://scikit-learn.org/stable/modules/generated/sklearn.svm.SVC.html\n",
    "\n",
    "Keras:\n",
    "- Keras Instruction: https://keras.io/models/model/\n",
    "- Loss Definition: https://keras.io/losses/\n",
    "- Multiclass classification tutorial: https://machinelearningmastery.com/multi-class-classification-tutorial-keras-deep-learning-library/\n",
    "\n",
    "How to tuning parameters (Some documents are in Chinese):\n",
    "- LogisticRegressionCV summary: https://www.cnblogs.com/pinard/p/6035872.html\n",
    "- KNeighborsClassifier example and summary: https://zhuanlan.zhihu.com/p/23191325\n",
    "- How to choose a good K: https://www.quora.com/How-can-I-choose-the-best-K-in-KNN-K-nearest-neighbour-classification\n",
    "- RandomForestClassifier summary: http://www.cnblogs.com/pinard/p/6160412.html\n",
    "- DecisionTreeClassifier summary: https://www.jianshu.com/p/78594737b4b4\n",
    "- MLPClassifier example and summary: https://blog.csdn.net/u011311291/article/details/78743393\n",
    "- MLPClassifier parameters analysis: https://blog.csdn.net/Mrzhang0419/article/details/79519994\n",
    "- Basics of Naive Bayes: https://harshanavalkar.blogspot.com/2018/10/basics-of-naive-bayes-algorithm-data.html\n",
    "- SVC summary: https://blog.csdn.net/github_39261590/article/details/75009069\n",
    "- SVC example: https://blog.csdn.net/SummerStoneS/article/details/78551757\n",
    "- Prior selection of SVM class_weight: https://stats.stackexchange.com/questions/24959/a-priori-selection-of-svm-class-weights?rq=1\n",
    "- StackClassifier parameters analysis: https://blog.csdn.net/github_35965351/article/details/60763606\n",
    "\n",
    "Other documents and related works we refered to:\n",
    "- Example of Random Forest Classification with CV: https://www.kaggle.com/akp1596/titanic-problem-random-forest-classifier-with-cv\n",
    "- Ensemble Methods example: https://github.com/vsmolyakov/experiments_with_python/blob/master/chp01/ensemble_methods.ipynb\n",
    "- Multiclass classification example: https://github.com/sundeeppothula1993/Multi-class-classification/blob/master/Multi-class%2BClassification.ipynb\n",
    "- Guidance to encode categorical values: http://pbpython.com/categorical-encoding.html\n",
    "- Professor Enric Junque de Fortuny's Machine Learning Notes: http://10.208.12.75/book/index.html\n"
   ]
  }
 ],
 "metadata": {
  "kernelspec": {
   "display_name": "Python 3",
   "language": "python",
   "name": "python3"
  },
  "language_info": {
   "codemirror_mode": {
    "name": "ipython",
    "version": 3
   },
   "file_extension": ".py",
   "mimetype": "text/x-python",
   "name": "python",
   "nbconvert_exporter": "python",
   "pygments_lexer": "ipython3",
   "version": "3.6.5"
  }
 },
 "nbformat": 4,
 "nbformat_minor": 2
}
